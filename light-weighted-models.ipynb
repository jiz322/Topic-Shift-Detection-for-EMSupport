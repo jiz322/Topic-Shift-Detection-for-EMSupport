{
 "cells": [
  {
   "cell_type": "code",
   "execution_count": 158,
   "metadata": {},
   "outputs": [
    {
     "data": {
      "text/plain": [
       "32012"
      ]
     },
     "execution_count": 158,
     "metadata": {},
     "output_type": "execute_result"
    }
   ],
   "source": [
    "import os\n",
    "os.getpid()"
   ]
  },
  {
   "cell_type": "code",
   "execution_count": 159,
   "metadata": {
    "scrolled": true
   },
   "outputs": [
    {
     "data": {
      "text/plain": [
       "Counter({1: 2144, 0: 1068, 2: 1521, 3: 923, 4: 1686, 6: 183, 5: 172, 7: 69})"
      ]
     },
     "execution_count": 159,
     "metadata": {},
     "output_type": "execute_result"
    }
   ],
   "source": [
    "import json\n",
    "f = open('ESConv.json')\n",
    "data = json.load(f)\n",
    "f.close()\n",
    "processed_data = []\n",
    "for i in data:\n",
    "    pt = i['problem_type']\n",
    "    if pt == 'Issues with Parents' or pt == 'conflict with parents' or pt == 'Issues with Children':\n",
    "        processed_data.append(('Issues with Families', i['situation']))\n",
    "        for j in i['dialog']:\n",
    "            processed_data.append(('Issues with Families', j['content']))\n",
    "    elif pt != 'School Bullying' and pt != 'Procrastination' and pt != 'Appearance Anxiety':\n",
    "        processed_data.append((pt, i['situation']))\n",
    "        for j in i['dialog']:\n",
    "            processed_data.append((pt, j['content']))\n",
    "sl = []\n",
    "for i in processed_data:\n",
    "    sl.append(len(i[1].split()))\n",
    "    \n",
    "kept = ['problems with friends',\n",
    "        'ongoing depression',\n",
    "        'breakup with partner',\n",
    "        'academic pressure',\n",
    "        'job crisis',\n",
    "        'Sleep Problems',\n",
    "        'Issues with Families',\n",
    "        'Alcohol Abuse'  ]\n",
    "\n",
    "filtered_processed_data = []\n",
    "for i in processed_data:\n",
    "    if i[0] in kept:\n",
    "        filtered_processed_data.append(list(i))\n",
    "        filtered_processed_data[-1][0] = kept.index(filtered_processed_data[-1][0])\n",
    "import random\n",
    "random.seed(10)\n",
    "random.shuffle(filtered_processed_data)\n",
    "lenth = len(filtered_processed_data)\n",
    "train_list = filtered_processed_data[0:int(lenth*0.8)]\n",
    "test_list = filtered_processed_data[int(lenth*0.8):]\n",
    "from collections import Counter\n",
    "# Count labels in testing\n",
    "lts = []\n",
    "for i in test_list:\n",
    "    lts.append(i[0])\n",
    "Counter(lts)"
   ]
  },
  {
   "cell_type": "code",
   "execution_count": 160,
   "metadata": {},
   "outputs": [],
   "source": [
    "def printClass(c):\n",
    "    for i in processed_data:\n",
    "        if i[0] == c:\n",
    "            print(i[1])"
   ]
  },
  {
   "cell_type": "code",
   "execution_count": 161,
   "metadata": {},
   "outputs": [],
   "source": [
    "printClass('Procrastination')"
   ]
  },
  {
   "cell_type": "code",
   "execution_count": 162,
   "metadata": {},
   "outputs": [],
   "source": [
    "# Note: remove school Bullying\n",
    "# Merge 'conflict with parents', 'Issues with Parents', 'Issues with Children'"
   ]
  },
  {
   "cell_type": "code",
   "execution_count": 163,
   "metadata": {},
   "outputs": [
    {
     "name": "stdout",
     "output_type": "stream",
     "text": [
      "I\n"
     ]
    }
   ],
   "source": [
    "list4 = []\n",
    "for i in filtered_processed_data:\n",
    "    list4.extend(i[1].split(\" \"))\n",
    "print(list4[0])\n",
    "\n",
    "from collections import Counter\n",
    "import re\n",
    "\n",
    "c = Counter(list4)"
   ]
  },
  {
   "cell_type": "code",
   "execution_count": 165,
   "metadata": {},
   "outputs": [
    {
     "data": {
      "text/plain": [
       "('news', 60)"
      ]
     },
     "execution_count": 165,
     "metadata": {},
     "output_type": "execute_result"
    }
   ],
   "source": [
    "c.most_common(1000)[-1]"
   ]
  },
  {
   "cell_type": "code",
   "execution_count": 167,
   "metadata": {},
   "outputs": [
    {
     "data": {
      "text/plain": [
       "'news'"
      ]
     },
     "execution_count": 167,
     "metadata": {},
     "output_type": "execute_result"
    }
   ],
   "source": [
    "# NB: In this version,\n",
    "# WE ONLY embed for frequent words.\n",
    "# Other words are all converterted to \"N0O0N\"\n",
    "selected = c.most_common(1000)\n",
    "selected_index_word = []\n",
    "for i in selected:\n",
    "    selected_index_word.append(i[0])\n",
    "selected_index_word[-1]"
   ]
  },
  {
   "cell_type": "code",
   "execution_count": 168,
   "metadata": {},
   "outputs": [],
   "source": [
    "# convert to N0O0N\n",
    "def convert(word_list):\n",
    "    for i, v in enumerate(word_list):\n",
    "        if v not in selected_index_word:\n",
    "            word_list[i] = \"N0O0N\"\n",
    "    return word_list"
   ]
  },
  {
   "cell_type": "code",
   "execution_count": 169,
   "metadata": {},
   "outputs": [],
   "source": [
    "import numpy as np\n",
    "\n",
    "import torch\n",
    "from torch.utils.data.sampler import BatchSampler, Sampler\n",
    "from torch.utils.data import Dataset, DataLoader\n",
    "from torch.nn.utils.rnn import pad_sequence\n",
    "\n",
    "import random\n",
    "from tqdm import tqdm\n",
    "\n",
    "SEED=4321\n",
    "random.seed(SEED)\n",
    "np.random.seed(SEED)\n",
    "\n",
    "\n",
    "class Corpora():\n",
    "    \"\"\"\n",
    "    The class holds training and test corpora.\n",
    "    \"\"\"\n",
    "\n",
    "    def __init__(self):\n",
    "        \"\"\"\n",
    "        Constructor\n",
    "        \"\"\"\n",
    "        # word to index (1-based integers) mapping\n",
    "        self.word_index = {\"N0O0N\":0}\n",
    "        self.index_word = [\"N0O0N\"]\n",
    "        # list of reviews tuples, each of which is (sentence_list, rate),\n",
    "        self.training_reviews = []\n",
    "        # (sentence_list, rate) Same format as training_sentences\n",
    "        self.test_reviews = []\n",
    "\n",
    "        self.max_len = 0\n",
    "\n",
    "\n",
    "    # input: a tuple (reviewList, rate)\n",
    "    # todo: insert values into fields\n",
    "    # Return the list representing all index of words in a review.\n",
    "    def insert_fields(self, input):   \n",
    "        # Sentence list\n",
    "        word_indexes = []\n",
    "        for word in input:\n",
    "            if word not in self.word_index.keys():\n",
    "                self.word_index.update({word:len(self.word_index.keys())}) #No add 1 because 0 is already in\n",
    "                self.index_word.append(word)\n",
    "            # find the index of this word, add to return list\n",
    "            word_indexes.append(self.word_index[word])\n",
    "        if len(word_indexes)>self.max_len:\n",
    "            self.max_len = len(word_indexes)\n",
    "        return word_indexes\n",
    "    \n",
    "    \n",
    "    \n",
    "    \n",
    "    # Different than P2, here we \n",
    "    def read_corpus(self, is_training):\n",
    "        if is_training is True:\n",
    "            target = train_list\n",
    "        else:\n",
    "            target = test_list\n",
    "        print(\"reading corpus ...\")\n",
    "        for rate, text in tqdm(target):\n",
    "            input = text.split(\" \")\n",
    "            input = convert(input)\n",
    "            tuple = (self.insert_fields(input), rate)\n",
    "            if is_training: \n",
    "                self.training_reviews.append(tuple)\n",
    "            else:\n",
    "                self.test_reviews.append(tuple)\n",
    "                    \n",
    "                \n",
    "# Inherient Dataset, convert list and int to tensors, load to GPU.\n",
    "class ReviewRateDataset(Dataset):\n",
    "   \n",
    "    def __init__(self, review_rate_pairs): # NB: sequence_pairs is corpora.training_reviews, \n",
    "        # list of (sentence_list, rate)\n",
    "        self.review_rate_pairs = review_rate_pairs\n",
    "\n",
    "    def __len__(self):\n",
    "        return len(self.review_rate_pairs)\n",
    "\n",
    "    def __getitem__(self, idx):\n",
    "        sentence_list, rate = self.review_rate_pairs[idx] \n",
    "        return torch.tensor(sentence_list), torch.tensor(int(rate))\n",
    "\n",
    "# NB! This class will be in DataLoader function as a parameter for batch_sampler\n",
    "class SortedBatchSampler(Sampler):\n",
    "    \"\"\"\n",
    "        Each sequence in a mini-batch must of the same lengths, while our sentences\n",
    "        are of various lengths.\n",
    "        We can pad the sentences to the same lengths in each mini-batch.\n",
    "        But if a short and long sentences are in the same mini-batch, more paddings\n",
    "        are needed.\n",
    "        We sort the sentences based on their lengths (in descending order)\n",
    "            and then put sentences with similar lengths in a batch to reduce the paddings.\n",
    "    \"\"\"\n",
    "    def __init__(self, dataset, batch_size):\n",
    "        \"\"\"\n",
    "            dataset: an torch.utils.data.DataSet object containing all training sequences\n",
    "            batch_size: the number of sequences to put in a mini-batch\n",
    "        \"\"\"\n",
    "\n",
    "        # The sorting and batching go within this function.      \n",
    "        self.batch_size = batch_size \n",
    "        # Sort the dataset (Based on the length of sentence.)\n",
    "        dataset.review_rate_pairs  = sorted(dataset.review_rate_pairs,key=lambda x:len(x[0]), reverse=True)\n",
    "        self.sorted_lengths = len(dataset)\n",
    "        # Batching: Split the dataset into a list of datasets\n",
    "        self.index_batches = []  \n",
    "        # -- NB: Collate function does not work, so I pad it directly.\n",
    "        for i in range(self.__len__()):\n",
    "            self.index_batches.append(padding_collate_func(ReviewRateDataset(dataset.review_rate_pairs[i*batch_size:i*batch_size+batch_size])))\n",
    "        # Now, each mini-batches is a ReviewRateDataset object\n",
    "        # If else format is needed, may change it latter.\n",
    "        \n",
    "        \n",
    "    def __iter__(self):\n",
    "        \"\"\"\n",
    "            return a Python iterator object that iterates the mini-batchs of\n",
    "                training data indices (not individual indices)\n",
    "        \"\"\"\n",
    "        return iter(self.index_batches)\n",
    "\n",
    "    def __len__(self):\n",
    "        return self.sorted_lengths // self.batch_size\n",
    "\n",
    "# NB! This function will be in DataLoader function as a parameter for collate_fn\n",
    "def padding_collate_func(batch):\n",
    "    \"\"\"\n",
    "        Transform pairs of input-output sequences in the batch to be of the same length using the function\n",
    "            torch.nn.utils.rnn.pad_sequence.\n",
    "        batch: An iterator and each element is a pair of (input_sequence, output_sequence).\n",
    "        For POS tagging, len(input_sequence) = len(output_sequence). But for different\n",
    "        pairs in batch, their lengths can differ.\n",
    "\n",
    "        Example: a batch of 3 pairs of input/output sequences\n",
    "                [([1,2,3],[1,1,1]), ([1,2,3,4],[2,2,2,2]), ([1,2,3,4,5],[3,3,3,3,3])]\n",
    "                Note: [] encloses tensors (not numpy arra ys)\n",
    "                \n",
    "                \n",
    "                !!!!!NB QUESTION:  it is the inner [] that encloses tensors, right?\n",
    "                Comment: Batch is an element of a Sampler (see test_p1.py, a l[0] is a batch)\n",
    "                \n",
    "                \n",
    "        return: two tensors (one for input sequence batch and another for output sequence batch).\n",
    "                These tensors are padded with zeros so that all sequences in the same batch\n",
    "                are of the same length.\n",
    "        Example: input_sequence_batch = [[1,2,3,0,0], [1,2,3,4,0], [1,2,3,4,5]],\n",
    "                 output_sequence_batch = [[1,1,1,0,0], [2,2,2,2,0], [3,3,3,3,3]]\n",
    "\n",
    "    \"\"\"\n",
    "    ### Your codes go here (5 points) ###\n",
    "    # Hint: read the article linked at the top of this cell.\n",
    "    \n",
    "    # NOTe\n",
    "    # len(batch[0][0]) == len(batch.sequence_pairs[0]) == the target value (the maximum length for each batch)\n",
    "    # I fill it might be easier to pad sequence_pairs with tuple (0,0), but let's see.\n",
    "    \n",
    "    # Doubles the memory takes by this batch, which is not good\n",
    "    new_l = []\n",
    "    rate = []\n",
    "    for i,j in batch.review_rate_pairs:\n",
    "        new_l.append( torch.tensor(i))\n",
    "        rate.append( torch.tensor(int(j)))\n",
    "    padded = pad_sequence(new_l, batch_first=True, padding_value=0)\n",
    "    #print(\"len \", len(padded), len(rate)) #BUG: NEED ZIP HERE\n",
    "    obj = ReviewRateDataset(list(zip(padded,rate)))\n",
    "    # NB: For now the outter [] is neither tensor nor list, it is an obj!\n",
    "    # Change latter if necessary\n",
    "    # Yes, let's change it to two tensors return\n",
    "    ret1 = []\n",
    "    ret2 = []\n",
    "    for i in obj:\n",
    "        ret1.append(i[0])\n",
    "        ret2.append(i[1])\n",
    "    ret1 = torch.stack(ret1)\n",
    "    ret2 = torch.stack(ret2)\n",
    "    return ret1, ret2"
   ]
  },
  {
   "cell_type": "code",
   "execution_count": 170,
   "metadata": {},
   "outputs": [
    {
     "name": "stdout",
     "output_type": "stream",
     "text": [
      "reading corpus ...\n"
     ]
    },
    {
     "name": "stderr",
     "output_type": "stream",
     "text": [
      "100%|██████████| 31062/31062 [00:03<00:00, 10174.37it/s]\n"
     ]
    },
    {
     "name": "stdout",
     "output_type": "stream",
     "text": [
      "reading corpus ...\n"
     ]
    },
    {
     "name": "stderr",
     "output_type": "stream",
     "text": [
      "100%|██████████| 7766/7766 [00:00<00:00, 10385.41it/s]\n",
      "/opt/tljh/user/lib/python3.7/site-packages/ipykernel_launcher.py:84: UserWarning: To copy construct from a tensor, it is recommended to use sourceTensor.clone().detach() or sourceTensor.clone().detach().requires_grad_(True), rather than torch.tensor(sourceTensor).\n"
     ]
    },
    {
     "name": "stdout",
     "output_type": "stream",
     "text": [
      "Number of training sentences = 31062\n",
      "Number of test sentences = 7766\n",
      "Number of unique input tokens = 1001\n",
      "Maximal sentence length = 199\n",
      "\n",
      "\n",
      " Creating training Dataset, Sampler, and Iterators...\n",
      "\n",
      "\n",
      " Creating test Dataset, Sampler, and Iterators\n",
      "Training first batch max length = 199\n",
      "Training second batch max length = 94\n",
      "Training last batch max length = 1\n",
      "Training second last batch max length = 1\n"
     ]
    }
   ],
   "source": [
    "# NB: DO NOT RE-RUN THIS CELL\n",
    "# NB: DO NOT RE-RUN THIS CELL\n",
    "# NB: DO NOT RE-RUN THIS CELL\n",
    "# NB: DO NOT RE-RUN THIS CELL\n",
    "# NB: DO NOT RE-RUN THIS CELL\n",
    "# NB: DO NOT RE-RUN THIS CELL\n",
    "\n",
    "#\n",
    "#\n",
    "from torch import optim\n",
    "import time\n",
    "import math\n",
    "\n",
    "BATCH_SIZE = 64\n",
    "\n",
    "\n",
    "corpora = Corpora()\n",
    "\n",
    "corpora.read_corpus(True)\n",
    "corpora.read_corpus(False)\n",
    "\n",
    "print(f'Number of training sentences = {len(corpora.training_reviews)}')\n",
    "print(f'Number of test sentences = {len(corpora.test_reviews)}')\n",
    "print(f'Number of unique input tokens = {len(corpora.word_index)}')\n",
    "print(f'Maximal sentence length = {corpora.max_len}')\n",
    "\n",
    "print(\"\\n\\n Creating training Dataset, Sampler, and Iterators...\")\n",
    "training_dataset = ReviewRateDataset(corpora.training_reviews)\n",
    "training_sampler = SortedBatchSampler(training_dataset, batch_size=BATCH_SIZE)\n",
    "training_iterator = DataLoader(training_dataset,\n",
    "                                  collate_fn = padding_collate_func,\n",
    "                                  batch_sampler = training_sampler)\n",
    "print(\"\\n\\n Creating test Dataset, Sampler, and Iterators\")\n",
    "test_dataset = ReviewRateDataset(corpora.test_reviews)\n",
    "test_sampler = SortedBatchSampler(test_dataset, batch_size=BATCH_SIZE)\n",
    "test_iterator = DataLoader(test_dataset,\n",
    "                              collate_fn = padding_collate_func,\n",
    "                              batch_sampler = test_sampler)\n",
    "\n",
    "print(f'Training first batch max length = {len(list(training_sampler)[0][0][0])}')\n",
    "print(f'Training second batch max length = {len(list(training_sampler)[1][0][0])}')\n",
    "print(f'Training last batch max length = {len(list(training_sampler)[-1][0][0])}')\n",
    "print(f'Training second last batch max length = {len(list(training_sampler)[-2][0][0])}')"
   ]
  },
  {
   "cell_type": "code",
   "execution_count": 171,
   "metadata": {},
   "outputs": [],
   "source": [
    "from torch import embedding, nn\n",
    "# There is really nothing to be stored in this object.\n",
    "# -- But wait, how about self.rnn and self.fc?\n",
    "# -- NB: NOW, I assume that the nn keep weights from the inherentance,\n",
    "# -- And these functions as LSTM and FC will use these weight correctly\n",
    "class FeatureExtractor(nn.Module):\n",
    "    def __init__(self, input_dim):\n",
    "        \"\"\"\n",
    "        :param input_dim: size of the vocabulary (number of unique tokens)\n",
    "        :param output_dim: number of unique POS tags \n",
    "        :param emb_dim: embedding dimensionality of each token\n",
    "        :param hid_dim: number of hidden neurons of a hidden state/cell\n",
    "        :param n_layers: number of RNN layers (2 for faster training)\n",
    "        :param dropout: dropout rate between 0 and 1at the embedding layer and rnn\n",
    "        :param bidirectional: 1 if use bidirectional and 0 if don't\n",
    "        \"\"\"\n",
    "        super().__init__()\n",
    "        \n",
    "        self.embedding = nn.Embedding(len(corpora.word_index), 8)\n",
    "        \n",
    "\n",
    "\n",
    "\n",
    "    def forward(self, src):\n",
    "        \"\"\"\n",
    "\n",
    "        :param src: a [batch_size, sentence_len] array.\n",
    "                     Each row is a sequence of word indices and each column represents a position in the sequence.\n",
    "        :return: the predicted logits at each position. \n",
    "        \"\"\"\n",
    "        emb = self.embedding(src)\n",
    "        z = torch.sum(emb,dim=1)\n",
    "        d = torch.softmax(z, dim=-1)\n",
    "\n",
    "        # Notice that we compute d in the process of training\n",
    "        # No need to compute two times of softmax, which will make prediction inaccurate.\n",
    "        return z"
   ]
  },
  {
   "cell_type": "code",
   "execution_count": 172,
   "metadata": {},
   "outputs": [
    {
     "name": "stdout",
     "output_type": "stream",
     "text": [
      "Adam (\n",
      "Parameter Group 0\n",
      "    amsgrad: False\n",
      "    betas: (0.9, 0.999)\n",
      "    eps: 1e-08\n",
      "    lr: 0.0005\n",
      "    weight_decay: 0\n",
      ")\n"
     ]
    }
   ],
   "source": [
    "INPUT_DIM = len(corpora.word_index)\n",
    "\n",
    "# initialize the model\n",
    "featureExtractor = FeatureExtractor(INPUT_DIM).cpu()\n",
    "\n",
    "# Glove Embedding here?\n",
    "def init_weights(model):\n",
    "    for name, param in model.named_parameters():\n",
    "        nn.init.uniform_(param.data, -0.08, 0.08)\n",
    "\n",
    "featureExtractor.apply(init_weights)\n",
    "\n",
    "optimizer = optim.Adam(featureExtractor.parameters())\n",
    "\n",
    "\n",
    "tmp = optimizer.state_dict()\n",
    "tmp[\"param_groups\"][0][\"lr\"] = 0.0005\n",
    "optimizer.load_state_dict(tmp)\n",
    "print(optimizer)\n",
    "\n",
    "# we use 0 to represent padded POS tags and the loss function should ignore that.\n",
    "# we calculate the sum of losses of pairs in each batch\n",
    "PAD_INDEX = 0\n",
    "\n",
    "\n",
    "# input: vector of [length, output_dim], integer (score)\n",
    "\n",
    "N_EPOCHS = 100\n",
    "CLIP = 1\n",
    "\n",
    "best_test_loss = float('inf')\n",
    "criterion = nn.CrossEntropyLoss(reduction = 'sum')\n",
    "training_losses = []\n",
    "test_losses = []"
   ]
  },
  {
   "cell_type": "code",
   "execution_count": 173,
   "metadata": {},
   "outputs": [],
   "source": [
    "#device = torch.device('cuda' if torch.cuda.is_available() else 'cpu')\n",
    "\n",
    "# -- The Iterator is a Dataloader object. \n",
    "# -- Use for loop in iterator.batch_sampler to access each batches\n",
    "# -- In this case, each batches is having length 128\n",
    "\n",
    "# -- Need to Figure out: The way to compute loss for RNN\n",
    "num_epochs_train = 0\n",
    "\n",
    "def train(model, iterator, optimizer, criterion, clip):\n",
    "     \n",
    "    global num_epochs_train\n",
    "        \n",
    "    \n",
    "    if num_epochs_train == 0:\n",
    "        tmp = optimizer.state_dict()\n",
    "        tmp[\"param_groups\"][0][\"lr\"] = 0.008\n",
    "        \n",
    "    \n",
    "    model.train()\n",
    "\n",
    "    epoch_loss = 0\n",
    "    num_batchs = 0\n",
    "    total = 0\n",
    "    random.shuffle(iterator.batch_sampler.index_batches)\n",
    "    \n",
    "    # batch[0]: the word batch\n",
    "    # batch[1]: the tag batch (target)\n",
    "    print(\"training ...\")\n",
    "    for i, batch in tqdm(enumerate(iterator.batch_sampler)):\n",
    "        # NB: SURPRISE! THE LINE BELOW BOOST TEST ACCURACY\n",
    "        optimizer.zero_grad()\n",
    "#         #skip first batch\n",
    "#         if i == 0:\n",
    "#             continue\n",
    "        num_batchs += 1\n",
    "        z = featureExtractor.forward(batch[0].cpu())\n",
    "        #a = torch.softmax(z,dim=-1)\n",
    "        loss = 0\n",
    "        # softmax of logit\n",
    "        d = torch.softmax(z,dim=-1)\n",
    "        # cross entropy loss of softmax and score\n",
    "        loss=criterion(d,(batch[1]).cpu())/BATCH_SIZE\n",
    "        loss.backward()\n",
    "        # Clips gradient norm of an iterable of parameters.\n",
    "        torch.nn.utils.clip_grad_norm_(model.parameters(), clip)\n",
    "        optimizer.step()\n",
    "        epoch_loss += loss.item()\n",
    "        total += 1\n",
    "    num_epochs_train += 1\n",
    "\n",
    "    return epoch_loss /total\n",
    "\n",
    "confusion_matrix = []\n",
    "num_epochs = 0\n",
    "\n",
    "def evaluate(model, iterator, criterion):\n",
    "    \n",
    "    model.eval()\n",
    "    epoch_loss = 0\n",
    "    total = 0\n",
    "    confusion_matrix.append(torch.zeros(8,8))\n",
    "    global num_epochs\n",
    "    for i, batch in tqdm(enumerate(iterator.batch_sampler)):\n",
    "        z = featureExtractor.forward(batch[0].cpu())\n",
    "        loss = 0\n",
    "        # softmax of logit\n",
    "        d = torch.softmax(z,dim=-1)\n",
    "        # cross entropy loss of softmax and score\n",
    "        loss=criterion(d,(batch[1]).cpu())/BATCH_SIZE\n",
    "        epoch_loss += loss.item()\n",
    "        total += 1\n",
    "        \n",
    "        # Load in confusion_matrix\n",
    "        for i in range(len(d)):\n",
    "            row = batch[1][i]\n",
    "            col = torch.argmax(d[i])\n",
    "            confusion_matrix[num_epochs][row][col] += 1\n",
    "     \n",
    "    num_epochs += 1\n",
    "        \n",
    "    return epoch_loss/total\n",
    "\n",
    "def epoch_time(start_time, end_time):\n",
    "    elapsed_time = end_time - start_time\n",
    "    elapsed_mins = int(elapsed_time / 60)\n",
    "    elapsed_secs = int(elapsed_time - (elapsed_mins * 60))\n",
    "    return elapsed_mins, elapsed_secs"
   ]
  },
  {
   "cell_type": "code",
   "execution_count": 174,
   "metadata": {
    "scrolled": true
   },
   "outputs": [
    {
     "name": "stdout",
     "output_type": "stream",
     "text": [
      "epoch start:  0\n",
      "training ...\n"
     ]
    },
    {
     "name": "stderr",
     "output_type": "stream",
     "text": [
      "485it [00:05, 95.46it/s] \n",
      "121it [00:00, 582.94it/s]\n"
     ]
    },
    {
     "name": "stdout",
     "output_type": "stream",
     "text": [
      "Epoch: 01 | Time: 0m 5s\tTrain Loss: 2.031 | Test Loss: 2.004\n",
      "epoch start:  1\n",
      "training ...\n"
     ]
    },
    {
     "name": "stderr",
     "output_type": "stream",
     "text": [
      "485it [00:05, 95.52it/s] \n",
      "121it [00:00, 378.38it/s]\n"
     ]
    },
    {
     "name": "stdout",
     "output_type": "stream",
     "text": [
      "Epoch: 02 | Time: 0m 5s\tTrain Loss: 1.989 | Test Loss: 1.982\n",
      "epoch start:  2\n",
      "training ...\n"
     ]
    },
    {
     "name": "stderr",
     "output_type": "stream",
     "text": [
      "485it [00:05, 95.55it/s] \n",
      "121it [00:00, 571.19it/s]\n"
     ]
    },
    {
     "name": "stdout",
     "output_type": "stream",
     "text": [
      "Epoch: 03 | Time: 0m 5s\tTrain Loss: 1.970 | Test Loss: 1.968\n",
      "epoch start:  3\n",
      "training ...\n"
     ]
    },
    {
     "name": "stderr",
     "output_type": "stream",
     "text": [
      "485it [00:05, 96.64it/s] \n",
      "121it [00:00, 590.88it/s]\n"
     ]
    },
    {
     "name": "stdout",
     "output_type": "stream",
     "text": [
      "Epoch: 04 | Time: 0m 5s\tTrain Loss: 1.957 | Test Loss: 1.959\n",
      "epoch start:  4\n",
      "training ...\n"
     ]
    },
    {
     "name": "stderr",
     "output_type": "stream",
     "text": [
      "485it [00:05, 92.95it/s] \n",
      "121it [00:00, 535.12it/s]\n"
     ]
    },
    {
     "name": "stdout",
     "output_type": "stream",
     "text": [
      "Epoch: 05 | Time: 0m 5s\tTrain Loss: 1.947 | Test Loss: 1.952\n",
      "epoch start:  5\n",
      "training ...\n"
     ]
    },
    {
     "name": "stderr",
     "output_type": "stream",
     "text": [
      "485it [00:05, 96.63it/s] \n",
      "121it [00:00, 397.91it/s]\n"
     ]
    },
    {
     "name": "stdout",
     "output_type": "stream",
     "text": [
      "Epoch: 06 | Time: 0m 5s\tTrain Loss: 1.940 | Test Loss: 1.947\n",
      "epoch start:  6\n",
      "training ...\n"
     ]
    },
    {
     "name": "stderr",
     "output_type": "stream",
     "text": [
      "485it [00:05, 95.20it/s] \n",
      "121it [00:00, 575.40it/s]\n"
     ]
    },
    {
     "name": "stdout",
     "output_type": "stream",
     "text": [
      "Epoch: 07 | Time: 0m 5s\tTrain Loss: 1.934 | Test Loss: 1.943\n",
      "epoch start:  7\n",
      "training ...\n"
     ]
    },
    {
     "name": "stderr",
     "output_type": "stream",
     "text": [
      "485it [00:05, 95.32it/s] \n",
      "121it [00:00, 401.89it/s]\n"
     ]
    },
    {
     "name": "stdout",
     "output_type": "stream",
     "text": [
      "Epoch: 08 | Time: 0m 5s\tTrain Loss: 1.929 | Test Loss: 1.939\n",
      "epoch start:  8\n",
      "training ...\n"
     ]
    },
    {
     "name": "stderr",
     "output_type": "stream",
     "text": [
      "485it [00:05, 95.17it/s] \n",
      "121it [00:00, 516.74it/s]\n"
     ]
    },
    {
     "name": "stdout",
     "output_type": "stream",
     "text": [
      "Epoch: 09 | Time: 0m 5s\tTrain Loss: 1.925 | Test Loss: 1.936\n",
      "epoch start:  9\n",
      "training ...\n"
     ]
    },
    {
     "name": "stderr",
     "output_type": "stream",
     "text": [
      "485it [00:05, 96.02it/s] \n",
      "121it [00:00, 568.48it/s]\n"
     ]
    },
    {
     "name": "stdout",
     "output_type": "stream",
     "text": [
      "Epoch: 10 | Time: 0m 5s\tTrain Loss: 1.921 | Test Loss: 1.934\n",
      "epoch start:  10\n",
      "training ...\n"
     ]
    },
    {
     "name": "stderr",
     "output_type": "stream",
     "text": [
      "485it [00:05, 95.36it/s] \n",
      "121it [00:00, 579.06it/s]\n"
     ]
    },
    {
     "name": "stdout",
     "output_type": "stream",
     "text": [
      "Epoch: 11 | Time: 0m 5s\tTrain Loss: 1.918 | Test Loss: 1.932\n",
      "epoch start:  11\n",
      "training ...\n"
     ]
    },
    {
     "name": "stderr",
     "output_type": "stream",
     "text": [
      "485it [00:05, 95.00it/s] \n",
      "121it [00:00, 497.42it/s]\n"
     ]
    },
    {
     "name": "stdout",
     "output_type": "stream",
     "text": [
      "Epoch: 12 | Time: 0m 5s\tTrain Loss: 1.915 | Test Loss: 1.930\n",
      "epoch start:  12\n",
      "training ...\n"
     ]
    },
    {
     "name": "stderr",
     "output_type": "stream",
     "text": [
      "485it [00:05, 94.43it/s] \n",
      "121it [00:00, 588.80it/s]\n"
     ]
    },
    {
     "name": "stdout",
     "output_type": "stream",
     "text": [
      "Epoch: 13 | Time: 0m 5s\tTrain Loss: 1.912 | Test Loss: 1.928\n",
      "epoch start:  13\n",
      "training ...\n"
     ]
    },
    {
     "name": "stderr",
     "output_type": "stream",
     "text": [
      "485it [00:05, 95.38it/s] \n",
      "121it [00:00, 471.93it/s]\n"
     ]
    },
    {
     "name": "stdout",
     "output_type": "stream",
     "text": [
      "Epoch: 14 | Time: 0m 5s\tTrain Loss: 1.910 | Test Loss: 1.927\n",
      "epoch start:  14\n",
      "training ...\n"
     ]
    },
    {
     "name": "stderr",
     "output_type": "stream",
     "text": [
      "485it [00:05, 96.07it/s] \n",
      "121it [00:00, 547.64it/s]\n"
     ]
    },
    {
     "name": "stdout",
     "output_type": "stream",
     "text": [
      "Epoch: 15 | Time: 0m 5s\tTrain Loss: 1.907 | Test Loss: 1.925\n",
      "epoch start:  15\n",
      "training ...\n"
     ]
    },
    {
     "name": "stderr",
     "output_type": "stream",
     "text": [
      "485it [00:04, 98.41it/s] \n",
      "121it [00:00, 510.28it/s]\n"
     ]
    },
    {
     "name": "stdout",
     "output_type": "stream",
     "text": [
      "Epoch: 16 | Time: 0m 5s\tTrain Loss: 1.905 | Test Loss: 1.923\n",
      "epoch start:  16\n",
      "training ...\n"
     ]
    },
    {
     "name": "stderr",
     "output_type": "stream",
     "text": [
      "485it [00:05, 95.22it/s] \n",
      "121it [00:00, 567.85it/s]\n"
     ]
    },
    {
     "name": "stdout",
     "output_type": "stream",
     "text": [
      "Epoch: 17 | Time: 0m 5s\tTrain Loss: 1.902 | Test Loss: 1.921\n",
      "epoch start:  17\n",
      "training ...\n"
     ]
    },
    {
     "name": "stderr",
     "output_type": "stream",
     "text": [
      "485it [00:04, 98.17it/s] \n",
      "121it [00:00, 538.42it/s]\n"
     ]
    },
    {
     "name": "stdout",
     "output_type": "stream",
     "text": [
      "Epoch: 18 | Time: 0m 5s\tTrain Loss: 1.899 | Test Loss: 1.919\n",
      "epoch start:  18\n",
      "training ...\n"
     ]
    },
    {
     "name": "stderr",
     "output_type": "stream",
     "text": [
      "485it [00:05, 96.77it/s] \n",
      "121it [00:00, 544.38it/s]\n"
     ]
    },
    {
     "name": "stdout",
     "output_type": "stream",
     "text": [
      "Epoch: 19 | Time: 0m 5s\tTrain Loss: 1.896 | Test Loss: 1.917\n",
      "epoch start:  19\n",
      "training ...\n"
     ]
    },
    {
     "name": "stderr",
     "output_type": "stream",
     "text": [
      "485it [00:04, 97.88it/s] \n",
      "121it [00:00, 570.90it/s]\n"
     ]
    },
    {
     "name": "stdout",
     "output_type": "stream",
     "text": [
      "Epoch: 20 | Time: 0m 5s\tTrain Loss: 1.894 | Test Loss: 1.916\n",
      "epoch start:  20\n",
      "training ...\n"
     ]
    },
    {
     "name": "stderr",
     "output_type": "stream",
     "text": [
      "485it [00:04, 99.33it/s] \n",
      "121it [00:00, 550.91it/s]\n"
     ]
    },
    {
     "name": "stdout",
     "output_type": "stream",
     "text": [
      "Epoch: 21 | Time: 0m 5s\tTrain Loss: 1.892 | Test Loss: 1.915\n",
      "epoch start:  21\n",
      "training ...\n"
     ]
    },
    {
     "name": "stderr",
     "output_type": "stream",
     "text": [
      "485it [00:05, 96.69it/s] \n",
      "121it [00:00, 585.38it/s]\n"
     ]
    },
    {
     "name": "stdout",
     "output_type": "stream",
     "text": [
      "Epoch: 22 | Time: 0m 5s\tTrain Loss: 1.890 | Test Loss: 1.914\n",
      "epoch start:  22\n",
      "training ...\n"
     ]
    },
    {
     "name": "stderr",
     "output_type": "stream",
     "text": [
      "485it [00:05, 96.95it/s] \n",
      "121it [00:00, 571.76it/s]\n"
     ]
    },
    {
     "name": "stdout",
     "output_type": "stream",
     "text": [
      "Epoch: 23 | Time: 0m 5s\tTrain Loss: 1.888 | Test Loss: 1.913\n",
      "epoch start:  23\n",
      "training ...\n"
     ]
    },
    {
     "name": "stderr",
     "output_type": "stream",
     "text": [
      "485it [00:05, 96.96it/s] \n",
      "121it [00:00, 549.48it/s]\n"
     ]
    },
    {
     "name": "stdout",
     "output_type": "stream",
     "text": [
      "Epoch: 24 | Time: 0m 5s\tTrain Loss: 1.886 | Test Loss: 1.912\n",
      "epoch start:  24\n",
      "training ...\n"
     ]
    },
    {
     "name": "stderr",
     "output_type": "stream",
     "text": [
      "485it [00:04, 97.56it/s] \n",
      "121it [00:00, 554.17it/s]\n"
     ]
    },
    {
     "name": "stdout",
     "output_type": "stream",
     "text": [
      "Epoch: 25 | Time: 0m 5s\tTrain Loss: 1.885 | Test Loss: 1.911\n",
      "epoch start:  25\n",
      "training ...\n"
     ]
    },
    {
     "name": "stderr",
     "output_type": "stream",
     "text": [
      "485it [00:04, 97.18it/s] \n",
      "121it [00:00, 545.54it/s]\n"
     ]
    },
    {
     "name": "stdout",
     "output_type": "stream",
     "text": [
      "Epoch: 26 | Time: 0m 5s\tTrain Loss: 1.884 | Test Loss: 1.910\n",
      "epoch start:  26\n",
      "training ...\n"
     ]
    },
    {
     "name": "stderr",
     "output_type": "stream",
     "text": [
      "485it [00:04, 97.04it/s] \n",
      "121it [00:00, 594.65it/s]\n"
     ]
    },
    {
     "name": "stdout",
     "output_type": "stream",
     "text": [
      "Epoch: 27 | Time: 0m 5s\tTrain Loss: 1.882 | Test Loss: 1.910\n",
      "epoch start:  27\n",
      "training ...\n"
     ]
    },
    {
     "name": "stderr",
     "output_type": "stream",
     "text": [
      "485it [00:05, 92.99it/s] \n",
      "121it [00:00, 400.86it/s]\n"
     ]
    },
    {
     "name": "stdout",
     "output_type": "stream",
     "text": [
      "Epoch: 28 | Time: 0m 5s\tTrain Loss: 1.881 | Test Loss: 1.909\n",
      "epoch start:  28\n",
      "training ...\n"
     ]
    },
    {
     "name": "stderr",
     "output_type": "stream",
     "text": [
      "485it [00:06, 80.44it/s]\n",
      "121it [00:00, 507.03it/s]\n"
     ]
    },
    {
     "name": "stdout",
     "output_type": "stream",
     "text": [
      "Epoch: 29 | Time: 0m 6s\tTrain Loss: 1.880 | Test Loss: 1.909\n",
      "epoch start:  29\n",
      "training ...\n"
     ]
    },
    {
     "name": "stderr",
     "output_type": "stream",
     "text": [
      "485it [00:07, 63.37it/s]\n",
      "121it [00:00, 374.11it/s]\n"
     ]
    },
    {
     "name": "stdout",
     "output_type": "stream",
     "text": [
      "Epoch: 30 | Time: 0m 7s\tTrain Loss: 1.879 | Test Loss: 1.908\n",
      "epoch start:  30\n",
      "training ...\n"
     ]
    },
    {
     "name": "stderr",
     "output_type": "stream",
     "text": [
      "485it [00:05, 89.08it/s] \n",
      "121it [00:00, 402.52it/s]\n"
     ]
    },
    {
     "name": "stdout",
     "output_type": "stream",
     "text": [
      "Epoch: 31 | Time: 0m 5s\tTrain Loss: 1.878 | Test Loss: 1.908\n",
      "epoch start:  31\n",
      "training ...\n"
     ]
    },
    {
     "name": "stderr",
     "output_type": "stream",
     "text": [
      "485it [00:05, 96.96it/s] \n",
      "121it [00:00, 569.29it/s]\n"
     ]
    },
    {
     "name": "stdout",
     "output_type": "stream",
     "text": [
      "Epoch: 32 | Time: 0m 5s\tTrain Loss: 1.877 | Test Loss: 1.907\n",
      "epoch start:  32\n",
      "training ...\n"
     ]
    },
    {
     "name": "stderr",
     "output_type": "stream",
     "text": [
      "485it [00:05, 96.54it/s] \n",
      "121it [00:00, 583.62it/s]\n"
     ]
    },
    {
     "name": "stdout",
     "output_type": "stream",
     "text": [
      "Epoch: 33 | Time: 0m 5s\tTrain Loss: 1.875 | Test Loss: 1.907\n",
      "epoch start:  33\n",
      "training ...\n"
     ]
    },
    {
     "name": "stderr",
     "output_type": "stream",
     "text": [
      "485it [00:04, 97.40it/s] \n",
      "121it [00:00, 504.18it/s]\n"
     ]
    },
    {
     "name": "stdout",
     "output_type": "stream",
     "text": [
      "Epoch: 34 | Time: 0m 5s\tTrain Loss: 1.875 | Test Loss: 1.907\n",
      "epoch start:  34\n",
      "training ...\n"
     ]
    },
    {
     "name": "stderr",
     "output_type": "stream",
     "text": [
      "485it [00:04, 97.69it/s] \n",
      "121it [00:00, 509.43it/s]\n"
     ]
    },
    {
     "name": "stdout",
     "output_type": "stream",
     "text": [
      "Epoch: 35 | Time: 0m 5s\tTrain Loss: 1.874 | Test Loss: 1.906\n",
      "epoch start:  35\n",
      "training ...\n"
     ]
    },
    {
     "name": "stderr",
     "output_type": "stream",
     "text": [
      "485it [00:04, 97.13it/s] \n",
      "121it [00:00, 519.26it/s]\n"
     ]
    },
    {
     "name": "stdout",
     "output_type": "stream",
     "text": [
      "Epoch: 36 | Time: 0m 5s\tTrain Loss: 1.873 | Test Loss: 1.906\n",
      "epoch start:  36\n",
      "training ...\n"
     ]
    },
    {
     "name": "stderr",
     "output_type": "stream",
     "text": [
      "485it [00:05, 95.79it/s] \n",
      "121it [00:00, 569.11it/s]\n"
     ]
    },
    {
     "name": "stdout",
     "output_type": "stream",
     "text": [
      "Epoch: 37 | Time: 0m 5s\tTrain Loss: 1.872 | Test Loss: 1.906\n",
      "epoch start:  37\n",
      "training ...\n"
     ]
    },
    {
     "name": "stderr",
     "output_type": "stream",
     "text": [
      "485it [00:04, 97.07it/s] \n",
      "121it [00:00, 537.19it/s]\n"
     ]
    },
    {
     "name": "stdout",
     "output_type": "stream",
     "text": [
      "Epoch: 38 | Time: 0m 5s\tTrain Loss: 1.871 | Test Loss: 1.905\n",
      "epoch start:  38\n",
      "training ...\n"
     ]
    },
    {
     "name": "stderr",
     "output_type": "stream",
     "text": [
      "485it [00:04, 98.60it/s] \n",
      "121it [00:00, 417.74it/s]\n"
     ]
    },
    {
     "name": "stdout",
     "output_type": "stream",
     "text": [
      "Epoch: 39 | Time: 0m 5s\tTrain Loss: 1.870 | Test Loss: 1.905\n",
      "epoch start:  39\n",
      "training ...\n"
     ]
    },
    {
     "name": "stderr",
     "output_type": "stream",
     "text": [
      "485it [00:04, 97.59it/s] \n",
      "121it [00:00, 525.87it/s]\n"
     ]
    },
    {
     "name": "stdout",
     "output_type": "stream",
     "text": [
      "Epoch: 40 | Time: 0m 5s\tTrain Loss: 1.869 | Test Loss: 1.905\n",
      "epoch start:  40\n",
      "training ...\n"
     ]
    },
    {
     "name": "stderr",
     "output_type": "stream",
     "text": [
      "485it [00:05, 96.12it/s] \n",
      "121it [00:00, 410.28it/s]\n"
     ]
    },
    {
     "name": "stdout",
     "output_type": "stream",
     "text": [
      "Epoch: 41 | Time: 0m 5s\tTrain Loss: 1.869 | Test Loss: 1.904\n",
      "epoch start:  41\n",
      "training ...\n"
     ]
    },
    {
     "name": "stderr",
     "output_type": "stream",
     "text": [
      "485it [00:05, 96.55it/s] \n",
      "121it [00:00, 591.77it/s]\n"
     ]
    },
    {
     "name": "stdout",
     "output_type": "stream",
     "text": [
      "Epoch: 42 | Time: 0m 5s\tTrain Loss: 1.868 | Test Loss: 1.904\n",
      "epoch start:  42\n",
      "training ...\n"
     ]
    },
    {
     "name": "stderr",
     "output_type": "stream",
     "text": [
      "485it [00:04, 99.32it/s] \n",
      "121it [00:00, 451.48it/s]\n"
     ]
    },
    {
     "name": "stdout",
     "output_type": "stream",
     "text": [
      "Epoch: 43 | Time: 0m 5s\tTrain Loss: 1.867 | Test Loss: 1.904\n",
      "epoch start:  43\n",
      "training ...\n"
     ]
    },
    {
     "name": "stderr",
     "output_type": "stream",
     "text": [
      "485it [00:05, 95.26it/s] \n",
      "121it [00:00, 362.46it/s]\n"
     ]
    },
    {
     "name": "stdout",
     "output_type": "stream",
     "text": [
      "Epoch: 44 | Time: 0m 5s\tTrain Loss: 1.866 | Test Loss: 1.904\n",
      "epoch start:  44\n",
      "training ...\n"
     ]
    },
    {
     "name": "stderr",
     "output_type": "stream",
     "text": [
      "485it [00:05, 96.61it/s] \n",
      "121it [00:00, 348.04it/s]\n"
     ]
    },
    {
     "name": "stdout",
     "output_type": "stream",
     "text": [
      "Epoch: 45 | Time: 0m 5s\tTrain Loss: 1.866 | Test Loss: 1.903\n",
      "epoch start:  45\n",
      "training ...\n"
     ]
    },
    {
     "name": "stderr",
     "output_type": "stream",
     "text": [
      "485it [00:05, 96.71it/s] \n",
      "121it [00:00, 483.33it/s]\n"
     ]
    },
    {
     "name": "stdout",
     "output_type": "stream",
     "text": [
      "Epoch: 46 | Time: 0m 5s\tTrain Loss: 1.865 | Test Loss: 1.903\n",
      "epoch start:  46\n",
      "training ...\n"
     ]
    },
    {
     "name": "stderr",
     "output_type": "stream",
     "text": [
      "485it [00:04, 97.09it/s] \n",
      "121it [00:00, 574.18it/s]\n"
     ]
    },
    {
     "name": "stdout",
     "output_type": "stream",
     "text": [
      "Epoch: 47 | Time: 0m 5s\tTrain Loss: 1.864 | Test Loss: 1.903\n",
      "epoch start:  47\n",
      "training ...\n"
     ]
    },
    {
     "name": "stderr",
     "output_type": "stream",
     "text": [
      "485it [00:05, 96.13it/s] \n",
      "121it [00:00, 517.19it/s]\n"
     ]
    },
    {
     "name": "stdout",
     "output_type": "stream",
     "text": [
      "Epoch: 48 | Time: 0m 5s\tTrain Loss: 1.864 | Test Loss: 1.903\n",
      "epoch start:  48\n",
      "training ...\n"
     ]
    },
    {
     "name": "stderr",
     "output_type": "stream",
     "text": [
      "485it [00:04, 97.70it/s] \n",
      "121it [00:00, 418.74it/s]\n"
     ]
    },
    {
     "name": "stdout",
     "output_type": "stream",
     "text": [
      "Epoch: 49 | Time: 0m 5s\tTrain Loss: 1.863 | Test Loss: 1.903\n",
      "epoch start:  49\n",
      "training ...\n"
     ]
    },
    {
     "name": "stderr",
     "output_type": "stream",
     "text": [
      "485it [00:04, 97.53it/s] \n",
      "121it [00:00, 564.86it/s]\n"
     ]
    },
    {
     "name": "stdout",
     "output_type": "stream",
     "text": [
      "Epoch: 50 | Time: 0m 5s\tTrain Loss: 1.862 | Test Loss: 1.903\n",
      "epoch start:  50\n",
      "training ...\n"
     ]
    },
    {
     "name": "stderr",
     "output_type": "stream",
     "text": [
      "485it [00:04, 97.66it/s] \n",
      "121it [00:00, 531.93it/s]\n"
     ]
    },
    {
     "name": "stdout",
     "output_type": "stream",
     "text": [
      "Epoch: 51 | Time: 0m 5s\tTrain Loss: 1.862 | Test Loss: 1.902\n",
      "epoch start:  51\n",
      "training ...\n"
     ]
    },
    {
     "name": "stderr",
     "output_type": "stream",
     "text": [
      "485it [00:04, 98.48it/s] \n",
      "121it [00:00, 578.35it/s]\n"
     ]
    },
    {
     "name": "stdout",
     "output_type": "stream",
     "text": [
      "Epoch: 52 | Time: 0m 5s\tTrain Loss: 1.861 | Test Loss: 1.902\n",
      "epoch start:  52\n",
      "training ...\n"
     ]
    },
    {
     "name": "stderr",
     "output_type": "stream",
     "text": [
      "485it [00:04, 97.90it/s] \n",
      "121it [00:00, 410.98it/s]\n"
     ]
    },
    {
     "name": "stdout",
     "output_type": "stream",
     "text": [
      "Epoch: 53 | Time: 0m 5s\tTrain Loss: 1.861 | Test Loss: 1.902\n",
      "epoch start:  53\n",
      "training ...\n"
     ]
    },
    {
     "name": "stderr",
     "output_type": "stream",
     "text": [
      "485it [00:04, 97.47it/s] \n",
      "121it [00:00, 410.53it/s]\n"
     ]
    },
    {
     "name": "stdout",
     "output_type": "stream",
     "text": [
      "Epoch: 54 | Time: 0m 5s\tTrain Loss: 1.860 | Test Loss: 1.902\n",
      "epoch start:  54\n",
      "training ...\n"
     ]
    },
    {
     "name": "stderr",
     "output_type": "stream",
     "text": [
      "485it [00:04, 98.04it/s] \n",
      "121it [00:00, 566.60it/s]\n"
     ]
    },
    {
     "name": "stdout",
     "output_type": "stream",
     "text": [
      "Epoch: 55 | Time: 0m 5s\tTrain Loss: 1.860 | Test Loss: 1.902\n",
      "epoch start:  55\n",
      "training ...\n"
     ]
    },
    {
     "name": "stderr",
     "output_type": "stream",
     "text": [
      "485it [00:05, 96.61it/s] \n",
      "121it [00:00, 580.57it/s]\n"
     ]
    },
    {
     "name": "stdout",
     "output_type": "stream",
     "text": [
      "Epoch: 56 | Time: 0m 5s\tTrain Loss: 1.859 | Test Loss: 1.902\n",
      "epoch start:  56\n",
      "training ...\n"
     ]
    },
    {
     "name": "stderr",
     "output_type": "stream",
     "text": [
      "485it [00:05, 96.73it/s] \n",
      "121it [00:00, 506.55it/s]\n"
     ]
    },
    {
     "name": "stdout",
     "output_type": "stream",
     "text": [
      "Epoch: 57 | Time: 0m 5s\tTrain Loss: 1.859 | Test Loss: 1.902\n",
      "epoch start:  57\n",
      "training ...\n"
     ]
    },
    {
     "name": "stderr",
     "output_type": "stream",
     "text": [
      "485it [00:04, 97.48it/s] \n",
      "121it [00:00, 356.01it/s]\n"
     ]
    },
    {
     "name": "stdout",
     "output_type": "stream",
     "text": [
      "Epoch: 58 | Time: 0m 5s\tTrain Loss: 1.858 | Test Loss: 1.902\n",
      "epoch start:  58\n",
      "training ...\n"
     ]
    },
    {
     "name": "stderr",
     "output_type": "stream",
     "text": [
      "485it [00:05, 95.80it/s] \n",
      "121it [00:00, 513.12it/s]\n"
     ]
    },
    {
     "name": "stdout",
     "output_type": "stream",
     "text": [
      "Epoch: 59 | Time: 0m 5s\tTrain Loss: 1.857 | Test Loss: 1.901\n",
      "epoch start:  59\n",
      "training ...\n"
     ]
    },
    {
     "name": "stderr",
     "output_type": "stream",
     "text": [
      "485it [00:04, 97.24it/s] \n",
      "121it [00:00, 584.87it/s]\n"
     ]
    },
    {
     "name": "stdout",
     "output_type": "stream",
     "text": [
      "Epoch: 60 | Time: 0m 5s\tTrain Loss: 1.857 | Test Loss: 1.901\n",
      "epoch start:  60\n",
      "training ...\n"
     ]
    },
    {
     "name": "stderr",
     "output_type": "stream",
     "text": [
      "485it [00:06, 80.38it/s] \n",
      "121it [00:00, 394.41it/s]\n"
     ]
    },
    {
     "name": "stdout",
     "output_type": "stream",
     "text": [
      "Epoch: 61 | Time: 0m 6s\tTrain Loss: 1.856 | Test Loss: 1.901\n",
      "epoch start:  61\n",
      "training ...\n"
     ]
    },
    {
     "name": "stderr",
     "output_type": "stream",
     "text": [
      "485it [00:07, 66.31it/s]\n",
      "121it [00:00, 387.67it/s]\n"
     ]
    },
    {
     "name": "stdout",
     "output_type": "stream",
     "text": [
      "Epoch: 62 | Time: 0m 7s\tTrain Loss: 1.856 | Test Loss: 1.901\n",
      "epoch start:  62\n",
      "training ...\n"
     ]
    },
    {
     "name": "stderr",
     "output_type": "stream",
     "text": [
      "485it [00:05, 88.65it/s] \n",
      "121it [00:00, 375.06it/s]\n"
     ]
    },
    {
     "name": "stdout",
     "output_type": "stream",
     "text": [
      "Epoch: 63 | Time: 0m 5s\tTrain Loss: 1.856 | Test Loss: 1.901\n",
      "epoch start:  63\n",
      "training ...\n"
     ]
    },
    {
     "name": "stderr",
     "output_type": "stream",
     "text": [
      "485it [00:05, 89.26it/s] \n",
      "121it [00:00, 446.33it/s]\n"
     ]
    },
    {
     "name": "stdout",
     "output_type": "stream",
     "text": [
      "Epoch: 64 | Time: 0m 5s\tTrain Loss: 1.855 | Test Loss: 1.901\n",
      "epoch start:  64\n",
      "training ...\n"
     ]
    },
    {
     "name": "stderr",
     "output_type": "stream",
     "text": [
      "485it [00:05, 92.09it/s] \n",
      "121it [00:00, 528.75it/s]\n"
     ]
    },
    {
     "name": "stdout",
     "output_type": "stream",
     "text": [
      "Epoch: 65 | Time: 0m 5s\tTrain Loss: 1.855 | Test Loss: 1.901\n",
      "epoch start:  65\n",
      "training ...\n"
     ]
    },
    {
     "name": "stderr",
     "output_type": "stream",
     "text": [
      "485it [00:05, 90.17it/s]\n",
      "121it [00:00, 482.29it/s]\n"
     ]
    },
    {
     "name": "stdout",
     "output_type": "stream",
     "text": [
      "Epoch: 66 | Time: 0m 5s\tTrain Loss: 1.854 | Test Loss: 1.901\n",
      "epoch start:  66\n",
      "training ...\n"
     ]
    },
    {
     "name": "stderr",
     "output_type": "stream",
     "text": [
      "485it [00:05, 90.15it/s]\n",
      "121it [00:00, 573.36it/s]\n"
     ]
    },
    {
     "name": "stdout",
     "output_type": "stream",
     "text": [
      "Epoch: 67 | Time: 0m 5s\tTrain Loss: 1.854 | Test Loss: 1.901\n",
      "epoch start:  67\n",
      "training ...\n"
     ]
    },
    {
     "name": "stderr",
     "output_type": "stream",
     "text": [
      "485it [00:05, 90.23it/s]\n",
      "121it [00:00, 395.46it/s]\n"
     ]
    },
    {
     "name": "stdout",
     "output_type": "stream",
     "text": [
      "Epoch: 68 | Time: 0m 5s\tTrain Loss: 1.853 | Test Loss: 1.901\n",
      "epoch start:  68\n",
      "training ...\n"
     ]
    },
    {
     "name": "stderr",
     "output_type": "stream",
     "text": [
      "485it [00:05, 93.19it/s]\n",
      "121it [00:00, 387.46it/s]\n"
     ]
    },
    {
     "name": "stdout",
     "output_type": "stream",
     "text": [
      "Epoch: 69 | Time: 0m 5s\tTrain Loss: 1.853 | Test Loss: 1.901\n",
      "epoch start:  69\n",
      "training ...\n"
     ]
    },
    {
     "name": "stderr",
     "output_type": "stream",
     "text": [
      "485it [00:05, 91.99it/s] \n",
      "121it [00:00, 558.70it/s]\n"
     ]
    },
    {
     "name": "stdout",
     "output_type": "stream",
     "text": [
      "Epoch: 70 | Time: 0m 5s\tTrain Loss: 1.852 | Test Loss: 1.901\n",
      "epoch start:  70\n",
      "training ...\n"
     ]
    },
    {
     "name": "stderr",
     "output_type": "stream",
     "text": [
      "485it [00:05, 89.08it/s] \n",
      "121it [00:00, 531.61it/s]\n"
     ]
    },
    {
     "name": "stdout",
     "output_type": "stream",
     "text": [
      "Epoch: 71 | Time: 0m 5s\tTrain Loss: 1.852 | Test Loss: 1.901\n",
      "epoch start:  71\n",
      "training ...\n"
     ]
    },
    {
     "name": "stderr",
     "output_type": "stream",
     "text": [
      "485it [00:05, 84.49it/s]\n",
      "121it [00:00, 589.13it/s]\n"
     ]
    },
    {
     "name": "stdout",
     "output_type": "stream",
     "text": [
      "Epoch: 72 | Time: 0m 5s\tTrain Loss: 1.851 | Test Loss: 1.900\n",
      "epoch start:  72\n",
      "training ...\n"
     ]
    },
    {
     "name": "stderr",
     "output_type": "stream",
     "text": [
      "485it [00:05, 87.97it/s] \n",
      "121it [00:00, 447.04it/s]\n"
     ]
    },
    {
     "name": "stdout",
     "output_type": "stream",
     "text": [
      "Epoch: 73 | Time: 0m 5s\tTrain Loss: 1.851 | Test Loss: 1.901\n",
      "epoch start:  73\n",
      "training ...\n"
     ]
    },
    {
     "name": "stderr",
     "output_type": "stream",
     "text": [
      "485it [00:05, 92.81it/s]\n",
      "121it [00:00, 439.06it/s]\n"
     ]
    },
    {
     "name": "stdout",
     "output_type": "stream",
     "text": [
      "Epoch: 74 | Time: 0m 5s\tTrain Loss: 1.851 | Test Loss: 1.900\n",
      "epoch start:  74\n",
      "training ...\n"
     ]
    },
    {
     "name": "stderr",
     "output_type": "stream",
     "text": [
      "485it [00:05, 91.62it/s]\n",
      "121it [00:00, 586.41it/s]\n"
     ]
    },
    {
     "name": "stdout",
     "output_type": "stream",
     "text": [
      "Epoch: 75 | Time: 0m 5s\tTrain Loss: 1.850 | Test Loss: 1.900\n",
      "epoch start:  75\n",
      "training ...\n"
     ]
    },
    {
     "name": "stderr",
     "output_type": "stream",
     "text": [
      "485it [00:05, 87.41it/s]\n",
      "121it [00:00, 389.61it/s]\n"
     ]
    },
    {
     "name": "stdout",
     "output_type": "stream",
     "text": [
      "Epoch: 76 | Time: 0m 5s\tTrain Loss: 1.850 | Test Loss: 1.900\n",
      "epoch start:  76\n",
      "training ...\n"
     ]
    },
    {
     "name": "stderr",
     "output_type": "stream",
     "text": [
      "485it [00:05, 89.01it/s] \n",
      "121it [00:00, 568.26it/s]\n"
     ]
    },
    {
     "name": "stdout",
     "output_type": "stream",
     "text": [
      "Epoch: 77 | Time: 0m 5s\tTrain Loss: 1.849 | Test Loss: 1.900\n",
      "epoch start:  77\n",
      "training ...\n"
     ]
    },
    {
     "name": "stderr",
     "output_type": "stream",
     "text": [
      "485it [00:05, 86.91it/s]\n",
      "121it [00:00, 381.96it/s]\n"
     ]
    },
    {
     "name": "stdout",
     "output_type": "stream",
     "text": [
      "Epoch: 78 | Time: 0m 5s\tTrain Loss: 1.849 | Test Loss: 1.900\n",
      "epoch start:  78\n",
      "training ...\n"
     ]
    },
    {
     "name": "stderr",
     "output_type": "stream",
     "text": [
      "485it [00:05, 95.34it/s] \n",
      "121it [00:00, 564.40it/s]\n"
     ]
    },
    {
     "name": "stdout",
     "output_type": "stream",
     "text": [
      "Epoch: 79 | Time: 0m 5s\tTrain Loss: 1.848 | Test Loss: 1.900\n",
      "epoch start:  79\n",
      "training ...\n"
     ]
    },
    {
     "name": "stderr",
     "output_type": "stream",
     "text": [
      "485it [00:05, 95.21it/s] \n",
      "121it [00:00, 405.09it/s]\n"
     ]
    },
    {
     "name": "stdout",
     "output_type": "stream",
     "text": [
      "Epoch: 80 | Time: 0m 5s\tTrain Loss: 1.848 | Test Loss: 1.900\n",
      "epoch start:  80\n",
      "training ...\n"
     ]
    },
    {
     "name": "stderr",
     "output_type": "stream",
     "text": [
      "485it [00:05, 96.26it/s] \n",
      "121it [00:00, 402.65it/s]\n"
     ]
    },
    {
     "name": "stdout",
     "output_type": "stream",
     "text": [
      "Epoch: 81 | Time: 0m 5s\tTrain Loss: 1.848 | Test Loss: 1.900\n",
      "epoch start:  81\n",
      "training ...\n"
     ]
    },
    {
     "name": "stderr",
     "output_type": "stream",
     "text": [
      "485it [00:05, 95.02it/s] \n",
      "121it [00:00, 393.27it/s]\n"
     ]
    },
    {
     "name": "stdout",
     "output_type": "stream",
     "text": [
      "Epoch: 82 | Time: 0m 5s\tTrain Loss: 1.847 | Test Loss: 1.900\n",
      "epoch start:  82\n",
      "training ...\n"
     ]
    },
    {
     "name": "stderr",
     "output_type": "stream",
     "text": [
      "485it [00:05, 96.75it/s] \n",
      "121it [00:00, 532.12it/s]\n"
     ]
    },
    {
     "name": "stdout",
     "output_type": "stream",
     "text": [
      "Epoch: 83 | Time: 0m 5s\tTrain Loss: 1.847 | Test Loss: 1.900\n",
      "epoch start:  83\n",
      "training ...\n"
     ]
    },
    {
     "name": "stderr",
     "output_type": "stream",
     "text": [
      "485it [00:05, 94.90it/s]\n",
      "121it [00:00, 480.35it/s]\n"
     ]
    },
    {
     "name": "stdout",
     "output_type": "stream",
     "text": [
      "Epoch: 84 | Time: 0m 5s\tTrain Loss: 1.846 | Test Loss: 1.900\n",
      "epoch start:  84\n",
      "training ...\n"
     ]
    },
    {
     "name": "stderr",
     "output_type": "stream",
     "text": [
      "485it [00:05, 96.05it/s] \n",
      "121it [00:00, 515.51it/s]\n"
     ]
    },
    {
     "name": "stdout",
     "output_type": "stream",
     "text": [
      "Epoch: 85 | Time: 0m 5s\tTrain Loss: 1.846 | Test Loss: 1.900\n",
      "epoch start:  85\n",
      "training ...\n"
     ]
    },
    {
     "name": "stderr",
     "output_type": "stream",
     "text": [
      "485it [00:05, 94.24it/s] \n",
      "121it [00:00, 404.52it/s]\n"
     ]
    },
    {
     "name": "stdout",
     "output_type": "stream",
     "text": [
      "Epoch: 86 | Time: 0m 5s\tTrain Loss: 1.845 | Test Loss: 1.900\n",
      "epoch start:  86\n",
      "training ...\n"
     ]
    },
    {
     "name": "stderr",
     "output_type": "stream",
     "text": [
      "485it [00:05, 95.02it/s] \n",
      "121it [00:00, 515.33it/s]\n"
     ]
    },
    {
     "name": "stdout",
     "output_type": "stream",
     "text": [
      "Epoch: 87 | Time: 0m 5s\tTrain Loss: 1.845 | Test Loss: 1.900\n",
      "epoch start:  87\n",
      "training ...\n"
     ]
    },
    {
     "name": "stderr",
     "output_type": "stream",
     "text": [
      "485it [00:05, 95.23it/s] \n",
      "121it [00:00, 558.18it/s]\n"
     ]
    },
    {
     "name": "stdout",
     "output_type": "stream",
     "text": [
      "Epoch: 88 | Time: 0m 5s\tTrain Loss: 1.844 | Test Loss: 1.899\n",
      "epoch start:  88\n",
      "training ...\n"
     ]
    },
    {
     "name": "stderr",
     "output_type": "stream",
     "text": [
      "485it [00:05, 96.26it/s] \n",
      "121it [00:00, 576.86it/s]\n"
     ]
    },
    {
     "name": "stdout",
     "output_type": "stream",
     "text": [
      "Epoch: 89 | Time: 0m 5s\tTrain Loss: 1.844 | Test Loss: 1.899\n",
      "epoch start:  89\n",
      "training ...\n"
     ]
    },
    {
     "name": "stderr",
     "output_type": "stream",
     "text": [
      "485it [00:05, 94.32it/s] \n",
      "121it [00:00, 505.66it/s]\n"
     ]
    },
    {
     "name": "stdout",
     "output_type": "stream",
     "text": [
      "Epoch: 90 | Time: 0m 5s\tTrain Loss: 1.843 | Test Loss: 1.899\n",
      "epoch start:  90\n",
      "training ...\n"
     ]
    },
    {
     "name": "stderr",
     "output_type": "stream",
     "text": [
      "485it [00:05, 92.12it/s]\n",
      "121it [00:00, 397.92it/s]\n"
     ]
    },
    {
     "name": "stdout",
     "output_type": "stream",
     "text": [
      "Epoch: 91 | Time: 0m 5s\tTrain Loss: 1.843 | Test Loss: 1.899\n",
      "epoch start:  91\n",
      "training ...\n"
     ]
    },
    {
     "name": "stderr",
     "output_type": "stream",
     "text": [
      "485it [00:05, 95.18it/s] \n",
      "121it [00:00, 509.99it/s]\n"
     ]
    },
    {
     "name": "stdout",
     "output_type": "stream",
     "text": [
      "Epoch: 92 | Time: 0m 5s\tTrain Loss: 1.842 | Test Loss: 1.899\n",
      "epoch start:  92\n",
      "training ...\n"
     ]
    },
    {
     "name": "stderr",
     "output_type": "stream",
     "text": [
      "485it [00:05, 95.37it/s] \n",
      "121it [00:00, 456.82it/s]\n"
     ]
    },
    {
     "name": "stdout",
     "output_type": "stream",
     "text": [
      "Epoch: 93 | Time: 0m 5s\tTrain Loss: 1.842 | Test Loss: 1.899\n",
      "epoch start:  93\n",
      "training ...\n"
     ]
    },
    {
     "name": "stderr",
     "output_type": "stream",
     "text": [
      "485it [00:05, 95.92it/s] \n",
      "121it [00:00, 576.29it/s]\n"
     ]
    },
    {
     "name": "stdout",
     "output_type": "stream",
     "text": [
      "Epoch: 94 | Time: 0m 5s\tTrain Loss: 1.841 | Test Loss: 1.899\n",
      "epoch start:  94\n",
      "training ...\n"
     ]
    },
    {
     "name": "stderr",
     "output_type": "stream",
     "text": [
      "485it [00:05, 96.50it/s] \n",
      "121it [00:00, 571.73it/s]\n"
     ]
    },
    {
     "name": "stdout",
     "output_type": "stream",
     "text": [
      "Epoch: 95 | Time: 0m 5s\tTrain Loss: 1.841 | Test Loss: 1.899\n",
      "epoch start:  95\n",
      "training ...\n"
     ]
    },
    {
     "name": "stderr",
     "output_type": "stream",
     "text": [
      "485it [00:04, 98.58it/s] \n",
      "121it [00:00, 549.77it/s]\n"
     ]
    },
    {
     "name": "stdout",
     "output_type": "stream",
     "text": [
      "Epoch: 96 | Time: 0m 5s\tTrain Loss: 1.840 | Test Loss: 1.899\n",
      "epoch start:  96\n",
      "training ...\n"
     ]
    },
    {
     "name": "stderr",
     "output_type": "stream",
     "text": [
      "485it [00:05, 95.83it/s] \n",
      "121it [00:00, 573.38it/s]\n"
     ]
    },
    {
     "name": "stdout",
     "output_type": "stream",
     "text": [
      "Epoch: 97 | Time: 0m 5s\tTrain Loss: 1.840 | Test Loss: 1.899\n",
      "epoch start:  97\n",
      "training ...\n"
     ]
    },
    {
     "name": "stderr",
     "output_type": "stream",
     "text": [
      "485it [00:05, 94.93it/s] \n",
      "121it [00:00, 552.18it/s]\n"
     ]
    },
    {
     "name": "stdout",
     "output_type": "stream",
     "text": [
      "Epoch: 98 | Time: 0m 5s\tTrain Loss: 1.839 | Test Loss: 1.899\n",
      "epoch start:  98\n",
      "training ...\n"
     ]
    },
    {
     "name": "stderr",
     "output_type": "stream",
     "text": [
      "485it [00:05, 94.94it/s] \n",
      "121it [00:00, 585.34it/s]\n"
     ]
    },
    {
     "name": "stdout",
     "output_type": "stream",
     "text": [
      "Epoch: 99 | Time: 0m 5s\tTrain Loss: 1.839 | Test Loss: 1.899\n",
      "epoch start:  99\n",
      "training ...\n"
     ]
    },
    {
     "name": "stderr",
     "output_type": "stream",
     "text": [
      "485it [00:05, 94.94it/s] \n",
      "121it [00:00, 535.39it/s]\n"
     ]
    },
    {
     "name": "stdout",
     "output_type": "stream",
     "text": [
      "Epoch: 100 | Time: 0m 5s\tTrain Loss: 1.838 | Test Loss: 1.899\n",
      "epoch start:  100\n",
      "training ...\n"
     ]
    },
    {
     "name": "stderr",
     "output_type": "stream",
     "text": [
      "485it [00:05, 94.32it/s] \n",
      "121it [00:00, 299.95it/s]\n"
     ]
    },
    {
     "name": "stdout",
     "output_type": "stream",
     "text": [
      "Epoch: 101 | Time: 0m 5s\tTrain Loss: 1.838 | Test Loss: 1.899\n",
      "epoch start:  101\n",
      "training ...\n"
     ]
    },
    {
     "name": "stderr",
     "output_type": "stream",
     "text": [
      "485it [00:06, 78.18it/s]\n",
      "121it [00:00, 448.09it/s]\n"
     ]
    },
    {
     "name": "stdout",
     "output_type": "stream",
     "text": [
      "Epoch: 102 | Time: 0m 6s\tTrain Loss: 1.837 | Test Loss: 1.898\n",
      "epoch start:  102\n",
      "training ...\n"
     ]
    },
    {
     "name": "stderr",
     "output_type": "stream",
     "text": [
      "485it [00:07, 63.98it/s]\n",
      "121it [00:00, 350.29it/s]\n"
     ]
    },
    {
     "name": "stdout",
     "output_type": "stream",
     "text": [
      "Epoch: 103 | Time: 0m 7s\tTrain Loss: 1.837 | Test Loss: 1.898\n",
      "epoch start:  103\n",
      "training ...\n"
     ]
    },
    {
     "name": "stderr",
     "output_type": "stream",
     "text": [
      "485it [00:06, 72.97it/s] \n",
      "121it [00:00, 353.59it/s]\n"
     ]
    },
    {
     "name": "stdout",
     "output_type": "stream",
     "text": [
      "Epoch: 104 | Time: 0m 6s\tTrain Loss: 1.836 | Test Loss: 1.898\n",
      "epoch start:  104\n",
      "training ...\n"
     ]
    },
    {
     "name": "stderr",
     "output_type": "stream",
     "text": [
      "485it [00:05, 89.46it/s]\n",
      "121it [00:00, 582.22it/s]\n"
     ]
    },
    {
     "name": "stdout",
     "output_type": "stream",
     "text": [
      "Epoch: 105 | Time: 0m 5s\tTrain Loss: 1.836 | Test Loss: 1.898\n",
      "epoch start:  105\n",
      "training ...\n"
     ]
    },
    {
     "name": "stderr",
     "output_type": "stream",
     "text": [
      "485it [00:05, 90.98it/s] \n",
      "121it [00:00, 385.31it/s]\n"
     ]
    },
    {
     "name": "stdout",
     "output_type": "stream",
     "text": [
      "Epoch: 106 | Time: 0m 5s\tTrain Loss: 1.835 | Test Loss: 1.898\n",
      "epoch start:  106\n",
      "training ...\n"
     ]
    },
    {
     "name": "stderr",
     "output_type": "stream",
     "text": [
      "485it [00:05, 86.65it/s]\n",
      "121it [00:00, 550.40it/s]\n"
     ]
    },
    {
     "name": "stdout",
     "output_type": "stream",
     "text": [
      "Epoch: 107 | Time: 0m 5s\tTrain Loss: 1.835 | Test Loss: 1.898\n",
      "epoch start:  107\n",
      "training ...\n"
     ]
    },
    {
     "name": "stderr",
     "output_type": "stream",
     "text": [
      "485it [00:05, 84.91it/s]\n",
      "121it [00:00, 396.31it/s]\n"
     ]
    },
    {
     "name": "stdout",
     "output_type": "stream",
     "text": [
      "Epoch: 108 | Time: 0m 6s\tTrain Loss: 1.834 | Test Loss: 1.898\n",
      "epoch start:  108\n",
      "training ...\n"
     ]
    },
    {
     "name": "stderr",
     "output_type": "stream",
     "text": [
      "485it [00:05, 93.36it/s] \n",
      "121it [00:00, 571.11it/s]\n"
     ]
    },
    {
     "name": "stdout",
     "output_type": "stream",
     "text": [
      "Epoch: 109 | Time: 0m 5s\tTrain Loss: 1.834 | Test Loss: 1.897\n",
      "epoch start:  109\n",
      "training ...\n"
     ]
    },
    {
     "name": "stderr",
     "output_type": "stream",
     "text": [
      "485it [00:05, 90.97it/s] \n",
      "121it [00:00, 579.00it/s]\n"
     ]
    },
    {
     "name": "stdout",
     "output_type": "stream",
     "text": [
      "Epoch: 110 | Time: 0m 5s\tTrain Loss: 1.833 | Test Loss: 1.897\n",
      "epoch start:  110\n",
      "training ...\n"
     ]
    },
    {
     "name": "stderr",
     "output_type": "stream",
     "text": [
      "485it [00:05, 90.66it/s]\n",
      "121it [00:00, 407.17it/s]\n"
     ]
    },
    {
     "name": "stdout",
     "output_type": "stream",
     "text": [
      "Epoch: 111 | Time: 0m 5s\tTrain Loss: 1.833 | Test Loss: 1.897\n",
      "epoch start:  111\n",
      "training ...\n"
     ]
    },
    {
     "name": "stderr",
     "output_type": "stream",
     "text": [
      "485it [00:05, 91.96it/s] \n",
      "121it [00:00, 577.40it/s]\n"
     ]
    },
    {
     "name": "stdout",
     "output_type": "stream",
     "text": [
      "Epoch: 112 | Time: 0m 5s\tTrain Loss: 1.832 | Test Loss: 1.897\n",
      "epoch start:  112\n",
      "training ...\n"
     ]
    },
    {
     "name": "stderr",
     "output_type": "stream",
     "text": [
      "485it [00:05, 90.59it/s]\n",
      "121it [00:00, 468.03it/s]\n"
     ]
    },
    {
     "name": "stdout",
     "output_type": "stream",
     "text": [
      "Epoch: 113 | Time: 0m 5s\tTrain Loss: 1.832 | Test Loss: 1.897\n",
      "epoch start:  113\n",
      "training ...\n"
     ]
    },
    {
     "name": "stderr",
     "output_type": "stream",
     "text": [
      "485it [00:05, 92.70it/s] \n",
      "121it [00:00, 584.86it/s]\n"
     ]
    },
    {
     "name": "stdout",
     "output_type": "stream",
     "text": [
      "Epoch: 114 | Time: 0m 5s\tTrain Loss: 1.832 | Test Loss: 1.897\n",
      "epoch start:  114\n",
      "training ...\n"
     ]
    },
    {
     "name": "stderr",
     "output_type": "stream",
     "text": [
      "485it [00:05, 92.44it/s] \n",
      "121it [00:00, 521.54it/s]\n"
     ]
    },
    {
     "name": "stdout",
     "output_type": "stream",
     "text": [
      "Epoch: 115 | Time: 0m 5s\tTrain Loss: 1.831 | Test Loss: 1.897\n",
      "epoch start:  115\n",
      "training ...\n"
     ]
    },
    {
     "name": "stderr",
     "output_type": "stream",
     "text": [
      "485it [00:05, 93.69it/s] \n",
      "121it [00:00, 576.87it/s]\n"
     ]
    },
    {
     "name": "stdout",
     "output_type": "stream",
     "text": [
      "Epoch: 116 | Time: 0m 5s\tTrain Loss: 1.831 | Test Loss: 1.896\n",
      "epoch start:  116\n",
      "training ...\n"
     ]
    },
    {
     "name": "stderr",
     "output_type": "stream",
     "text": [
      "485it [00:05, 90.61it/s] \n",
      "121it [00:00, 391.30it/s]\n"
     ]
    },
    {
     "name": "stdout",
     "output_type": "stream",
     "text": [
      "Epoch: 117 | Time: 0m 5s\tTrain Loss: 1.830 | Test Loss: 1.896\n",
      "epoch start:  117\n",
      "training ...\n"
     ]
    },
    {
     "name": "stderr",
     "output_type": "stream",
     "text": [
      "485it [00:05, 85.19it/s]\n",
      "121it [00:00, 412.81it/s]\n"
     ]
    },
    {
     "name": "stdout",
     "output_type": "stream",
     "text": [
      "Epoch: 118 | Time: 0m 5s\tTrain Loss: 1.830 | Test Loss: 1.896\n",
      "epoch start:  118\n",
      "training ...\n"
     ]
    },
    {
     "name": "stderr",
     "output_type": "stream",
     "text": [
      "485it [00:05, 88.84it/s]\n",
      "121it [00:00, 549.80it/s]\n"
     ]
    },
    {
     "name": "stdout",
     "output_type": "stream",
     "text": [
      "Epoch: 119 | Time: 0m 5s\tTrain Loss: 1.829 | Test Loss: 1.896\n",
      "epoch start:  119\n",
      "training ...\n"
     ]
    },
    {
     "name": "stderr",
     "output_type": "stream",
     "text": [
      "485it [00:05, 88.51it/s]\n",
      "121it [00:00, 438.91it/s]\n"
     ]
    },
    {
     "name": "stdout",
     "output_type": "stream",
     "text": [
      "Epoch: 120 | Time: 0m 5s\tTrain Loss: 1.829 | Test Loss: 1.896\n",
      "epoch start:  120\n",
      "training ...\n"
     ]
    },
    {
     "name": "stderr",
     "output_type": "stream",
     "text": [
      "485it [00:05, 90.76it/s]\n",
      "121it [00:00, 533.79it/s]\n"
     ]
    },
    {
     "name": "stdout",
     "output_type": "stream",
     "text": [
      "Epoch: 121 | Time: 0m 5s\tTrain Loss: 1.829 | Test Loss: 1.896\n",
      "epoch start:  121\n",
      "training ...\n"
     ]
    },
    {
     "name": "stderr",
     "output_type": "stream",
     "text": [
      "485it [00:05, 90.98it/s] \n",
      "121it [00:00, 471.26it/s]\n"
     ]
    },
    {
     "name": "stdout",
     "output_type": "stream",
     "text": [
      "Epoch: 122 | Time: 0m 5s\tTrain Loss: 1.828 | Test Loss: 1.896\n",
      "epoch start:  122\n",
      "training ...\n"
     ]
    },
    {
     "name": "stderr",
     "output_type": "stream",
     "text": [
      "485it [00:05, 87.32it/s] \n",
      "121it [00:00, 441.11it/s]\n"
     ]
    },
    {
     "name": "stdout",
     "output_type": "stream",
     "text": [
      "Epoch: 123 | Time: 0m 5s\tTrain Loss: 1.828 | Test Loss: 1.896\n",
      "epoch start:  123\n",
      "training ...\n"
     ]
    },
    {
     "name": "stderr",
     "output_type": "stream",
     "text": [
      "485it [00:05, 92.41it/s] \n",
      "121it [00:00, 494.05it/s]\n"
     ]
    },
    {
     "name": "stdout",
     "output_type": "stream",
     "text": [
      "Epoch: 124 | Time: 0m 5s\tTrain Loss: 1.827 | Test Loss: 1.895\n",
      "epoch start:  124\n",
      "training ...\n"
     ]
    },
    {
     "name": "stderr",
     "output_type": "stream",
     "text": [
      "485it [00:05, 88.68it/s] \n",
      "121it [00:00, 337.38it/s]\n"
     ]
    },
    {
     "name": "stdout",
     "output_type": "stream",
     "text": [
      "Epoch: 125 | Time: 0m 5s\tTrain Loss: 1.827 | Test Loss: 1.895\n",
      "epoch start:  125\n",
      "training ...\n"
     ]
    },
    {
     "name": "stderr",
     "output_type": "stream",
     "text": [
      "485it [00:05, 83.65it/s]\n",
      "121it [00:00, 554.16it/s]\n"
     ]
    },
    {
     "name": "stdout",
     "output_type": "stream",
     "text": [
      "Epoch: 126 | Time: 0m 6s\tTrain Loss: 1.827 | Test Loss: 1.895\n",
      "epoch start:  126\n",
      "training ...\n"
     ]
    },
    {
     "name": "stderr",
     "output_type": "stream",
     "text": [
      "485it [00:05, 88.41it/s]\n",
      "121it [00:00, 448.11it/s]\n"
     ]
    },
    {
     "name": "stdout",
     "output_type": "stream",
     "text": [
      "Epoch: 127 | Time: 0m 5s\tTrain Loss: 1.826 | Test Loss: 1.895\n",
      "epoch start:  127\n",
      "training ...\n"
     ]
    },
    {
     "name": "stderr",
     "output_type": "stream",
     "text": [
      "485it [00:05, 90.89it/s]\n",
      "121it [00:00, 516.56it/s]\n"
     ]
    },
    {
     "name": "stdout",
     "output_type": "stream",
     "text": [
      "Epoch: 128 | Time: 0m 5s\tTrain Loss: 1.826 | Test Loss: 1.895\n",
      "epoch start:  128\n",
      "training ...\n"
     ]
    },
    {
     "name": "stderr",
     "output_type": "stream",
     "text": [
      "485it [00:05, 90.34it/s]\n",
      "121it [00:00, 573.64it/s]\n"
     ]
    },
    {
     "name": "stdout",
     "output_type": "stream",
     "text": [
      "Epoch: 129 | Time: 0m 5s\tTrain Loss: 1.826 | Test Loss: 1.895\n",
      "epoch start:  129\n",
      "training ...\n"
     ]
    },
    {
     "name": "stderr",
     "output_type": "stream",
     "text": [
      "485it [00:05, 85.29it/s]\n",
      "121it [00:00, 381.01it/s]\n"
     ]
    },
    {
     "name": "stdout",
     "output_type": "stream",
     "text": [
      "Epoch: 130 | Time: 0m 6s\tTrain Loss: 1.825 | Test Loss: 1.895\n",
      "epoch start:  130\n",
      "training ...\n"
     ]
    },
    {
     "name": "stderr",
     "output_type": "stream",
     "text": [
      "485it [00:05, 86.28it/s]\n",
      "121it [00:00, 544.33it/s]\n"
     ]
    },
    {
     "name": "stdout",
     "output_type": "stream",
     "text": [
      "Epoch: 131 | Time: 0m 5s\tTrain Loss: 1.825 | Test Loss: 1.895\n",
      "epoch start:  131\n",
      "training ...\n"
     ]
    },
    {
     "name": "stderr",
     "output_type": "stream",
     "text": [
      "485it [00:05, 88.79it/s]\n",
      "121it [00:00, 555.35it/s]\n"
     ]
    },
    {
     "name": "stdout",
     "output_type": "stream",
     "text": [
      "Epoch: 132 | Time: 0m 5s\tTrain Loss: 1.825 | Test Loss: 1.895\n",
      "epoch start:  132\n",
      "training ...\n"
     ]
    },
    {
     "name": "stderr",
     "output_type": "stream",
     "text": [
      "485it [00:05, 91.77it/s] \n",
      "121it [00:00, 577.92it/s]\n"
     ]
    },
    {
     "name": "stdout",
     "output_type": "stream",
     "text": [
      "Epoch: 133 | Time: 0m 5s\tTrain Loss: 1.824 | Test Loss: 1.895\n",
      "epoch start:  133\n",
      "training ...\n"
     ]
    },
    {
     "name": "stderr",
     "output_type": "stream",
     "text": [
      "485it [00:05, 90.67it/s]\n",
      "121it [00:00, 386.48it/s]\n"
     ]
    },
    {
     "name": "stdout",
     "output_type": "stream",
     "text": [
      "Epoch: 134 | Time: 0m 5s\tTrain Loss: 1.824 | Test Loss: 1.894\n",
      "epoch start:  134\n",
      "training ...\n"
     ]
    },
    {
     "name": "stderr",
     "output_type": "stream",
     "text": [
      "485it [00:05, 89.97it/s]\n",
      "121it [00:00, 402.80it/s]\n"
     ]
    },
    {
     "name": "stdout",
     "output_type": "stream",
     "text": [
      "Epoch: 135 | Time: 0m 5s\tTrain Loss: 1.824 | Test Loss: 1.894\n",
      "epoch start:  135\n",
      "training ...\n"
     ]
    },
    {
     "name": "stderr",
     "output_type": "stream",
     "text": [
      "485it [00:05, 90.28it/s]\n",
      "121it [00:00, 404.26it/s]\n"
     ]
    },
    {
     "name": "stdout",
     "output_type": "stream",
     "text": [
      "Epoch: 136 | Time: 0m 5s\tTrain Loss: 1.823 | Test Loss: 1.894\n",
      "epoch start:  136\n",
      "training ...\n"
     ]
    },
    {
     "name": "stderr",
     "output_type": "stream",
     "text": [
      "485it [00:05, 89.68it/s]\n",
      "121it [00:00, 503.50it/s]\n"
     ]
    },
    {
     "name": "stdout",
     "output_type": "stream",
     "text": [
      "Epoch: 137 | Time: 0m 5s\tTrain Loss: 1.823 | Test Loss: 1.894\n",
      "epoch start:  137\n",
      "training ...\n"
     ]
    },
    {
     "name": "stderr",
     "output_type": "stream",
     "text": [
      "485it [00:05, 90.08it/s]\n",
      "121it [00:00, 567.50it/s]\n"
     ]
    },
    {
     "name": "stdout",
     "output_type": "stream",
     "text": [
      "Epoch: 138 | Time: 0m 5s\tTrain Loss: 1.823 | Test Loss: 1.894\n",
      "epoch start:  138\n",
      "training ...\n"
     ]
    },
    {
     "name": "stderr",
     "output_type": "stream",
     "text": [
      "485it [00:05, 90.51it/s] \n",
      "121it [00:00, 402.05it/s]\n"
     ]
    },
    {
     "name": "stdout",
     "output_type": "stream",
     "text": [
      "Epoch: 139 | Time: 0m 5s\tTrain Loss: 1.822 | Test Loss: 1.894\n",
      "epoch start:  139\n",
      "training ...\n"
     ]
    },
    {
     "name": "stderr",
     "output_type": "stream",
     "text": [
      "485it [00:05, 89.87it/s]\n",
      "121it [00:00, 451.07it/s]\n"
     ]
    },
    {
     "name": "stdout",
     "output_type": "stream",
     "text": [
      "Epoch: 140 | Time: 0m 5s\tTrain Loss: 1.822 | Test Loss: 1.894\n",
      "epoch start:  140\n",
      "training ...\n"
     ]
    },
    {
     "name": "stderr",
     "output_type": "stream",
     "text": [
      "485it [00:05, 88.60it/s] \n",
      "121it [00:00, 396.01it/s]\n"
     ]
    },
    {
     "name": "stdout",
     "output_type": "stream",
     "text": [
      "Epoch: 141 | Time: 0m 5s\tTrain Loss: 1.822 | Test Loss: 1.894\n",
      "epoch start:  141\n",
      "training ...\n"
     ]
    },
    {
     "name": "stderr",
     "output_type": "stream",
     "text": [
      "485it [00:05, 88.38it/s]\n",
      "121it [00:00, 578.51it/s]\n"
     ]
    },
    {
     "name": "stdout",
     "output_type": "stream",
     "text": [
      "Epoch: 142 | Time: 0m 5s\tTrain Loss: 1.821 | Test Loss: 1.894\n",
      "epoch start:  142\n",
      "training ...\n"
     ]
    },
    {
     "name": "stderr",
     "output_type": "stream",
     "text": [
      "485it [00:05, 90.67it/s] \n",
      "121it [00:00, 445.50it/s]\n"
     ]
    },
    {
     "name": "stdout",
     "output_type": "stream",
     "text": [
      "Epoch: 143 | Time: 0m 5s\tTrain Loss: 1.821 | Test Loss: 1.894\n",
      "epoch start:  143\n",
      "training ...\n"
     ]
    },
    {
     "name": "stderr",
     "output_type": "stream",
     "text": [
      "485it [00:05, 88.32it/s]\n",
      "121it [00:00, 564.88it/s]\n"
     ]
    },
    {
     "name": "stdout",
     "output_type": "stream",
     "text": [
      "Epoch: 144 | Time: 0m 5s\tTrain Loss: 1.821 | Test Loss: 1.894\n",
      "epoch start:  144\n",
      "training ...\n"
     ]
    },
    {
     "name": "stderr",
     "output_type": "stream",
     "text": [
      "485it [00:05, 81.05it/s]\n",
      "121it [00:00, 516.72it/s]\n"
     ]
    },
    {
     "name": "stdout",
     "output_type": "stream",
     "text": [
      "Epoch: 145 | Time: 0m 6s\tTrain Loss: 1.820 | Test Loss: 1.894\n",
      "epoch start:  145\n",
      "training ...\n"
     ]
    },
    {
     "name": "stderr",
     "output_type": "stream",
     "text": [
      "485it [00:05, 88.47it/s] \n",
      "121it [00:00, 549.61it/s]\n"
     ]
    },
    {
     "name": "stdout",
     "output_type": "stream",
     "text": [
      "Epoch: 146 | Time: 0m 5s\tTrain Loss: 1.820 | Test Loss: 1.894\n",
      "epoch start:  146\n",
      "training ...\n"
     ]
    },
    {
     "name": "stderr",
     "output_type": "stream",
     "text": [
      "485it [00:05, 91.63it/s]\n",
      "121it [00:00, 455.35it/s]\n"
     ]
    },
    {
     "name": "stdout",
     "output_type": "stream",
     "text": [
      "Epoch: 147 | Time: 0m 5s\tTrain Loss: 1.820 | Test Loss: 1.894\n",
      "epoch start:  147\n",
      "training ...\n"
     ]
    },
    {
     "name": "stderr",
     "output_type": "stream",
     "text": [
      "485it [00:05, 89.37it/s]\n",
      "121it [00:00, 567.46it/s]\n"
     ]
    },
    {
     "name": "stdout",
     "output_type": "stream",
     "text": [
      "Epoch: 148 | Time: 0m 5s\tTrain Loss: 1.820 | Test Loss: 1.894\n",
      "epoch start:  148\n",
      "training ...\n"
     ]
    },
    {
     "name": "stderr",
     "output_type": "stream",
     "text": [
      "485it [00:05, 91.41it/s] \n",
      "121it [00:00, 578.54it/s]\n"
     ]
    },
    {
     "name": "stdout",
     "output_type": "stream",
     "text": [
      "Epoch: 149 | Time: 0m 5s\tTrain Loss: 1.819 | Test Loss: 1.893\n",
      "epoch start:  149\n",
      "training ...\n"
     ]
    },
    {
     "name": "stderr",
     "output_type": "stream",
     "text": [
      "485it [00:05, 90.30it/s] \n",
      "121it [00:00, 401.54it/s]\n"
     ]
    },
    {
     "name": "stdout",
     "output_type": "stream",
     "text": [
      "Epoch: 150 | Time: 0m 5s\tTrain Loss: 1.819 | Test Loss: 1.893\n",
      "epoch start:  150\n",
      "training ...\n"
     ]
    },
    {
     "name": "stderr",
     "output_type": "stream",
     "text": [
      "485it [00:05, 87.23it/s]\n",
      "121it [00:00, 565.40it/s]\n"
     ]
    },
    {
     "name": "stdout",
     "output_type": "stream",
     "text": [
      "Epoch: 151 | Time: 0m 5s\tTrain Loss: 1.819 | Test Loss: 1.893\n",
      "epoch start:  151\n",
      "training ...\n"
     ]
    },
    {
     "name": "stderr",
     "output_type": "stream",
     "text": [
      "485it [00:05, 93.15it/s] \n",
      "121it [00:00, 561.61it/s]\n"
     ]
    },
    {
     "name": "stdout",
     "output_type": "stream",
     "text": [
      "Epoch: 152 | Time: 0m 5s\tTrain Loss: 1.818 | Test Loss: 1.893\n",
      "epoch start:  152\n",
      "training ...\n"
     ]
    },
    {
     "name": "stderr",
     "output_type": "stream",
     "text": [
      "485it [00:05, 90.45it/s] \n",
      "121it [00:00, 428.17it/s]\n"
     ]
    },
    {
     "name": "stdout",
     "output_type": "stream",
     "text": [
      "Epoch: 153 | Time: 0m 5s\tTrain Loss: 1.818 | Test Loss: 1.893\n",
      "epoch start:  153\n",
      "training ...\n"
     ]
    },
    {
     "name": "stderr",
     "output_type": "stream",
     "text": [
      "485it [00:05, 83.57it/s]\n",
      "121it [00:00, 493.27it/s]\n"
     ]
    },
    {
     "name": "stdout",
     "output_type": "stream",
     "text": [
      "Epoch: 154 | Time: 0m 6s\tTrain Loss: 1.818 | Test Loss: 1.893\n",
      "epoch start:  154\n",
      "training ...\n"
     ]
    },
    {
     "name": "stderr",
     "output_type": "stream",
     "text": [
      "485it [00:05, 87.88it/s] \n",
      "121it [00:00, 441.57it/s]\n"
     ]
    },
    {
     "name": "stdout",
     "output_type": "stream",
     "text": [
      "Epoch: 155 | Time: 0m 5s\tTrain Loss: 1.818 | Test Loss: 1.893\n",
      "epoch start:  155\n",
      "training ...\n"
     ]
    },
    {
     "name": "stderr",
     "output_type": "stream",
     "text": [
      "485it [00:05, 87.50it/s]\n",
      "121it [00:00, 283.01it/s]\n"
     ]
    },
    {
     "name": "stdout",
     "output_type": "stream",
     "text": [
      "Epoch: 156 | Time: 0m 5s\tTrain Loss: 1.817 | Test Loss: 1.893\n",
      "epoch start:  156\n",
      "training ...\n"
     ]
    },
    {
     "name": "stderr",
     "output_type": "stream",
     "text": [
      "485it [00:05, 87.66it/s]\n",
      "121it [00:00, 471.22it/s]\n"
     ]
    },
    {
     "name": "stdout",
     "output_type": "stream",
     "text": [
      "Epoch: 157 | Time: 0m 5s\tTrain Loss: 1.817 | Test Loss: 1.893\n",
      "epoch start:  157\n",
      "training ...\n"
     ]
    },
    {
     "name": "stderr",
     "output_type": "stream",
     "text": [
      "485it [00:05, 91.28it/s]\n",
      "121it [00:00, 505.58it/s]\n"
     ]
    },
    {
     "name": "stdout",
     "output_type": "stream",
     "text": [
      "Epoch: 158 | Time: 0m 5s\tTrain Loss: 1.817 | Test Loss: 1.893\n",
      "epoch start:  158\n",
      "training ...\n"
     ]
    },
    {
     "name": "stderr",
     "output_type": "stream",
     "text": [
      "485it [00:05, 91.16it/s]\n",
      "121it [00:00, 485.84it/s]\n"
     ]
    },
    {
     "name": "stdout",
     "output_type": "stream",
     "text": [
      "Epoch: 159 | Time: 0m 5s\tTrain Loss: 1.817 | Test Loss: 1.893\n",
      "epoch start:  159\n",
      "training ...\n"
     ]
    },
    {
     "name": "stderr",
     "output_type": "stream",
     "text": [
      "485it [00:05, 89.93it/s]\n",
      "121it [00:00, 569.42it/s]\n"
     ]
    },
    {
     "name": "stdout",
     "output_type": "stream",
     "text": [
      "Epoch: 160 | Time: 0m 5s\tTrain Loss: 1.816 | Test Loss: 1.893\n",
      "epoch start:  160\n",
      "training ...\n"
     ]
    },
    {
     "name": "stderr",
     "output_type": "stream",
     "text": [
      "485it [00:05, 90.82it/s]\n",
      "121it [00:00, 381.43it/s]\n"
     ]
    },
    {
     "name": "stdout",
     "output_type": "stream",
     "text": [
      "Epoch: 161 | Time: 0m 5s\tTrain Loss: 1.816 | Test Loss: 1.893\n",
      "epoch start:  161\n",
      "training ...\n"
     ]
    },
    {
     "name": "stderr",
     "output_type": "stream",
     "text": [
      "485it [00:05, 86.63it/s]\n",
      "121it [00:00, 516.34it/s]\n"
     ]
    },
    {
     "name": "stdout",
     "output_type": "stream",
     "text": [
      "Epoch: 162 | Time: 0m 5s\tTrain Loss: 1.816 | Test Loss: 1.893\n",
      "epoch start:  162\n",
      "training ...\n"
     ]
    },
    {
     "name": "stderr",
     "output_type": "stream",
     "text": [
      "485it [00:05, 85.88it/s]\n",
      "121it [00:00, 399.35it/s]\n"
     ]
    },
    {
     "name": "stdout",
     "output_type": "stream",
     "text": [
      "Epoch: 163 | Time: 0m 5s\tTrain Loss: 1.816 | Test Loss: 1.893\n",
      "epoch start:  163\n",
      "training ...\n"
     ]
    },
    {
     "name": "stderr",
     "output_type": "stream",
     "text": [
      "485it [00:05, 90.12it/s]\n",
      "121it [00:00, 372.54it/s]\n"
     ]
    },
    {
     "name": "stdout",
     "output_type": "stream",
     "text": [
      "Epoch: 164 | Time: 0m 5s\tTrain Loss: 1.815 | Test Loss: 1.893\n",
      "epoch start:  164\n",
      "training ...\n"
     ]
    },
    {
     "name": "stderr",
     "output_type": "stream",
     "text": [
      "485it [00:05, 88.90it/s]\n",
      "121it [00:00, 496.23it/s]\n"
     ]
    },
    {
     "name": "stdout",
     "output_type": "stream",
     "text": [
      "Epoch: 165 | Time: 0m 5s\tTrain Loss: 1.815 | Test Loss: 1.893\n",
      "epoch start:  165\n",
      "training ...\n"
     ]
    },
    {
     "name": "stderr",
     "output_type": "stream",
     "text": [
      "485it [00:05, 89.56it/s]\n",
      "121it [00:00, 377.36it/s]\n"
     ]
    },
    {
     "name": "stdout",
     "output_type": "stream",
     "text": [
      "Epoch: 166 | Time: 0m 5s\tTrain Loss: 1.815 | Test Loss: 1.893\n",
      "epoch start:  166\n",
      "training ...\n"
     ]
    },
    {
     "name": "stderr",
     "output_type": "stream",
     "text": [
      "485it [00:05, 87.17it/s]\n",
      "121it [00:00, 456.96it/s]\n"
     ]
    },
    {
     "name": "stdout",
     "output_type": "stream",
     "text": [
      "Epoch: 167 | Time: 0m 5s\tTrain Loss: 1.815 | Test Loss: 1.893\n",
      "epoch start:  167\n",
      "training ...\n"
     ]
    },
    {
     "name": "stderr",
     "output_type": "stream",
     "text": [
      "485it [00:05, 89.17it/s]\n",
      "121it [00:00, 563.76it/s]\n"
     ]
    },
    {
     "name": "stdout",
     "output_type": "stream",
     "text": [
      "Epoch: 168 | Time: 0m 5s\tTrain Loss: 1.815 | Test Loss: 1.893\n",
      "epoch start:  168\n",
      "training ...\n"
     ]
    },
    {
     "name": "stderr",
     "output_type": "stream",
     "text": [
      "485it [00:05, 89.59it/s]\n",
      "121it [00:00, 566.27it/s]\n"
     ]
    },
    {
     "name": "stdout",
     "output_type": "stream",
     "text": [
      "Epoch: 169 | Time: 0m 5s\tTrain Loss: 1.814 | Test Loss: 1.893\n",
      "epoch start:  169\n",
      "training ...\n"
     ]
    },
    {
     "name": "stderr",
     "output_type": "stream",
     "text": [
      "485it [00:05, 91.01it/s]\n",
      "121it [00:00, 433.04it/s]\n"
     ]
    },
    {
     "name": "stdout",
     "output_type": "stream",
     "text": [
      "Epoch: 170 | Time: 0m 5s\tTrain Loss: 1.814 | Test Loss: 1.893\n",
      "epoch start:  170\n",
      "training ...\n"
     ]
    },
    {
     "name": "stderr",
     "output_type": "stream",
     "text": [
      "485it [00:05, 88.70it/s]\n",
      "121it [00:00, 519.28it/s]\n"
     ]
    },
    {
     "name": "stdout",
     "output_type": "stream",
     "text": [
      "Epoch: 171 | Time: 0m 5s\tTrain Loss: 1.814 | Test Loss: 1.893\n",
      "epoch start:  171\n",
      "training ...\n"
     ]
    },
    {
     "name": "stderr",
     "output_type": "stream",
     "text": [
      "485it [00:05, 91.34it/s]\n",
      "121it [00:00, 486.64it/s]\n"
     ]
    },
    {
     "name": "stdout",
     "output_type": "stream",
     "text": [
      "Epoch: 172 | Time: 0m 5s\tTrain Loss: 1.814 | Test Loss: 1.893\n",
      "epoch start:  172\n",
      "training ...\n"
     ]
    },
    {
     "name": "stderr",
     "output_type": "stream",
     "text": [
      "485it [00:05, 91.12it/s] \n",
      "121it [00:00, 427.71it/s]\n"
     ]
    },
    {
     "name": "stdout",
     "output_type": "stream",
     "text": [
      "Epoch: 173 | Time: 0m 5s\tTrain Loss: 1.813 | Test Loss: 1.893\n",
      "epoch start:  173\n",
      "training ...\n"
     ]
    },
    {
     "name": "stderr",
     "output_type": "stream",
     "text": [
      "485it [00:05, 90.57it/s] \n",
      "121it [00:00, 574.32it/s]\n"
     ]
    },
    {
     "name": "stdout",
     "output_type": "stream",
     "text": [
      "Epoch: 174 | Time: 0m 5s\tTrain Loss: 1.813 | Test Loss: 1.893\n",
      "epoch start:  174\n",
      "training ...\n"
     ]
    },
    {
     "name": "stderr",
     "output_type": "stream",
     "text": [
      "485it [00:05, 84.24it/s]\n",
      "121it [00:00, 386.24it/s]\n"
     ]
    },
    {
     "name": "stdout",
     "output_type": "stream",
     "text": [
      "Epoch: 175 | Time: 0m 6s\tTrain Loss: 1.813 | Test Loss: 1.893\n",
      "epoch start:  175\n",
      "training ...\n"
     ]
    },
    {
     "name": "stderr",
     "output_type": "stream",
     "text": [
      "485it [00:05, 86.33it/s]\n",
      "121it [00:00, 593.29it/s]\n"
     ]
    },
    {
     "name": "stdout",
     "output_type": "stream",
     "text": [
      "Epoch: 176 | Time: 0m 5s\tTrain Loss: 1.813 | Test Loss: 1.893\n",
      "epoch start:  176\n",
      "training ...\n"
     ]
    },
    {
     "name": "stderr",
     "output_type": "stream",
     "text": [
      "485it [00:05, 89.38it/s] \n",
      "121it [00:00, 497.99it/s]\n"
     ]
    },
    {
     "name": "stdout",
     "output_type": "stream",
     "text": [
      "Epoch: 177 | Time: 0m 5s\tTrain Loss: 1.813 | Test Loss: 1.893\n",
      "epoch start:  177\n",
      "training ...\n"
     ]
    },
    {
     "name": "stderr",
     "output_type": "stream",
     "text": [
      "485it [00:05, 91.77it/s] \n",
      "121it [00:00, 479.50it/s]\n"
     ]
    },
    {
     "name": "stdout",
     "output_type": "stream",
     "text": [
      "Epoch: 178 | Time: 0m 5s\tTrain Loss: 1.812 | Test Loss: 1.893\n",
      "epoch start:  178\n",
      "training ...\n"
     ]
    },
    {
     "name": "stderr",
     "output_type": "stream",
     "text": [
      "485it [00:05, 90.17it/s] \n",
      "121it [00:00, 581.94it/s]\n"
     ]
    },
    {
     "name": "stdout",
     "output_type": "stream",
     "text": [
      "Epoch: 179 | Time: 0m 5s\tTrain Loss: 1.812 | Test Loss: 1.893\n",
      "epoch start:  179\n",
      "training ...\n"
     ]
    },
    {
     "name": "stderr",
     "output_type": "stream",
     "text": [
      "485it [00:05, 88.22it/s]\n",
      "121it [00:00, 433.40it/s]\n"
     ]
    },
    {
     "name": "stdout",
     "output_type": "stream",
     "text": [
      "Epoch: 180 | Time: 0m 5s\tTrain Loss: 1.812 | Test Loss: 1.893\n",
      "epoch start:  180\n",
      "training ...\n"
     ]
    },
    {
     "name": "stderr",
     "output_type": "stream",
     "text": [
      "485it [00:05, 89.07it/s]\n",
      "121it [00:00, 314.54it/s]\n"
     ]
    },
    {
     "name": "stdout",
     "output_type": "stream",
     "text": [
      "Epoch: 181 | Time: 0m 5s\tTrain Loss: 1.812 | Test Loss: 1.893\n",
      "epoch start:  181\n",
      "training ...\n"
     ]
    },
    {
     "name": "stderr",
     "output_type": "stream",
     "text": [
      "485it [00:05, 88.61it/s]\n",
      "121it [00:00, 565.10it/s]\n"
     ]
    },
    {
     "name": "stdout",
     "output_type": "stream",
     "text": [
      "Epoch: 182 | Time: 0m 5s\tTrain Loss: 1.812 | Test Loss: 1.893\n",
      "epoch start:  182\n",
      "training ...\n"
     ]
    },
    {
     "name": "stderr",
     "output_type": "stream",
     "text": [
      "485it [00:05, 91.30it/s]\n",
      "121it [00:00, 555.15it/s]\n"
     ]
    },
    {
     "name": "stdout",
     "output_type": "stream",
     "text": [
      "Epoch: 183 | Time: 0m 5s\tTrain Loss: 1.811 | Test Loss: 1.893\n",
      "epoch start:  183\n",
      "training ...\n"
     ]
    },
    {
     "name": "stderr",
     "output_type": "stream",
     "text": [
      "485it [00:05, 92.15it/s] \n",
      "121it [00:00, 551.58it/s]\n"
     ]
    },
    {
     "name": "stdout",
     "output_type": "stream",
     "text": [
      "Epoch: 184 | Time: 0m 5s\tTrain Loss: 1.811 | Test Loss: 1.893\n",
      "epoch start:  184\n",
      "training ...\n"
     ]
    },
    {
     "name": "stderr",
     "output_type": "stream",
     "text": [
      "485it [00:05, 89.24it/s]\n",
      "121it [00:00, 573.77it/s]\n"
     ]
    },
    {
     "name": "stdout",
     "output_type": "stream",
     "text": [
      "Epoch: 185 | Time: 0m 5s\tTrain Loss: 1.811 | Test Loss: 1.893\n",
      "epoch start:  185\n",
      "training ...\n"
     ]
    },
    {
     "name": "stderr",
     "output_type": "stream",
     "text": [
      "485it [00:05, 93.56it/s] \n",
      "121it [00:00, 473.03it/s]\n"
     ]
    },
    {
     "name": "stdout",
     "output_type": "stream",
     "text": [
      "Epoch: 186 | Time: 0m 5s\tTrain Loss: 1.811 | Test Loss: 1.893\n",
      "epoch start:  186\n",
      "training ...\n"
     ]
    },
    {
     "name": "stderr",
     "output_type": "stream",
     "text": [
      "485it [00:05, 91.12it/s]\n",
      "121it [00:00, 532.36it/s]\n"
     ]
    },
    {
     "name": "stdout",
     "output_type": "stream",
     "text": [
      "Epoch: 187 | Time: 0m 5s\tTrain Loss: 1.811 | Test Loss: 1.893\n",
      "epoch start:  187\n",
      "training ...\n"
     ]
    },
    {
     "name": "stderr",
     "output_type": "stream",
     "text": [
      "485it [00:05, 89.08it/s]\n",
      "121it [00:00, 409.19it/s]\n"
     ]
    },
    {
     "name": "stdout",
     "output_type": "stream",
     "text": [
      "Epoch: 188 | Time: 0m 5s\tTrain Loss: 1.810 | Test Loss: 1.893\n",
      "epoch start:  188\n",
      "training ...\n"
     ]
    },
    {
     "name": "stderr",
     "output_type": "stream",
     "text": [
      "485it [00:05, 87.11it/s] \n",
      "121it [00:00, 456.90it/s]\n"
     ]
    },
    {
     "name": "stdout",
     "output_type": "stream",
     "text": [
      "Epoch: 189 | Time: 0m 5s\tTrain Loss: 1.810 | Test Loss: 1.893\n",
      "epoch start:  189\n",
      "training ...\n"
     ]
    },
    {
     "name": "stderr",
     "output_type": "stream",
     "text": [
      "485it [00:05, 92.13it/s] \n",
      "121it [00:00, 585.68it/s]\n"
     ]
    },
    {
     "name": "stdout",
     "output_type": "stream",
     "text": [
      "Epoch: 190 | Time: 0m 5s\tTrain Loss: 1.810 | Test Loss: 1.893\n",
      "epoch start:  190\n",
      "training ...\n"
     ]
    },
    {
     "name": "stderr",
     "output_type": "stream",
     "text": [
      "485it [00:04, 97.27it/s] \n",
      "121it [00:00, 408.36it/s]\n"
     ]
    },
    {
     "name": "stdout",
     "output_type": "stream",
     "text": [
      "Epoch: 191 | Time: 0m 5s\tTrain Loss: 1.810 | Test Loss: 1.893\n",
      "epoch start:  191\n",
      "training ...\n"
     ]
    },
    {
     "name": "stderr",
     "output_type": "stream",
     "text": [
      "485it [00:05, 95.08it/s] \n",
      "121it [00:00, 372.90it/s]\n"
     ]
    },
    {
     "name": "stdout",
     "output_type": "stream",
     "text": [
      "Epoch: 192 | Time: 0m 5s\tTrain Loss: 1.810 | Test Loss: 1.893\n",
      "epoch start:  192\n",
      "training ...\n"
     ]
    },
    {
     "name": "stderr",
     "output_type": "stream",
     "text": [
      "485it [00:04, 97.58it/s] \n",
      "121it [00:00, 491.50it/s]\n"
     ]
    },
    {
     "name": "stdout",
     "output_type": "stream",
     "text": [
      "Epoch: 193 | Time: 0m 5s\tTrain Loss: 1.810 | Test Loss: 1.893\n",
      "epoch start:  193\n",
      "training ...\n"
     ]
    },
    {
     "name": "stderr",
     "output_type": "stream",
     "text": [
      "485it [00:05, 94.99it/s] \n",
      "121it [00:00, 576.07it/s]\n"
     ]
    },
    {
     "name": "stdout",
     "output_type": "stream",
     "text": [
      "Epoch: 194 | Time: 0m 5s\tTrain Loss: 1.809 | Test Loss: 1.893\n",
      "epoch start:  194\n",
      "training ...\n"
     ]
    },
    {
     "name": "stderr",
     "output_type": "stream",
     "text": [
      "485it [00:05, 94.42it/s] \n",
      "121it [00:00, 587.72it/s]\n"
     ]
    },
    {
     "name": "stdout",
     "output_type": "stream",
     "text": [
      "Epoch: 195 | Time: 0m 5s\tTrain Loss: 1.809 | Test Loss: 1.893\n",
      "epoch start:  195\n",
      "training ...\n"
     ]
    },
    {
     "name": "stderr",
     "output_type": "stream",
     "text": [
      "485it [00:05, 96.22it/s] \n",
      "121it [00:00, 464.32it/s]\n"
     ]
    },
    {
     "name": "stdout",
     "output_type": "stream",
     "text": [
      "Epoch: 196 | Time: 0m 5s\tTrain Loss: 1.809 | Test Loss: 1.893\n",
      "epoch start:  196\n",
      "training ...\n"
     ]
    },
    {
     "name": "stderr",
     "output_type": "stream",
     "text": [
      "485it [00:05, 94.31it/s]\n",
      "121it [00:00, 578.38it/s]\n"
     ]
    },
    {
     "name": "stdout",
     "output_type": "stream",
     "text": [
      "Epoch: 197 | Time: 0m 5s\tTrain Loss: 1.809 | Test Loss: 1.893\n",
      "epoch start:  197\n",
      "training ...\n"
     ]
    },
    {
     "name": "stderr",
     "output_type": "stream",
     "text": [
      "485it [00:05, 94.49it/s] \n",
      "121it [00:00, 401.33it/s]\n"
     ]
    },
    {
     "name": "stdout",
     "output_type": "stream",
     "text": [
      "Epoch: 198 | Time: 0m 5s\tTrain Loss: 1.809 | Test Loss: 1.893\n",
      "epoch start:  198\n",
      "training ...\n"
     ]
    },
    {
     "name": "stderr",
     "output_type": "stream",
     "text": [
      "485it [00:05, 96.28it/s] \n",
      "121it [00:00, 549.01it/s]\n"
     ]
    },
    {
     "name": "stdout",
     "output_type": "stream",
     "text": [
      "Epoch: 199 | Time: 0m 5s\tTrain Loss: 1.809 | Test Loss: 1.893\n",
      "epoch start:  199\n",
      "training ...\n"
     ]
    },
    {
     "name": "stderr",
     "output_type": "stream",
     "text": [
      "485it [00:05, 96.03it/s] \n",
      "121it [00:00, 578.44it/s]\n"
     ]
    },
    {
     "name": "stdout",
     "output_type": "stream",
     "text": [
      "Epoch: 200 | Time: 0m 5s\tTrain Loss: 1.808 | Test Loss: 1.893\n",
      "epoch start:  200\n",
      "training ...\n"
     ]
    },
    {
     "name": "stderr",
     "output_type": "stream",
     "text": [
      "485it [00:05, 93.71it/s] \n",
      "121it [00:00, 575.43it/s]\n"
     ]
    },
    {
     "name": "stdout",
     "output_type": "stream",
     "text": [
      "Epoch: 201 | Time: 0m 5s\tTrain Loss: 1.808 | Test Loss: 1.893\n",
      "epoch start:  201\n",
      "training ...\n"
     ]
    },
    {
     "name": "stderr",
     "output_type": "stream",
     "text": [
      "485it [00:05, 96.02it/s] \n",
      "121it [00:00, 546.98it/s]\n"
     ]
    },
    {
     "name": "stdout",
     "output_type": "stream",
     "text": [
      "Epoch: 202 | Time: 0m 5s\tTrain Loss: 1.808 | Test Loss: 1.893\n",
      "epoch start:  202\n",
      "training ...\n"
     ]
    },
    {
     "name": "stderr",
     "output_type": "stream",
     "text": [
      "485it [00:05, 95.96it/s] \n",
      "121it [00:00, 407.86it/s]\n"
     ]
    },
    {
     "name": "stdout",
     "output_type": "stream",
     "text": [
      "Epoch: 203 | Time: 0m 5s\tTrain Loss: 1.808 | Test Loss: 1.893\n",
      "epoch start:  203\n",
      "training ...\n"
     ]
    },
    {
     "name": "stderr",
     "output_type": "stream",
     "text": [
      "485it [00:05, 94.26it/s]\n",
      "121it [00:00, 399.65it/s]\n"
     ]
    },
    {
     "name": "stdout",
     "output_type": "stream",
     "text": [
      "Epoch: 204 | Time: 0m 5s\tTrain Loss: 1.808 | Test Loss: 1.893\n",
      "epoch start:  204\n",
      "training ...\n"
     ]
    },
    {
     "name": "stderr",
     "output_type": "stream",
     "text": [
      "485it [00:05, 94.74it/s] \n",
      "121it [00:00, 464.25it/s]\n"
     ]
    },
    {
     "name": "stdout",
     "output_type": "stream",
     "text": [
      "Epoch: 205 | Time: 0m 5s\tTrain Loss: 1.807 | Test Loss: 1.893\n",
      "epoch start:  205\n",
      "training ...\n"
     ]
    },
    {
     "name": "stderr",
     "output_type": "stream",
     "text": [
      "485it [00:05, 95.24it/s] \n",
      "121it [00:00, 549.21it/s]\n"
     ]
    },
    {
     "name": "stdout",
     "output_type": "stream",
     "text": [
      "Epoch: 206 | Time: 0m 5s\tTrain Loss: 1.807 | Test Loss: 1.893\n",
      "epoch start:  206\n",
      "training ...\n"
     ]
    },
    {
     "name": "stderr",
     "output_type": "stream",
     "text": [
      "485it [00:04, 97.26it/s] \n",
      "121it [00:00, 583.42it/s]\n"
     ]
    },
    {
     "name": "stdout",
     "output_type": "stream",
     "text": [
      "Epoch: 207 | Time: 0m 5s\tTrain Loss: 1.807 | Test Loss: 1.893\n",
      "epoch start:  207\n",
      "training ...\n"
     ]
    },
    {
     "name": "stderr",
     "output_type": "stream",
     "text": [
      "485it [00:04, 98.08it/s] \n",
      "121it [00:00, 387.71it/s]\n"
     ]
    },
    {
     "name": "stdout",
     "output_type": "stream",
     "text": [
      "Epoch: 208 | Time: 0m 5s\tTrain Loss: 1.807 | Test Loss: 1.893\n",
      "epoch start:  208\n",
      "training ...\n"
     ]
    },
    {
     "name": "stderr",
     "output_type": "stream",
     "text": [
      "485it [00:05, 94.62it/s] \n",
      "121it [00:00, 554.03it/s]\n"
     ]
    },
    {
     "name": "stdout",
     "output_type": "stream",
     "text": [
      "Epoch: 209 | Time: 0m 5s\tTrain Loss: 1.807 | Test Loss: 1.893\n",
      "epoch start:  209\n",
      "training ...\n"
     ]
    },
    {
     "name": "stderr",
     "output_type": "stream",
     "text": [
      "485it [00:05, 88.86it/s] \n",
      "121it [00:00, 482.40it/s]\n"
     ]
    },
    {
     "name": "stdout",
     "output_type": "stream",
     "text": [
      "Epoch: 210 | Time: 0m 5s\tTrain Loss: 1.807 | Test Loss: 1.893\n",
      "epoch start:  210\n",
      "training ...\n"
     ]
    },
    {
     "name": "stderr",
     "output_type": "stream",
     "text": [
      "485it [00:06, 80.72it/s]\n",
      "121it [00:00, 286.60it/s]\n"
     ]
    },
    {
     "name": "stdout",
     "output_type": "stream",
     "text": [
      "Epoch: 211 | Time: 0m 6s\tTrain Loss: 1.806 | Test Loss: 1.893\n",
      "epoch start:  211\n",
      "training ...\n"
     ]
    },
    {
     "name": "stderr",
     "output_type": "stream",
     "text": [
      "485it [00:07, 64.20it/s]\n",
      "121it [00:00, 274.63it/s]\n"
     ]
    },
    {
     "name": "stdout",
     "output_type": "stream",
     "text": [
      "Epoch: 212 | Time: 0m 7s\tTrain Loss: 1.806 | Test Loss: 1.893\n",
      "epoch start:  212\n",
      "training ...\n"
     ]
    },
    {
     "name": "stderr",
     "output_type": "stream",
     "text": [
      "485it [00:06, 72.72it/s]\n",
      "121it [00:00, 570.08it/s]\n"
     ]
    },
    {
     "name": "stdout",
     "output_type": "stream",
     "text": [
      "Epoch: 213 | Time: 0m 6s\tTrain Loss: 1.806 | Test Loss: 1.893\n",
      "epoch start:  213\n",
      "training ...\n"
     ]
    },
    {
     "name": "stderr",
     "output_type": "stream",
     "text": [
      "485it [00:05, 85.89it/s]\n",
      "121it [00:00, 447.79it/s]\n"
     ]
    },
    {
     "name": "stdout",
     "output_type": "stream",
     "text": [
      "Epoch: 214 | Time: 0m 5s\tTrain Loss: 1.806 | Test Loss: 1.893\n",
      "epoch start:  214\n",
      "training ...\n"
     ]
    },
    {
     "name": "stderr",
     "output_type": "stream",
     "text": [
      "485it [00:05, 91.31it/s] \n",
      "121it [00:00, 389.91it/s]\n"
     ]
    },
    {
     "name": "stdout",
     "output_type": "stream",
     "text": [
      "Epoch: 215 | Time: 0m 5s\tTrain Loss: 1.806 | Test Loss: 1.893\n",
      "epoch start:  215\n",
      "training ...\n"
     ]
    },
    {
     "name": "stderr",
     "output_type": "stream",
     "text": [
      "485it [00:05, 90.83it/s]\n",
      "121it [00:00, 567.95it/s]\n"
     ]
    },
    {
     "name": "stdout",
     "output_type": "stream",
     "text": [
      "Epoch: 216 | Time: 0m 5s\tTrain Loss: 1.806 | Test Loss: 1.893\n",
      "epoch start:  216\n",
      "training ...\n"
     ]
    },
    {
     "name": "stderr",
     "output_type": "stream",
     "text": [
      "485it [00:05, 93.32it/s] \n",
      "121it [00:00, 370.10it/s]\n"
     ]
    },
    {
     "name": "stdout",
     "output_type": "stream",
     "text": [
      "Epoch: 217 | Time: 0m 5s\tTrain Loss: 1.806 | Test Loss: 1.893\n",
      "epoch start:  217\n",
      "training ...\n"
     ]
    },
    {
     "name": "stderr",
     "output_type": "stream",
     "text": [
      "485it [00:05, 83.96it/s]\n",
      "121it [00:00, 477.38it/s]\n"
     ]
    },
    {
     "name": "stdout",
     "output_type": "stream",
     "text": [
      "Epoch: 218 | Time: 0m 6s\tTrain Loss: 1.805 | Test Loss: 1.893\n",
      "epoch start:  218\n",
      "training ...\n"
     ]
    },
    {
     "name": "stderr",
     "output_type": "stream",
     "text": [
      "485it [00:05, 91.63it/s] \n",
      "121it [00:00, 559.87it/s]\n"
     ]
    },
    {
     "name": "stdout",
     "output_type": "stream",
     "text": [
      "Epoch: 219 | Time: 0m 5s\tTrain Loss: 1.805 | Test Loss: 1.893\n",
      "epoch start:  219\n",
      "training ...\n"
     ]
    },
    {
     "name": "stderr",
     "output_type": "stream",
     "text": [
      "485it [00:05, 89.62it/s]\n",
      "121it [00:00, 546.92it/s]\n"
     ]
    },
    {
     "name": "stdout",
     "output_type": "stream",
     "text": [
      "Epoch: 220 | Time: 0m 5s\tTrain Loss: 1.805 | Test Loss: 1.893\n",
      "epoch start:  220\n",
      "training ...\n"
     ]
    },
    {
     "name": "stderr",
     "output_type": "stream",
     "text": [
      "485it [00:05, 90.25it/s]\n",
      "121it [00:00, 515.26it/s]\n"
     ]
    },
    {
     "name": "stdout",
     "output_type": "stream",
     "text": [
      "Epoch: 221 | Time: 0m 5s\tTrain Loss: 1.805 | Test Loss: 1.893\n",
      "epoch start:  221\n",
      "training ...\n"
     ]
    },
    {
     "name": "stderr",
     "output_type": "stream",
     "text": [
      "485it [00:06, 78.86it/s]\n",
      "121it [00:00, 262.07it/s]\n"
     ]
    },
    {
     "name": "stdout",
     "output_type": "stream",
     "text": [
      "Epoch: 222 | Time: 0m 6s\tTrain Loss: 1.805 | Test Loss: 1.893\n",
      "epoch start:  222\n",
      "training ...\n"
     ]
    },
    {
     "name": "stderr",
     "output_type": "stream",
     "text": [
      "485it [00:05, 89.70it/s] \n",
      "121it [00:00, 570.70it/s]\n"
     ]
    },
    {
     "name": "stdout",
     "output_type": "stream",
     "text": [
      "Epoch: 223 | Time: 0m 5s\tTrain Loss: 1.805 | Test Loss: 1.893\n",
      "epoch start:  223\n",
      "training ...\n"
     ]
    },
    {
     "name": "stderr",
     "output_type": "stream",
     "text": [
      "485it [00:05, 91.96it/s] \n",
      "121it [00:00, 491.89it/s]\n"
     ]
    },
    {
     "name": "stdout",
     "output_type": "stream",
     "text": [
      "Epoch: 224 | Time: 0m 5s\tTrain Loss: 1.804 | Test Loss: 1.893\n",
      "epoch start:  224\n",
      "training ...\n"
     ]
    },
    {
     "name": "stderr",
     "output_type": "stream",
     "text": [
      "485it [00:05, 82.71it/s]\n",
      "121it [00:00, 567.49it/s]\n"
     ]
    },
    {
     "name": "stdout",
     "output_type": "stream",
     "text": [
      "Epoch: 225 | Time: 0m 6s\tTrain Loss: 1.804 | Test Loss: 1.893\n",
      "epoch start:  225\n",
      "training ...\n"
     ]
    },
    {
     "name": "stderr",
     "output_type": "stream",
     "text": [
      "485it [00:05, 87.48it/s]\n",
      "121it [00:00, 582.88it/s]\n"
     ]
    },
    {
     "name": "stdout",
     "output_type": "stream",
     "text": [
      "Epoch: 226 | Time: 0m 5s\tTrain Loss: 1.804 | Test Loss: 1.893\n",
      "epoch start:  226\n",
      "training ...\n"
     ]
    },
    {
     "name": "stderr",
     "output_type": "stream",
     "text": [
      "485it [00:05, 89.30it/s] \n",
      "121it [00:00, 367.81it/s]\n"
     ]
    },
    {
     "name": "stdout",
     "output_type": "stream",
     "text": [
      "Epoch: 227 | Time: 0m 5s\tTrain Loss: 1.804 | Test Loss: 1.893\n",
      "epoch start:  227\n",
      "training ...\n"
     ]
    },
    {
     "name": "stderr",
     "output_type": "stream",
     "text": [
      "485it [00:05, 88.02it/s] \n",
      "121it [00:00, 524.05it/s]\n"
     ]
    },
    {
     "name": "stdout",
     "output_type": "stream",
     "text": [
      "Epoch: 228 | Time: 0m 5s\tTrain Loss: 1.804 | Test Loss: 1.893\n",
      "epoch start:  228\n",
      "training ...\n"
     ]
    },
    {
     "name": "stderr",
     "output_type": "stream",
     "text": [
      "485it [00:05, 89.19it/s] \n",
      "121it [00:00, 301.59it/s]\n"
     ]
    },
    {
     "name": "stdout",
     "output_type": "stream",
     "text": [
      "Epoch: 229 | Time: 0m 5s\tTrain Loss: 1.804 | Test Loss: 1.893\n",
      "epoch start:  229\n",
      "training ...\n"
     ]
    },
    {
     "name": "stderr",
     "output_type": "stream",
     "text": [
      "485it [00:05, 85.25it/s]\n",
      "121it [00:00, 377.08it/s]\n"
     ]
    },
    {
     "name": "stdout",
     "output_type": "stream",
     "text": [
      "Epoch: 230 | Time: 0m 6s\tTrain Loss: 1.804 | Test Loss: 1.893\n",
      "epoch start:  230\n",
      "training ...\n"
     ]
    },
    {
     "name": "stderr",
     "output_type": "stream",
     "text": [
      "485it [00:05, 90.14it/s]\n",
      "121it [00:00, 581.27it/s]\n"
     ]
    },
    {
     "name": "stdout",
     "output_type": "stream",
     "text": [
      "Epoch: 231 | Time: 0m 5s\tTrain Loss: 1.803 | Test Loss: 1.893\n",
      "epoch start:  231\n",
      "training ...\n"
     ]
    },
    {
     "name": "stderr",
     "output_type": "stream",
     "text": [
      "485it [00:05, 90.31it/s]\n",
      "121it [00:00, 391.52it/s]\n"
     ]
    },
    {
     "name": "stdout",
     "output_type": "stream",
     "text": [
      "Epoch: 232 | Time: 0m 5s\tTrain Loss: 1.803 | Test Loss: 1.893\n",
      "epoch start:  232\n",
      "training ...\n"
     ]
    },
    {
     "name": "stderr",
     "output_type": "stream",
     "text": [
      "485it [00:05, 88.79it/s]\n",
      "121it [00:00, 435.54it/s]\n"
     ]
    },
    {
     "name": "stdout",
     "output_type": "stream",
     "text": [
      "Epoch: 233 | Time: 0m 5s\tTrain Loss: 1.803 | Test Loss: 1.893\n",
      "epoch start:  233\n",
      "training ...\n"
     ]
    },
    {
     "name": "stderr",
     "output_type": "stream",
     "text": [
      "485it [00:05, 90.98it/s] \n",
      "121it [00:00, 579.72it/s]\n"
     ]
    },
    {
     "name": "stdout",
     "output_type": "stream",
     "text": [
      "Epoch: 234 | Time: 0m 5s\tTrain Loss: 1.803 | Test Loss: 1.893\n",
      "epoch start:  234\n",
      "training ...\n"
     ]
    },
    {
     "name": "stderr",
     "output_type": "stream",
     "text": [
      "485it [00:05, 83.13it/s]\n",
      "121it [00:00, 546.17it/s]\n"
     ]
    },
    {
     "name": "stdout",
     "output_type": "stream",
     "text": [
      "Epoch: 235 | Time: 0m 6s\tTrain Loss: 1.803 | Test Loss: 1.893\n",
      "epoch start:  235\n",
      "training ...\n"
     ]
    },
    {
     "name": "stderr",
     "output_type": "stream",
     "text": [
      "485it [00:05, 87.64it/s]\n",
      "121it [00:00, 578.03it/s]\n"
     ]
    },
    {
     "name": "stdout",
     "output_type": "stream",
     "text": [
      "Epoch: 236 | Time: 0m 5s\tTrain Loss: 1.803 | Test Loss: 1.893\n",
      "epoch start:  236\n",
      "training ...\n"
     ]
    },
    {
     "name": "stderr",
     "output_type": "stream",
     "text": [
      "485it [00:05, 91.31it/s]\n",
      "121it [00:00, 336.00it/s]\n"
     ]
    },
    {
     "name": "stdout",
     "output_type": "stream",
     "text": [
      "Epoch: 237 | Time: 0m 5s\tTrain Loss: 1.803 | Test Loss: 1.893\n",
      "epoch start:  237\n",
      "training ...\n"
     ]
    },
    {
     "name": "stderr",
     "output_type": "stream",
     "text": [
      "485it [00:05, 88.25it/s]\n",
      "121it [00:00, 360.71it/s]\n"
     ]
    },
    {
     "name": "stdout",
     "output_type": "stream",
     "text": [
      "Epoch: 238 | Time: 0m 5s\tTrain Loss: 1.803 | Test Loss: 1.893\n",
      "epoch start:  238\n",
      "training ...\n"
     ]
    },
    {
     "name": "stderr",
     "output_type": "stream",
     "text": [
      "485it [00:05, 91.36it/s]\n",
      "121it [00:00, 447.06it/s]\n"
     ]
    },
    {
     "name": "stdout",
     "output_type": "stream",
     "text": [
      "Epoch: 239 | Time: 0m 5s\tTrain Loss: 1.802 | Test Loss: 1.893\n",
      "epoch start:  239\n",
      "training ...\n"
     ]
    },
    {
     "name": "stderr",
     "output_type": "stream",
     "text": [
      "485it [00:05, 88.68it/s]\n",
      "121it [00:00, 576.98it/s]\n"
     ]
    },
    {
     "name": "stdout",
     "output_type": "stream",
     "text": [
      "Epoch: 240 | Time: 0m 5s\tTrain Loss: 1.802 | Test Loss: 1.893\n",
      "epoch start:  240\n",
      "training ...\n"
     ]
    },
    {
     "name": "stderr",
     "output_type": "stream",
     "text": [
      "485it [00:05, 90.58it/s]\n",
      "121it [00:00, 522.70it/s]\n"
     ]
    },
    {
     "name": "stdout",
     "output_type": "stream",
     "text": [
      "Epoch: 241 | Time: 0m 5s\tTrain Loss: 1.802 | Test Loss: 1.893\n",
      "epoch start:  241\n",
      "training ...\n"
     ]
    },
    {
     "name": "stderr",
     "output_type": "stream",
     "text": [
      "485it [00:05, 89.09it/s]\n",
      "121it [00:00, 367.55it/s]\n"
     ]
    },
    {
     "name": "stdout",
     "output_type": "stream",
     "text": [
      "Epoch: 242 | Time: 0m 5s\tTrain Loss: 1.802 | Test Loss: 1.893\n",
      "epoch start:  242\n",
      "training ...\n"
     ]
    },
    {
     "name": "stderr",
     "output_type": "stream",
     "text": [
      "485it [00:05, 88.76it/s] \n",
      "121it [00:00, 372.06it/s]\n"
     ]
    },
    {
     "name": "stdout",
     "output_type": "stream",
     "text": [
      "Epoch: 243 | Time: 0m 5s\tTrain Loss: 1.802 | Test Loss: 1.893\n",
      "epoch start:  243\n",
      "training ...\n"
     ]
    },
    {
     "name": "stderr",
     "output_type": "stream",
     "text": [
      "485it [00:05, 89.10it/s]\n",
      "121it [00:00, 437.15it/s]\n"
     ]
    },
    {
     "name": "stdout",
     "output_type": "stream",
     "text": [
      "Epoch: 244 | Time: 0m 5s\tTrain Loss: 1.802 | Test Loss: 1.893\n",
      "epoch start:  244\n",
      "training ...\n"
     ]
    },
    {
     "name": "stderr",
     "output_type": "stream",
     "text": [
      "485it [00:05, 87.64it/s]\n",
      "121it [00:00, 394.49it/s]\n"
     ]
    },
    {
     "name": "stdout",
     "output_type": "stream",
     "text": [
      "Epoch: 245 | Time: 0m 5s\tTrain Loss: 1.802 | Test Loss: 1.893\n",
      "epoch start:  245\n",
      "training ...\n"
     ]
    },
    {
     "name": "stderr",
     "output_type": "stream",
     "text": [
      "485it [00:05, 88.74it/s]\n",
      "121it [00:00, 403.87it/s]\n"
     ]
    },
    {
     "name": "stdout",
     "output_type": "stream",
     "text": [
      "Epoch: 246 | Time: 0m 5s\tTrain Loss: 1.801 | Test Loss: 1.893\n",
      "epoch start:  246\n",
      "training ...\n"
     ]
    },
    {
     "name": "stderr",
     "output_type": "stream",
     "text": [
      "485it [00:05, 88.33it/s]\n",
      "121it [00:00, 456.52it/s]\n"
     ]
    },
    {
     "name": "stdout",
     "output_type": "stream",
     "text": [
      "Epoch: 247 | Time: 0m 5s\tTrain Loss: 1.801 | Test Loss: 1.893\n",
      "epoch start:  247\n",
      "training ...\n"
     ]
    },
    {
     "name": "stderr",
     "output_type": "stream",
     "text": [
      "485it [00:05, 90.57it/s]\n",
      "121it [00:00, 560.63it/s]\n"
     ]
    },
    {
     "name": "stdout",
     "output_type": "stream",
     "text": [
      "Epoch: 248 | Time: 0m 5s\tTrain Loss: 1.801 | Test Loss: 1.893\n",
      "epoch start:  248\n",
      "training ...\n"
     ]
    },
    {
     "name": "stderr",
     "output_type": "stream",
     "text": [
      "485it [00:05, 91.26it/s] \n",
      "121it [00:00, 407.38it/s]\n"
     ]
    },
    {
     "name": "stdout",
     "output_type": "stream",
     "text": [
      "Epoch: 249 | Time: 0m 5s\tTrain Loss: 1.801 | Test Loss: 1.893\n",
      "epoch start:  249\n",
      "training ...\n"
     ]
    },
    {
     "name": "stderr",
     "output_type": "stream",
     "text": [
      "485it [00:05, 86.52it/s]\n",
      "121it [00:00, 544.77it/s]\n"
     ]
    },
    {
     "name": "stdout",
     "output_type": "stream",
     "text": [
      "Epoch: 250 | Time: 0m 5s\tTrain Loss: 1.801 | Test Loss: 1.893\n",
      "epoch start:  250\n",
      "training ...\n"
     ]
    },
    {
     "name": "stderr",
     "output_type": "stream",
     "text": [
      "485it [00:05, 87.30it/s]\n",
      "121it [00:00, 447.26it/s]\n"
     ]
    },
    {
     "name": "stdout",
     "output_type": "stream",
     "text": [
      "Epoch: 251 | Time: 0m 5s\tTrain Loss: 1.801 | Test Loss: 1.893\n",
      "epoch start:  251\n",
      "training ...\n"
     ]
    },
    {
     "name": "stderr",
     "output_type": "stream",
     "text": [
      "485it [00:05, 88.69it/s]\n",
      "121it [00:00, 521.53it/s]\n"
     ]
    },
    {
     "name": "stdout",
     "output_type": "stream",
     "text": [
      "Epoch: 252 | Time: 0m 5s\tTrain Loss: 1.801 | Test Loss: 1.893\n",
      "epoch start:  252\n",
      "training ...\n"
     ]
    },
    {
     "name": "stderr",
     "output_type": "stream",
     "text": [
      "485it [00:05, 91.31it/s]\n",
      "121it [00:00, 382.55it/s]\n"
     ]
    },
    {
     "name": "stdout",
     "output_type": "stream",
     "text": [
      "Epoch: 253 | Time: 0m 5s\tTrain Loss: 1.801 | Test Loss: 1.893\n",
      "epoch start:  253\n",
      "training ...\n"
     ]
    },
    {
     "name": "stderr",
     "output_type": "stream",
     "text": [
      "485it [00:05, 88.09it/s]\n",
      "121it [00:00, 513.42it/s]\n"
     ]
    },
    {
     "name": "stdout",
     "output_type": "stream",
     "text": [
      "Epoch: 254 | Time: 0m 5s\tTrain Loss: 1.800 | Test Loss: 1.893\n",
      "epoch start:  254\n",
      "training ...\n"
     ]
    },
    {
     "name": "stderr",
     "output_type": "stream",
     "text": [
      "485it [00:05, 90.11it/s] \n",
      "121it [00:00, 561.16it/s]\n"
     ]
    },
    {
     "name": "stdout",
     "output_type": "stream",
     "text": [
      "Epoch: 255 | Time: 0m 5s\tTrain Loss: 1.800 | Test Loss: 1.893\n",
      "epoch start:  255\n",
      "training ...\n"
     ]
    },
    {
     "name": "stderr",
     "output_type": "stream",
     "text": [
      "485it [00:05, 90.95it/s]\n",
      "121it [00:00, 492.59it/s]\n"
     ]
    },
    {
     "name": "stdout",
     "output_type": "stream",
     "text": [
      "Epoch: 256 | Time: 0m 5s\tTrain Loss: 1.800 | Test Loss: 1.893\n",
      "epoch start:  256\n",
      "training ...\n"
     ]
    },
    {
     "name": "stderr",
     "output_type": "stream",
     "text": [
      "485it [00:05, 90.42it/s] \n",
      "121it [00:00, 545.89it/s]\n"
     ]
    },
    {
     "name": "stdout",
     "output_type": "stream",
     "text": [
      "Epoch: 257 | Time: 0m 5s\tTrain Loss: 1.800 | Test Loss: 1.893\n",
      "epoch start:  257\n",
      "training ...\n"
     ]
    },
    {
     "name": "stderr",
     "output_type": "stream",
     "text": [
      "485it [00:05, 87.43it/s]\n",
      "121it [00:00, 385.24it/s]\n"
     ]
    },
    {
     "name": "stdout",
     "output_type": "stream",
     "text": [
      "Epoch: 258 | Time: 0m 5s\tTrain Loss: 1.800 | Test Loss: 1.893\n",
      "epoch start:  258\n",
      "training ...\n"
     ]
    },
    {
     "name": "stderr",
     "output_type": "stream",
     "text": [
      "485it [00:05, 84.03it/s] \n",
      "121it [00:00, 389.84it/s]\n"
     ]
    },
    {
     "name": "stdout",
     "output_type": "stream",
     "text": [
      "Epoch: 259 | Time: 0m 6s\tTrain Loss: 1.800 | Test Loss: 1.893\n",
      "epoch start:  259\n",
      "training ...\n"
     ]
    },
    {
     "name": "stderr",
     "output_type": "stream",
     "text": [
      "485it [00:05, 87.88it/s]\n",
      "121it [00:00, 580.14it/s]\n"
     ]
    },
    {
     "name": "stdout",
     "output_type": "stream",
     "text": [
      "Epoch: 260 | Time: 0m 5s\tTrain Loss: 1.800 | Test Loss: 1.893\n",
      "epoch start:  260\n",
      "training ...\n"
     ]
    },
    {
     "name": "stderr",
     "output_type": "stream",
     "text": [
      "485it [00:05, 90.28it/s]\n",
      "121it [00:00, 480.13it/s]\n"
     ]
    },
    {
     "name": "stdout",
     "output_type": "stream",
     "text": [
      "Epoch: 261 | Time: 0m 5s\tTrain Loss: 1.800 | Test Loss: 1.893\n",
      "epoch start:  261\n",
      "training ...\n"
     ]
    },
    {
     "name": "stderr",
     "output_type": "stream",
     "text": [
      "485it [00:05, 90.70it/s] \n",
      "121it [00:00, 566.47it/s]\n"
     ]
    },
    {
     "name": "stdout",
     "output_type": "stream",
     "text": [
      "Epoch: 262 | Time: 0m 5s\tTrain Loss: 1.799 | Test Loss: 1.893\n",
      "epoch start:  262\n",
      "training ...\n"
     ]
    },
    {
     "name": "stderr",
     "output_type": "stream",
     "text": [
      "485it [00:05, 88.76it/s]\n",
      "121it [00:00, 385.75it/s]\n"
     ]
    },
    {
     "name": "stdout",
     "output_type": "stream",
     "text": [
      "Epoch: 263 | Time: 0m 5s\tTrain Loss: 1.799 | Test Loss: 1.893\n",
      "epoch start:  263\n",
      "training ...\n"
     ]
    },
    {
     "name": "stderr",
     "output_type": "stream",
     "text": [
      "485it [00:05, 90.47it/s]\n",
      "121it [00:00, 389.98it/s]\n"
     ]
    },
    {
     "name": "stdout",
     "output_type": "stream",
     "text": [
      "Epoch: 264 | Time: 0m 5s\tTrain Loss: 1.799 | Test Loss: 1.893\n",
      "epoch start:  264\n",
      "training ...\n"
     ]
    },
    {
     "name": "stderr",
     "output_type": "stream",
     "text": [
      "485it [00:05, 92.48it/s] \n",
      "121it [00:00, 540.60it/s]\n"
     ]
    },
    {
     "name": "stdout",
     "output_type": "stream",
     "text": [
      "Epoch: 265 | Time: 0m 5s\tTrain Loss: 1.799 | Test Loss: 1.893\n",
      "epoch start:  265\n",
      "training ...\n"
     ]
    },
    {
     "name": "stderr",
     "output_type": "stream",
     "text": [
      "485it [00:05, 93.52it/s] \n",
      "121it [00:00, 356.26it/s]\n"
     ]
    },
    {
     "name": "stdout",
     "output_type": "stream",
     "text": [
      "Epoch: 266 | Time: 0m 5s\tTrain Loss: 1.799 | Test Loss: 1.893\n",
      "epoch start:  266\n",
      "training ...\n"
     ]
    },
    {
     "name": "stderr",
     "output_type": "stream",
     "text": [
      "485it [00:05, 86.86it/s]\n",
      "121it [00:00, 539.96it/s]\n"
     ]
    },
    {
     "name": "stdout",
     "output_type": "stream",
     "text": [
      "Epoch: 267 | Time: 0m 5s\tTrain Loss: 1.799 | Test Loss: 1.893\n",
      "epoch start:  267\n",
      "training ...\n"
     ]
    },
    {
     "name": "stderr",
     "output_type": "stream",
     "text": [
      "485it [00:05, 90.95it/s] \n",
      "121it [00:00, 576.61it/s]\n"
     ]
    },
    {
     "name": "stdout",
     "output_type": "stream",
     "text": [
      "Epoch: 268 | Time: 0m 5s\tTrain Loss: 1.799 | Test Loss: 1.893\n",
      "epoch start:  268\n",
      "training ...\n"
     ]
    },
    {
     "name": "stderr",
     "output_type": "stream",
     "text": [
      "485it [00:05, 90.22it/s] \n",
      "121it [00:00, 383.04it/s]\n"
     ]
    },
    {
     "name": "stdout",
     "output_type": "stream",
     "text": [
      "Epoch: 269 | Time: 0m 5s\tTrain Loss: 1.799 | Test Loss: 1.893\n",
      "epoch start:  269\n",
      "training ...\n"
     ]
    },
    {
     "name": "stderr",
     "output_type": "stream",
     "text": [
      "485it [00:05, 86.65it/s]\n",
      "121it [00:00, 399.19it/s]\n"
     ]
    },
    {
     "name": "stdout",
     "output_type": "stream",
     "text": [
      "Epoch: 270 | Time: 0m 5s\tTrain Loss: 1.798 | Test Loss: 1.893\n",
      "epoch start:  270\n",
      "training ...\n"
     ]
    },
    {
     "name": "stderr",
     "output_type": "stream",
     "text": [
      "485it [00:05, 91.16it/s] \n",
      "121it [00:00, 494.94it/s]\n"
     ]
    },
    {
     "name": "stdout",
     "output_type": "stream",
     "text": [
      "Epoch: 271 | Time: 0m 5s\tTrain Loss: 1.798 | Test Loss: 1.893\n",
      "epoch start:  271\n",
      "training ...\n"
     ]
    },
    {
     "name": "stderr",
     "output_type": "stream",
     "text": [
      "485it [00:05, 87.86it/s]\n",
      "121it [00:00, 549.09it/s]\n"
     ]
    },
    {
     "name": "stdout",
     "output_type": "stream",
     "text": [
      "Epoch: 272 | Time: 0m 5s\tTrain Loss: 1.798 | Test Loss: 1.893\n",
      "epoch start:  272\n",
      "training ...\n"
     ]
    },
    {
     "name": "stderr",
     "output_type": "stream",
     "text": [
      "485it [00:05, 90.48it/s] \n",
      "121it [00:00, 509.64it/s]\n"
     ]
    },
    {
     "name": "stdout",
     "output_type": "stream",
     "text": [
      "Epoch: 273 | Time: 0m 5s\tTrain Loss: 1.798 | Test Loss: 1.893\n",
      "epoch start:  273\n",
      "training ...\n"
     ]
    },
    {
     "name": "stderr",
     "output_type": "stream",
     "text": [
      "485it [00:05, 91.38it/s]\n",
      "121it [00:00, 380.90it/s]\n"
     ]
    },
    {
     "name": "stdout",
     "output_type": "stream",
     "text": [
      "Epoch: 274 | Time: 0m 5s\tTrain Loss: 1.798 | Test Loss: 1.893\n",
      "epoch start:  274\n",
      "training ...\n"
     ]
    },
    {
     "name": "stderr",
     "output_type": "stream",
     "text": [
      "485it [00:05, 86.77it/s]\n",
      "121it [00:00, 506.65it/s]\n"
     ]
    },
    {
     "name": "stdout",
     "output_type": "stream",
     "text": [
      "Epoch: 275 | Time: 0m 5s\tTrain Loss: 1.798 | Test Loss: 1.893\n",
      "epoch start:  275\n",
      "training ...\n"
     ]
    },
    {
     "name": "stderr",
     "output_type": "stream",
     "text": [
      "485it [00:05, 92.28it/s] \n",
      "121it [00:00, 376.47it/s]\n"
     ]
    },
    {
     "name": "stdout",
     "output_type": "stream",
     "text": [
      "Epoch: 276 | Time: 0m 5s\tTrain Loss: 1.798 | Test Loss: 1.893\n",
      "epoch start:  276\n",
      "training ...\n"
     ]
    },
    {
     "name": "stderr",
     "output_type": "stream",
     "text": [
      "485it [00:05, 91.04it/s] \n",
      "121it [00:00, 372.23it/s]\n"
     ]
    },
    {
     "name": "stdout",
     "output_type": "stream",
     "text": [
      "Epoch: 277 | Time: 0m 5s\tTrain Loss: 1.798 | Test Loss: 1.893\n",
      "epoch start:  277\n",
      "training ...\n"
     ]
    },
    {
     "name": "stderr",
     "output_type": "stream",
     "text": [
      "485it [00:05, 86.51it/s] \n",
      "121it [00:00, 390.19it/s]\n"
     ]
    },
    {
     "name": "stdout",
     "output_type": "stream",
     "text": [
      "Epoch: 278 | Time: 0m 5s\tTrain Loss: 1.798 | Test Loss: 1.894\n",
      "epoch start:  278\n",
      "training ...\n"
     ]
    },
    {
     "name": "stderr",
     "output_type": "stream",
     "text": [
      "485it [00:05, 87.99it/s]\n",
      "121it [00:00, 306.79it/s]\n"
     ]
    },
    {
     "name": "stdout",
     "output_type": "stream",
     "text": [
      "Epoch: 279 | Time: 0m 5s\tTrain Loss: 1.797 | Test Loss: 1.893\n",
      "epoch start:  279\n",
      "training ...\n"
     ]
    },
    {
     "name": "stderr",
     "output_type": "stream",
     "text": [
      "485it [00:05, 88.04it/s]\n",
      "121it [00:00, 566.83it/s]\n"
     ]
    },
    {
     "name": "stdout",
     "output_type": "stream",
     "text": [
      "Epoch: 280 | Time: 0m 5s\tTrain Loss: 1.797 | Test Loss: 1.893\n",
      "epoch start:  280\n",
      "training ...\n"
     ]
    },
    {
     "name": "stderr",
     "output_type": "stream",
     "text": [
      "485it [00:05, 89.18it/s] \n",
      "121it [00:00, 381.97it/s]\n"
     ]
    },
    {
     "name": "stdout",
     "output_type": "stream",
     "text": [
      "Epoch: 281 | Time: 0m 5s\tTrain Loss: 1.797 | Test Loss: 1.893\n",
      "epoch start:  281\n",
      "training ...\n"
     ]
    },
    {
     "name": "stderr",
     "output_type": "stream",
     "text": [
      "485it [00:05, 89.34it/s]\n",
      "121it [00:00, 480.79it/s]\n"
     ]
    },
    {
     "name": "stdout",
     "output_type": "stream",
     "text": [
      "Epoch: 282 | Time: 0m 5s\tTrain Loss: 1.797 | Test Loss: 1.893\n",
      "epoch start:  282\n",
      "training ...\n"
     ]
    },
    {
     "name": "stderr",
     "output_type": "stream",
     "text": [
      "485it [00:05, 89.61it/s]\n",
      "121it [00:00, 545.00it/s]\n"
     ]
    },
    {
     "name": "stdout",
     "output_type": "stream",
     "text": [
      "Epoch: 283 | Time: 0m 5s\tTrain Loss: 1.797 | Test Loss: 1.893\n",
      "epoch start:  283\n",
      "training ...\n"
     ]
    },
    {
     "name": "stderr",
     "output_type": "stream",
     "text": [
      "485it [00:05, 89.08it/s]\n",
      "121it [00:00, 556.17it/s]\n"
     ]
    },
    {
     "name": "stdout",
     "output_type": "stream",
     "text": [
      "Epoch: 284 | Time: 0m 5s\tTrain Loss: 1.797 | Test Loss: 1.893\n",
      "epoch start:  284\n",
      "training ...\n"
     ]
    },
    {
     "name": "stderr",
     "output_type": "stream",
     "text": [
      "485it [00:05, 86.93it/s] \n",
      "121it [00:00, 579.11it/s]\n"
     ]
    },
    {
     "name": "stdout",
     "output_type": "stream",
     "text": [
      "Epoch: 285 | Time: 0m 5s\tTrain Loss: 1.797 | Test Loss: 1.894\n",
      "epoch start:  285\n",
      "training ...\n"
     ]
    },
    {
     "name": "stderr",
     "output_type": "stream",
     "text": [
      "485it [00:05, 89.90it/s]\n",
      "121it [00:00, 544.65it/s]\n"
     ]
    },
    {
     "name": "stdout",
     "output_type": "stream",
     "text": [
      "Epoch: 286 | Time: 0m 5s\tTrain Loss: 1.797 | Test Loss: 1.893\n",
      "epoch start:  286\n",
      "training ...\n"
     ]
    },
    {
     "name": "stderr",
     "output_type": "stream",
     "text": [
      "485it [00:05, 90.99it/s]\n",
      "121it [00:00, 529.91it/s]\n"
     ]
    },
    {
     "name": "stdout",
     "output_type": "stream",
     "text": [
      "Epoch: 287 | Time: 0m 5s\tTrain Loss: 1.797 | Test Loss: 1.894\n",
      "epoch start:  287\n",
      "training ...\n"
     ]
    },
    {
     "name": "stderr",
     "output_type": "stream",
     "text": [
      "485it [00:05, 88.59it/s]\n",
      "121it [00:00, 466.28it/s]\n"
     ]
    },
    {
     "name": "stdout",
     "output_type": "stream",
     "text": [
      "Epoch: 288 | Time: 0m 5s\tTrain Loss: 1.796 | Test Loss: 1.894\n",
      "epoch start:  288\n",
      "training ...\n"
     ]
    },
    {
     "name": "stderr",
     "output_type": "stream",
     "text": [
      "485it [00:05, 85.97it/s]\n",
      "121it [00:00, 517.71it/s]\n"
     ]
    },
    {
     "name": "stdout",
     "output_type": "stream",
     "text": [
      "Epoch: 289 | Time: 0m 5s\tTrain Loss: 1.796 | Test Loss: 1.894\n",
      "epoch start:  289\n",
      "training ...\n"
     ]
    },
    {
     "name": "stderr",
     "output_type": "stream",
     "text": [
      "485it [00:05, 88.89it/s]\n",
      "121it [00:00, 520.69it/s]\n"
     ]
    },
    {
     "name": "stdout",
     "output_type": "stream",
     "text": [
      "Epoch: 290 | Time: 0m 5s\tTrain Loss: 1.796 | Test Loss: 1.894\n",
      "epoch start:  290\n",
      "training ...\n"
     ]
    },
    {
     "name": "stderr",
     "output_type": "stream",
     "text": [
      "485it [00:05, 92.60it/s]\n",
      "121it [00:00, 440.91it/s]\n"
     ]
    },
    {
     "name": "stdout",
     "output_type": "stream",
     "text": [
      "Epoch: 291 | Time: 0m 5s\tTrain Loss: 1.796 | Test Loss: 1.894\n",
      "epoch start:  291\n",
      "training ...\n"
     ]
    },
    {
     "name": "stderr",
     "output_type": "stream",
     "text": [
      "485it [00:05, 85.83it/s]\n",
      "121it [00:00, 533.96it/s]\n"
     ]
    },
    {
     "name": "stdout",
     "output_type": "stream",
     "text": [
      "Epoch: 292 | Time: 0m 5s\tTrain Loss: 1.796 | Test Loss: 1.894\n",
      "epoch start:  292\n",
      "training ...\n"
     ]
    },
    {
     "name": "stderr",
     "output_type": "stream",
     "text": [
      "485it [00:05, 92.75it/s] \n",
      "121it [00:00, 448.01it/s]\n"
     ]
    },
    {
     "name": "stdout",
     "output_type": "stream",
     "text": [
      "Epoch: 293 | Time: 0m 5s\tTrain Loss: 1.796 | Test Loss: 1.894\n",
      "epoch start:  293\n",
      "training ...\n"
     ]
    },
    {
     "name": "stderr",
     "output_type": "stream",
     "text": [
      "485it [00:05, 85.86it/s] \n",
      "121it [00:00, 557.40it/s]\n"
     ]
    },
    {
     "name": "stdout",
     "output_type": "stream",
     "text": [
      "Epoch: 294 | Time: 0m 5s\tTrain Loss: 1.796 | Test Loss: 1.894\n",
      "epoch start:  294\n",
      "training ...\n"
     ]
    },
    {
     "name": "stderr",
     "output_type": "stream",
     "text": [
      "485it [00:05, 90.44it/s]\n",
      "121it [00:00, 554.04it/s]\n"
     ]
    },
    {
     "name": "stdout",
     "output_type": "stream",
     "text": [
      "Epoch: 295 | Time: 0m 5s\tTrain Loss: 1.796 | Test Loss: 1.894\n",
      "epoch start:  295\n",
      "training ...\n"
     ]
    },
    {
     "name": "stderr",
     "output_type": "stream",
     "text": [
      "485it [00:05, 88.19it/s]\n",
      "121it [00:00, 277.77it/s]\n"
     ]
    },
    {
     "name": "stdout",
     "output_type": "stream",
     "text": [
      "Epoch: 296 | Time: 0m 5s\tTrain Loss: 1.796 | Test Loss: 1.894\n",
      "epoch start:  296\n",
      "training ...\n"
     ]
    },
    {
     "name": "stderr",
     "output_type": "stream",
     "text": [
      "485it [00:05, 92.36it/s] \n",
      "121it [00:00, 387.95it/s]\n"
     ]
    },
    {
     "name": "stdout",
     "output_type": "stream",
     "text": [
      "Epoch: 297 | Time: 0m 5s\tTrain Loss: 1.796 | Test Loss: 1.894\n",
      "epoch start:  297\n",
      "training ...\n"
     ]
    },
    {
     "name": "stderr",
     "output_type": "stream",
     "text": [
      "485it [00:05, 93.33it/s]\n",
      "121it [00:00, 410.21it/s]\n"
     ]
    },
    {
     "name": "stdout",
     "output_type": "stream",
     "text": [
      "Epoch: 298 | Time: 0m 5s\tTrain Loss: 1.795 | Test Loss: 1.894\n",
      "epoch start:  298\n",
      "training ...\n"
     ]
    },
    {
     "name": "stderr",
     "output_type": "stream",
     "text": [
      "485it [00:05, 91.82it/s] \n",
      "121it [00:00, 534.23it/s]\n"
     ]
    },
    {
     "name": "stdout",
     "output_type": "stream",
     "text": [
      "Epoch: 299 | Time: 0m 5s\tTrain Loss: 1.795 | Test Loss: 1.894\n",
      "epoch start:  299\n",
      "training ...\n"
     ]
    },
    {
     "name": "stderr",
     "output_type": "stream",
     "text": [
      "485it [00:05, 91.68it/s] \n",
      "121it [00:00, 333.81it/s]\n"
     ]
    },
    {
     "name": "stdout",
     "output_type": "stream",
     "text": [
      "Epoch: 300 | Time: 0m 5s\tTrain Loss: 1.795 | Test Loss: 1.894\n",
      "epoch start:  300\n",
      "training ...\n"
     ]
    },
    {
     "name": "stderr",
     "output_type": "stream",
     "text": [
      "485it [00:05, 93.08it/s] \n",
      "121it [00:00, 547.22it/s]\n"
     ]
    },
    {
     "name": "stdout",
     "output_type": "stream",
     "text": [
      "Epoch: 301 | Time: 0m 5s\tTrain Loss: 1.795 | Test Loss: 1.894\n",
      "epoch start:  301\n",
      "training ...\n"
     ]
    },
    {
     "name": "stderr",
     "output_type": "stream",
     "text": [
      "485it [00:05, 92.74it/s] \n",
      "121it [00:00, 491.78it/s]\n"
     ]
    },
    {
     "name": "stdout",
     "output_type": "stream",
     "text": [
      "Epoch: 302 | Time: 0m 5s\tTrain Loss: 1.795 | Test Loss: 1.894\n",
      "epoch start:  302\n",
      "training ...\n"
     ]
    },
    {
     "name": "stderr",
     "output_type": "stream",
     "text": [
      "485it [00:05, 88.60it/s]\n",
      "121it [00:00, 406.79it/s]\n"
     ]
    },
    {
     "name": "stdout",
     "output_type": "stream",
     "text": [
      "Epoch: 303 | Time: 0m 5s\tTrain Loss: 1.795 | Test Loss: 1.894\n",
      "epoch start:  303\n",
      "training ...\n"
     ]
    },
    {
     "name": "stderr",
     "output_type": "stream",
     "text": [
      "485it [00:05, 89.06it/s]\n",
      "121it [00:00, 443.30it/s]\n"
     ]
    },
    {
     "name": "stdout",
     "output_type": "stream",
     "text": [
      "Epoch: 304 | Time: 0m 5s\tTrain Loss: 1.795 | Test Loss: 1.894\n",
      "epoch start:  304\n",
      "training ...\n"
     ]
    },
    {
     "name": "stderr",
     "output_type": "stream",
     "text": [
      "485it [00:05, 90.58it/s]\n",
      "121it [00:00, 393.62it/s]\n"
     ]
    },
    {
     "name": "stdout",
     "output_type": "stream",
     "text": [
      "Epoch: 305 | Time: 0m 5s\tTrain Loss: 1.795 | Test Loss: 1.894\n",
      "epoch start:  305\n",
      "training ...\n"
     ]
    },
    {
     "name": "stderr",
     "output_type": "stream",
     "text": [
      "485it [00:05, 91.34it/s] \n",
      "121it [00:00, 524.07it/s]\n"
     ]
    },
    {
     "name": "stdout",
     "output_type": "stream",
     "text": [
      "Epoch: 306 | Time: 0m 5s\tTrain Loss: 1.795 | Test Loss: 1.894\n",
      "epoch start:  306\n",
      "training ...\n"
     ]
    },
    {
     "name": "stderr",
     "output_type": "stream",
     "text": [
      "485it [00:05, 90.30it/s]\n",
      "121it [00:00, 394.17it/s]\n"
     ]
    },
    {
     "name": "stdout",
     "output_type": "stream",
     "text": [
      "Epoch: 307 | Time: 0m 5s\tTrain Loss: 1.794 | Test Loss: 1.894\n",
      "epoch start:  307\n",
      "training ...\n"
     ]
    },
    {
     "name": "stderr",
     "output_type": "stream",
     "text": [
      "485it [00:05, 91.84it/s]\n",
      "121it [00:00, 476.19it/s]\n"
     ]
    },
    {
     "name": "stdout",
     "output_type": "stream",
     "text": [
      "Epoch: 308 | Time: 0m 5s\tTrain Loss: 1.794 | Test Loss: 1.894\n",
      "epoch start:  308\n",
      "training ...\n"
     ]
    },
    {
     "name": "stderr",
     "output_type": "stream",
     "text": [
      "485it [00:05, 91.34it/s]\n",
      "121it [00:00, 423.01it/s]\n"
     ]
    },
    {
     "name": "stdout",
     "output_type": "stream",
     "text": [
      "Epoch: 309 | Time: 0m 5s\tTrain Loss: 1.794 | Test Loss: 1.894\n",
      "epoch start:  309\n",
      "training ...\n"
     ]
    },
    {
     "name": "stderr",
     "output_type": "stream",
     "text": [
      "485it [00:05, 90.66it/s]\n",
      "121it [00:00, 385.55it/s]\n"
     ]
    },
    {
     "name": "stdout",
     "output_type": "stream",
     "text": [
      "Epoch: 310 | Time: 0m 5s\tTrain Loss: 1.794 | Test Loss: 1.894\n",
      "epoch start:  310\n",
      "training ...\n"
     ]
    },
    {
     "name": "stderr",
     "output_type": "stream",
     "text": [
      "485it [00:05, 91.24it/s]\n",
      "121it [00:00, 491.50it/s]\n"
     ]
    },
    {
     "name": "stdout",
     "output_type": "stream",
     "text": [
      "Epoch: 311 | Time: 0m 5s\tTrain Loss: 1.794 | Test Loss: 1.894\n",
      "epoch start:  311\n",
      "training ...\n"
     ]
    },
    {
     "name": "stderr",
     "output_type": "stream",
     "text": [
      "485it [00:05, 89.97it/s] \n",
      "121it [00:00, 399.36it/s]\n"
     ]
    },
    {
     "name": "stdout",
     "output_type": "stream",
     "text": [
      "Epoch: 312 | Time: 0m 5s\tTrain Loss: 1.794 | Test Loss: 1.894\n",
      "epoch start:  312\n",
      "training ...\n"
     ]
    },
    {
     "name": "stderr",
     "output_type": "stream",
     "text": [
      "485it [00:05, 91.60it/s]\n",
      "121it [00:00, 375.45it/s]\n"
     ]
    },
    {
     "name": "stdout",
     "output_type": "stream",
     "text": [
      "Epoch: 313 | Time: 0m 5s\tTrain Loss: 1.794 | Test Loss: 1.894\n",
      "epoch start:  313\n",
      "training ...\n"
     ]
    },
    {
     "name": "stderr",
     "output_type": "stream",
     "text": [
      "485it [00:05, 93.87it/s] \n",
      "121it [00:00, 580.57it/s]\n"
     ]
    },
    {
     "name": "stdout",
     "output_type": "stream",
     "text": [
      "Epoch: 314 | Time: 0m 5s\tTrain Loss: 1.794 | Test Loss: 1.894\n",
      "epoch start:  314\n",
      "training ...\n"
     ]
    },
    {
     "name": "stderr",
     "output_type": "stream",
     "text": [
      "485it [00:05, 92.32it/s] \n",
      "121it [00:00, 587.66it/s]\n"
     ]
    },
    {
     "name": "stdout",
     "output_type": "stream",
     "text": [
      "Epoch: 315 | Time: 0m 5s\tTrain Loss: 1.794 | Test Loss: 1.894\n",
      "epoch start:  315\n",
      "training ...\n"
     ]
    },
    {
     "name": "stderr",
     "output_type": "stream",
     "text": [
      "485it [00:05, 89.35it/s] \n",
      "121it [00:00, 391.91it/s]\n"
     ]
    },
    {
     "name": "stdout",
     "output_type": "stream",
     "text": [
      "Epoch: 316 | Time: 0m 5s\tTrain Loss: 1.794 | Test Loss: 1.894\n",
      "epoch start:  316\n",
      "training ...\n"
     ]
    },
    {
     "name": "stderr",
     "output_type": "stream",
     "text": [
      "485it [00:05, 88.93it/s]\n",
      "121it [00:00, 569.34it/s]\n"
     ]
    },
    {
     "name": "stdout",
     "output_type": "stream",
     "text": [
      "Epoch: 317 | Time: 0m 5s\tTrain Loss: 1.794 | Test Loss: 1.894\n",
      "epoch start:  317\n",
      "training ...\n"
     ]
    },
    {
     "name": "stderr",
     "output_type": "stream",
     "text": [
      "485it [00:05, 90.97it/s] \n",
      "121it [00:00, 588.60it/s]\n"
     ]
    },
    {
     "name": "stdout",
     "output_type": "stream",
     "text": [
      "Epoch: 318 | Time: 0m 5s\tTrain Loss: 1.793 | Test Loss: 1.894\n",
      "epoch start:  318\n",
      "training ...\n"
     ]
    },
    {
     "name": "stderr",
     "output_type": "stream",
     "text": [
      "485it [00:05, 94.76it/s] \n",
      "121it [00:00, 526.42it/s]\n"
     ]
    },
    {
     "name": "stdout",
     "output_type": "stream",
     "text": [
      "Epoch: 319 | Time: 0m 5s\tTrain Loss: 1.793 | Test Loss: 1.894\n",
      "epoch start:  319\n",
      "training ...\n"
     ]
    },
    {
     "name": "stderr",
     "output_type": "stream",
     "text": [
      "485it [00:05, 93.29it/s] \n",
      "121it [00:00, 551.56it/s]\n"
     ]
    },
    {
     "name": "stdout",
     "output_type": "stream",
     "text": [
      "Epoch: 320 | Time: 0m 5s\tTrain Loss: 1.793 | Test Loss: 1.894\n",
      "epoch start:  320\n",
      "training ...\n"
     ]
    },
    {
     "name": "stderr",
     "output_type": "stream",
     "text": [
      "485it [00:05, 90.43it/s]\n",
      "121it [00:00, 512.21it/s]\n"
     ]
    },
    {
     "name": "stdout",
     "output_type": "stream",
     "text": [
      "Epoch: 321 | Time: 0m 5s\tTrain Loss: 1.793 | Test Loss: 1.894\n",
      "epoch start:  321\n",
      "training ...\n"
     ]
    },
    {
     "name": "stderr",
     "output_type": "stream",
     "text": [
      "485it [00:05, 89.79it/s]\n",
      "121it [00:00, 570.24it/s]\n"
     ]
    },
    {
     "name": "stdout",
     "output_type": "stream",
     "text": [
      "Epoch: 322 | Time: 0m 5s\tTrain Loss: 1.793 | Test Loss: 1.894\n",
      "epoch start:  322\n",
      "training ...\n"
     ]
    },
    {
     "name": "stderr",
     "output_type": "stream",
     "text": [
      "485it [00:05, 90.52it/s]\n",
      "121it [00:00, 389.38it/s]\n"
     ]
    },
    {
     "name": "stdout",
     "output_type": "stream",
     "text": [
      "Epoch: 323 | Time: 0m 5s\tTrain Loss: 1.793 | Test Loss: 1.894\n",
      "epoch start:  323\n",
      "training ...\n"
     ]
    },
    {
     "name": "stderr",
     "output_type": "stream",
     "text": [
      "485it [00:05, 87.41it/s]\n",
      "121it [00:00, 483.22it/s]\n"
     ]
    },
    {
     "name": "stdout",
     "output_type": "stream",
     "text": [
      "Epoch: 324 | Time: 0m 5s\tTrain Loss: 1.793 | Test Loss: 1.894\n",
      "epoch start:  324\n",
      "training ...\n"
     ]
    },
    {
     "name": "stderr",
     "output_type": "stream",
     "text": [
      "485it [00:05, 90.60it/s]\n",
      "121it [00:00, 389.90it/s]\n"
     ]
    },
    {
     "name": "stdout",
     "output_type": "stream",
     "text": [
      "Epoch: 325 | Time: 0m 5s\tTrain Loss: 1.793 | Test Loss: 1.894\n",
      "epoch start:  325\n",
      "training ...\n"
     ]
    },
    {
     "name": "stderr",
     "output_type": "stream",
     "text": [
      "485it [00:05, 90.30it/s]\n",
      "121it [00:00, 511.44it/s]\n"
     ]
    },
    {
     "name": "stdout",
     "output_type": "stream",
     "text": [
      "Epoch: 326 | Time: 0m 5s\tTrain Loss: 1.793 | Test Loss: 1.894\n",
      "epoch start:  326\n",
      "training ...\n"
     ]
    },
    {
     "name": "stderr",
     "output_type": "stream",
     "text": [
      "485it [00:05, 90.96it/s]\n",
      "121it [00:00, 444.15it/s]\n"
     ]
    },
    {
     "name": "stdout",
     "output_type": "stream",
     "text": [
      "Epoch: 327 | Time: 0m 5s\tTrain Loss: 1.793 | Test Loss: 1.894\n",
      "epoch start:  327\n",
      "training ...\n"
     ]
    },
    {
     "name": "stderr",
     "output_type": "stream",
     "text": [
      "485it [00:05, 89.30it/s]\n",
      "121it [00:00, 398.57it/s]\n"
     ]
    },
    {
     "name": "stdout",
     "output_type": "stream",
     "text": [
      "Epoch: 328 | Time: 0m 5s\tTrain Loss: 1.792 | Test Loss: 1.894\n",
      "epoch start:  328\n",
      "training ...\n"
     ]
    },
    {
     "name": "stderr",
     "output_type": "stream",
     "text": [
      "485it [00:05, 90.09it/s]\n",
      "121it [00:00, 524.44it/s]\n"
     ]
    },
    {
     "name": "stdout",
     "output_type": "stream",
     "text": [
      "Epoch: 329 | Time: 0m 5s\tTrain Loss: 1.792 | Test Loss: 1.894\n",
      "epoch start:  329\n",
      "training ...\n"
     ]
    },
    {
     "name": "stderr",
     "output_type": "stream",
     "text": [
      "485it [00:05, 92.08it/s]\n",
      "121it [00:00, 579.31it/s]\n"
     ]
    },
    {
     "name": "stdout",
     "output_type": "stream",
     "text": [
      "Epoch: 330 | Time: 0m 5s\tTrain Loss: 1.792 | Test Loss: 1.894\n",
      "epoch start:  330\n",
      "training ...\n"
     ]
    },
    {
     "name": "stderr",
     "output_type": "stream",
     "text": [
      "485it [00:05, 91.33it/s]\n",
      "121it [00:00, 545.75it/s]\n"
     ]
    },
    {
     "name": "stdout",
     "output_type": "stream",
     "text": [
      "Epoch: 331 | Time: 0m 5s\tTrain Loss: 1.792 | Test Loss: 1.894\n",
      "epoch start:  331\n",
      "training ...\n"
     ]
    },
    {
     "name": "stderr",
     "output_type": "stream",
     "text": [
      "485it [00:05, 90.41it/s]\n",
      "121it [00:00, 295.46it/s]\n"
     ]
    },
    {
     "name": "stdout",
     "output_type": "stream",
     "text": [
      "Epoch: 332 | Time: 0m 5s\tTrain Loss: 1.792 | Test Loss: 1.894\n",
      "epoch start:  332\n",
      "training ...\n"
     ]
    },
    {
     "name": "stderr",
     "output_type": "stream",
     "text": [
      "485it [00:05, 89.60it/s]\n",
      "121it [00:00, 389.70it/s]\n"
     ]
    },
    {
     "name": "stdout",
     "output_type": "stream",
     "text": [
      "Epoch: 333 | Time: 0m 5s\tTrain Loss: 1.792 | Test Loss: 1.894\n",
      "epoch start:  333\n",
      "training ...\n"
     ]
    },
    {
     "name": "stderr",
     "output_type": "stream",
     "text": [
      "485it [00:05, 90.21it/s] \n",
      "121it [00:00, 495.58it/s]\n"
     ]
    },
    {
     "name": "stdout",
     "output_type": "stream",
     "text": [
      "Epoch: 334 | Time: 0m 5s\tTrain Loss: 1.792 | Test Loss: 1.894\n",
      "epoch start:  334\n",
      "training ...\n"
     ]
    },
    {
     "name": "stderr",
     "output_type": "stream",
     "text": [
      "485it [00:05, 91.08it/s]\n",
      "121it [00:00, 393.22it/s]\n"
     ]
    },
    {
     "name": "stdout",
     "output_type": "stream",
     "text": [
      "Epoch: 335 | Time: 0m 5s\tTrain Loss: 1.792 | Test Loss: 1.894\n",
      "epoch start:  335\n",
      "training ...\n"
     ]
    },
    {
     "name": "stderr",
     "output_type": "stream",
     "text": [
      "485it [00:05, 91.52it/s]\n",
      "121it [00:00, 408.75it/s]\n"
     ]
    },
    {
     "name": "stdout",
     "output_type": "stream",
     "text": [
      "Epoch: 336 | Time: 0m 5s\tTrain Loss: 1.792 | Test Loss: 1.894\n",
      "epoch start:  336\n",
      "training ...\n"
     ]
    },
    {
     "name": "stderr",
     "output_type": "stream",
     "text": [
      "485it [00:05, 92.75it/s]\n",
      "121it [00:00, 462.50it/s]\n"
     ]
    },
    {
     "name": "stdout",
     "output_type": "stream",
     "text": [
      "Epoch: 337 | Time: 0m 5s\tTrain Loss: 1.792 | Test Loss: 1.894\n",
      "epoch start:  337\n",
      "training ...\n"
     ]
    },
    {
     "name": "stderr",
     "output_type": "stream",
     "text": [
      "464it [00:05, 92.06it/s]\n"
     ]
    },
    {
     "ename": "KeyboardInterrupt",
     "evalue": "",
     "output_type": "error",
     "traceback": [
      "\u001b[0;31m---------------------------------------------------------------------------\u001b[0m",
      "\u001b[0;31mKeyboardInterrupt\u001b[0m                         Traceback (most recent call last)",
      "\u001b[0;32m<ipython-input-174-b8adc35d4cc4>\u001b[0m in \u001b[0;36m<module>\u001b[0;34m\u001b[0m\n\u001b[1;32m      2\u001b[0m     \u001b[0mprint\u001b[0m\u001b[0;34m(\u001b[0m\u001b[0;34m\"epoch start: \"\u001b[0m\u001b[0;34m,\u001b[0m \u001b[0mepoch\u001b[0m\u001b[0;34m)\u001b[0m\u001b[0;34m\u001b[0m\u001b[0;34m\u001b[0m\u001b[0m\n\u001b[1;32m      3\u001b[0m     \u001b[0mstart_time\u001b[0m \u001b[0;34m=\u001b[0m \u001b[0mtime\u001b[0m\u001b[0;34m.\u001b[0m\u001b[0mtime\u001b[0m\u001b[0;34m(\u001b[0m\u001b[0;34m)\u001b[0m\u001b[0;34m\u001b[0m\u001b[0;34m\u001b[0m\u001b[0m\n\u001b[0;32m----> 4\u001b[0;31m     \u001b[0mtraining_loss\u001b[0m \u001b[0;34m=\u001b[0m \u001b[0mtrain\u001b[0m\u001b[0;34m(\u001b[0m\u001b[0mfeatureExtractor\u001b[0m\u001b[0;34m,\u001b[0m \u001b[0mtraining_iterator\u001b[0m\u001b[0;34m,\u001b[0m \u001b[0moptimizer\u001b[0m\u001b[0;34m,\u001b[0m \u001b[0mcriterion\u001b[0m\u001b[0;34m,\u001b[0m \u001b[0mCLIP\u001b[0m\u001b[0;34m)\u001b[0m\u001b[0;34m\u001b[0m\u001b[0;34m\u001b[0m\u001b[0m\n\u001b[0m\u001b[1;32m      5\u001b[0m     \u001b[0mtraining_losses\u001b[0m\u001b[0;34m.\u001b[0m\u001b[0mappend\u001b[0m\u001b[0;34m(\u001b[0m\u001b[0mtraining_loss\u001b[0m\u001b[0;34m)\u001b[0m\u001b[0;34m\u001b[0m\u001b[0;34m\u001b[0m\u001b[0m\n\u001b[1;32m      6\u001b[0m     \u001b[0mtest_loss\u001b[0m \u001b[0;34m=\u001b[0m \u001b[0mevaluate\u001b[0m\u001b[0;34m(\u001b[0m\u001b[0mfeatureExtractor\u001b[0m\u001b[0;34m,\u001b[0m \u001b[0mtest_iterator\u001b[0m\u001b[0;34m,\u001b[0m \u001b[0mcriterion\u001b[0m\u001b[0;34m)\u001b[0m\u001b[0;34m\u001b[0m\u001b[0;34m\u001b[0m\u001b[0m\n",
      "\u001b[0;32m<ipython-input-173-3397782da4a3>\u001b[0m in \u001b[0;36mtrain\u001b[0;34m(model, iterator, optimizer, criterion, clip)\u001b[0m\n\u001b[1;32m     42\u001b[0m         \u001b[0;31m# cross entropy loss of softmax and score\u001b[0m\u001b[0;34m\u001b[0m\u001b[0;34m\u001b[0m\u001b[0;34m\u001b[0m\u001b[0m\n\u001b[1;32m     43\u001b[0m         \u001b[0mloss\u001b[0m\u001b[0;34m=\u001b[0m\u001b[0mcriterion\u001b[0m\u001b[0;34m(\u001b[0m\u001b[0md\u001b[0m\u001b[0;34m,\u001b[0m\u001b[0;34m(\u001b[0m\u001b[0mbatch\u001b[0m\u001b[0;34m[\u001b[0m\u001b[0;36m1\u001b[0m\u001b[0;34m]\u001b[0m\u001b[0;34m)\u001b[0m\u001b[0;34m.\u001b[0m\u001b[0mcpu\u001b[0m\u001b[0;34m(\u001b[0m\u001b[0;34m)\u001b[0m\u001b[0;34m)\u001b[0m\u001b[0;34m/\u001b[0m\u001b[0mBATCH_SIZE\u001b[0m\u001b[0;34m\u001b[0m\u001b[0;34m\u001b[0m\u001b[0m\n\u001b[0;32m---> 44\u001b[0;31m         \u001b[0mloss\u001b[0m\u001b[0;34m.\u001b[0m\u001b[0mbackward\u001b[0m\u001b[0;34m(\u001b[0m\u001b[0;34m)\u001b[0m\u001b[0;34m\u001b[0m\u001b[0;34m\u001b[0m\u001b[0m\n\u001b[0m\u001b[1;32m     45\u001b[0m         \u001b[0;31m# Clips gradient norm of an iterable of parameters.\u001b[0m\u001b[0;34m\u001b[0m\u001b[0;34m\u001b[0m\u001b[0;34m\u001b[0m\u001b[0m\n\u001b[1;32m     46\u001b[0m         \u001b[0mtorch\u001b[0m\u001b[0;34m.\u001b[0m\u001b[0mnn\u001b[0m\u001b[0;34m.\u001b[0m\u001b[0mutils\u001b[0m\u001b[0;34m.\u001b[0m\u001b[0mclip_grad_norm_\u001b[0m\u001b[0;34m(\u001b[0m\u001b[0mmodel\u001b[0m\u001b[0;34m.\u001b[0m\u001b[0mparameters\u001b[0m\u001b[0;34m(\u001b[0m\u001b[0;34m)\u001b[0m\u001b[0;34m,\u001b[0m \u001b[0mclip\u001b[0m\u001b[0;34m)\u001b[0m\u001b[0;34m\u001b[0m\u001b[0;34m\u001b[0m\u001b[0m\n",
      "\u001b[0;32m~/.local/lib/python3.7/site-packages/torch/_tensor.py\u001b[0m in \u001b[0;36mbackward\u001b[0;34m(self, gradient, retain_graph, create_graph, inputs)\u001b[0m\n\u001b[1;32m    305\u001b[0m                 \u001b[0mcreate_graph\u001b[0m\u001b[0;34m=\u001b[0m\u001b[0mcreate_graph\u001b[0m\u001b[0;34m,\u001b[0m\u001b[0;34m\u001b[0m\u001b[0;34m\u001b[0m\u001b[0m\n\u001b[1;32m    306\u001b[0m                 inputs=inputs)\n\u001b[0;32m--> 307\u001b[0;31m         \u001b[0mtorch\u001b[0m\u001b[0;34m.\u001b[0m\u001b[0mautograd\u001b[0m\u001b[0;34m.\u001b[0m\u001b[0mbackward\u001b[0m\u001b[0;34m(\u001b[0m\u001b[0mself\u001b[0m\u001b[0;34m,\u001b[0m \u001b[0mgradient\u001b[0m\u001b[0;34m,\u001b[0m \u001b[0mretain_graph\u001b[0m\u001b[0;34m,\u001b[0m \u001b[0mcreate_graph\u001b[0m\u001b[0;34m,\u001b[0m \u001b[0minputs\u001b[0m\u001b[0;34m=\u001b[0m\u001b[0minputs\u001b[0m\u001b[0;34m)\u001b[0m\u001b[0;34m\u001b[0m\u001b[0;34m\u001b[0m\u001b[0m\n\u001b[0m\u001b[1;32m    308\u001b[0m \u001b[0;34m\u001b[0m\u001b[0m\n\u001b[1;32m    309\u001b[0m     \u001b[0;32mdef\u001b[0m \u001b[0mregister_hook\u001b[0m\u001b[0;34m(\u001b[0m\u001b[0mself\u001b[0m\u001b[0;34m,\u001b[0m \u001b[0mhook\u001b[0m\u001b[0;34m)\u001b[0m\u001b[0;34m:\u001b[0m\u001b[0;34m\u001b[0m\u001b[0;34m\u001b[0m\u001b[0m\n",
      "\u001b[0;32m~/.local/lib/python3.7/site-packages/torch/autograd/__init__.py\u001b[0m in \u001b[0;36mbackward\u001b[0;34m(tensors, grad_tensors, retain_graph, create_graph, grad_variables, inputs)\u001b[0m\n\u001b[1;32m    154\u001b[0m     Variable._execution_engine.run_backward(\n\u001b[1;32m    155\u001b[0m         \u001b[0mtensors\u001b[0m\u001b[0;34m,\u001b[0m \u001b[0mgrad_tensors_\u001b[0m\u001b[0;34m,\u001b[0m \u001b[0mretain_graph\u001b[0m\u001b[0;34m,\u001b[0m \u001b[0mcreate_graph\u001b[0m\u001b[0;34m,\u001b[0m \u001b[0minputs\u001b[0m\u001b[0;34m,\u001b[0m\u001b[0;34m\u001b[0m\u001b[0;34m\u001b[0m\u001b[0m\n\u001b[0;32m--> 156\u001b[0;31m         allow_unreachable=True, accumulate_grad=True)  # allow_unreachable flag\n\u001b[0m\u001b[1;32m    157\u001b[0m \u001b[0;34m\u001b[0m\u001b[0m\n\u001b[1;32m    158\u001b[0m \u001b[0;34m\u001b[0m\u001b[0m\n",
      "\u001b[0;31mKeyboardInterrupt\u001b[0m: "
     ]
    }
   ],
   "source": [
    "for epoch in range(500):  \n",
    "    print(\"epoch start: \", epoch)  \n",
    "    start_time = time.time()\n",
    "    training_loss = train(featureExtractor, training_iterator, optimizer, criterion, CLIP)\n",
    "    training_losses.append(training_loss)\n",
    "    test_loss = evaluate(featureExtractor, test_iterator, criterion)\n",
    "    test_losses.append(test_loss)  \n",
    "    end_time = time.time()\n",
    "    epoch_mins, epoch_secs = epoch_time(start_time, end_time)\n",
    "    if test_loss < best_test_loss:\n",
    "        best_test_loss = test_loss \n",
    "        torch.save(featureExtractor.state_dict(), 'lw.pt')\n",
    "        \n",
    "\n",
    "    print(f'Epoch: {epoch+1:02} | Time: {epoch_mins}m {epoch_secs}s', end='')\n",
    "    print(f'\\tTrain Loss: {training_loss:.3f} | Test Loss: {test_loss:.3f}')"
   ]
  },
  {
   "cell_type": "code",
   "execution_count": 175,
   "metadata": {},
   "outputs": [
    {
     "data": {
      "text/plain": [
       "<matplotlib.legend.Legend at 0x7f89fa103ad0>"
      ]
     },
     "execution_count": 175,
     "metadata": {},
     "output_type": "execute_result"
    },
    {
     "data": {
      "image/png": "[encoded data removed]",
      "text/plain": [
       "<Figure size 432x288 with 1 Axes>"
      ]
     },
     "metadata": {},
     "output_type": "display_data"
    }
   ],
   "source": [
    "# prev best 1.61\n",
    "%matplotlib inline\n",
    "import matplotlib.pyplot as plt\n",
    "import seaborn as sns\n",
    "\n",
    "\n",
    "sns.set()\n",
    "x = np.arange(len(training_losses))\n",
    "plt.plot(x, training_losses, label = 'training loss')\n",
    "plt.plot(x, test_losses, label = 'test loss')\n",
    "plt.legend()"
   ]
  },
  {
   "cell_type": "code",
   "execution_count": 176,
   "metadata": {},
   "outputs": [
    {
     "name": "stdout",
     "output_type": "stream",
     "text": [
      "tensor([[2.7000e+02, 3.9100e+02, 1.8500e+02, 4.5000e+01, 1.7200e+02, 0.0000e+00,\n",
      "         2.0000e+00, 0.0000e+00],\n",
      "        [1.2300e+02, 1.2230e+03, 2.7600e+02, 8.4000e+01, 4.3300e+02, 0.0000e+00,\n",
      "         3.0000e+00, 0.0000e+00],\n",
      "        [1.2400e+02, 5.8900e+02, 5.0000e+02, 4.7000e+01, 2.5300e+02, 0.0000e+00,\n",
      "         1.0000e+00, 0.0000e+00],\n",
      "        [4.4000e+01, 4.2000e+02, 8.6000e+01, 1.6000e+02, 2.0900e+02, 0.0000e+00,\n",
      "         1.0000e+00, 0.0000e+00],\n",
      "        [8.7000e+01, 6.7300e+02, 1.5900e+02, 7.7000e+01, 6.7900e+02, 3.0000e+00,\n",
      "         2.0000e+00, 0.0000e+00],\n",
      "        [6.0000e+00, 9.4000e+01, 2.4000e+01, 7.0000e+00, 4.0000e+01, 0.0000e+00,\n",
      "         0.0000e+00, 0.0000e+00],\n",
      "        [2.3000e+01, 7.9000e+01, 3.2000e+01, 1.4000e+01, 3.5000e+01, 0.0000e+00,\n",
      "         0.0000e+00, 0.0000e+00],\n",
      "        [5.0000e+00, 3.5000e+01, 7.0000e+00, 2.0000e+00, 2.0000e+01, 0.0000e+00,\n",
      "         0.0000e+00, 0.0000e+00]])\n"
     ]
    }
   ],
   "source": [
    "print(confusion_matrix[-1])"
   ]
  },
  {
   "cell_type": "code",
   "execution_count": 177,
   "metadata": {},
   "outputs": [
    {
     "data": {
      "text/plain": [
       "<All keys matched successfully>"
      ]
     },
     "execution_count": 177,
     "metadata": {},
     "output_type": "execute_result"
    }
   ],
   "source": [
    "featureExtractor.load_state_dict(torch.load(\"lw.pt\"))"
   ]
  },
  {
   "cell_type": "code",
   "execution_count": 203,
   "metadata": {},
   "outputs": [
    {
     "name": "stdout",
     "output_type": "stream",
     "text": [
      "Example:  presentation \n",
      "sq:  tensor([[0]]) \n",
      "prediction:  tensor([[1.3856e-01, 3.0496e-01, 1.8434e-01, 1.3244e-01, 2.3729e-01, 3.6552e-05,\n",
      "         2.3310e-03, 3.6433e-05]], grad_fn=<SoftmaxBackward0>)\n"
     ]
    }
   ],
   "source": [
    "example1 = \"presentation\"\n",
    "words1 = example1.split(\" \")\n",
    "seq1 = []\n",
    "for word in words1:\n",
    "    if word in corpora.index_word:\n",
    "        seq1.append(corpora.word_index[word])\n",
    "    else:\n",
    "        seq1.append(0)\n",
    "seq1 = torch.tensor([seq1])\n",
    "z = featureExtractor.forward(seq1)\n",
    "d = torch.softmax(z,dim=-1)\n",
    "print(\"Example: \", example1, \"\\nsq: \", seq1, \"\\nprediction: \", d)"
   ]
  },
  {
   "cell_type": "code",
   "execution_count": 135,
   "metadata": {},
   "outputs": [
    {
     "data": {
      "text/plain": [
       "['problems with friends',\n",
       " 'ongoing depression',\n",
       " 'breakup with partner',\n",
       " 'academic pressure',\n",
       " 'job crisis',\n",
       " 'Sleep Problems',\n",
       " 'Issues with Families',\n",
       " 'Alcohol Abuse']"
      ]
     },
     "execution_count": 135,
     "metadata": {},
     "output_type": "execute_result"
    }
   ],
   "source": [
    "kept"
   ]
  },
  {
   "cell_type": "code",
   "execution_count": null,
   "metadata": {},
   "outputs": [],
   "source": []
  }
 ],
 "metadata": {
  "kernelspec": {
   "display_name": "Python 3",
   "language": "python",
   "name": "python3"
  },
  "language_info": {
   "codemirror_mode": {
    "name": "ipython",
    "version": 3
   },
   "file_extension": ".py",
   "mimetype": "text/x-python",
   "name": "python",
   "nbconvert_exporter": "python",
   "pygments_lexer": "ipython3",
   "version": "3.7.6"
  }
 },
 "nbformat": 4,
 "nbformat_minor": 4
}
