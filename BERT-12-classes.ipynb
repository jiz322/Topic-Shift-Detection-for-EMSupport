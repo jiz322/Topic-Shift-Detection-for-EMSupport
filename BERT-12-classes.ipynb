{
 "cells": [
  {
   "cell_type": "code",
   "execution_count": 1,
   "metadata": {},
   "outputs": [
    {
     "data": {
      "text/plain": [
       "7747"
      ]
     },
     "execution_count": 1,
     "metadata": {},
     "output_type": "execute_result"
    }
   ],
   "source": [
    "import os\n",
    "os.getpid()"
   ]
  },
  {
   "cell_type": "code",
   "execution_count": 2,
   "metadata": {},
   "outputs": [],
   "source": [
    "import json\n",
    "f = open('ESConv.json')\n",
    "data = json.load(f)\n",
    "f.close()\n",
    "processed_data = []\n",
    "for i in data:\n",
    "    pt = i['problem_type']\n",
    "    for j in i['dialog']:\n",
    "        processed_data.append([pt, j['content'], j['speaker'], j['annotation']])"
   ]
  },
  {
   "cell_type": "code",
   "execution_count": 3,
   "metadata": {},
   "outputs": [
    {
     "data": {
      "text/plain": [
       "['ongoing depression',\n",
       " 'Sometimes we get in a funk, when we do, we can pull ourselves out, I do suggest you write a list of things to do and put on the frige.',\n",
       " 'supporter',\n",
       " {'strategy': 'Others'}]"
      ]
     },
     "execution_count": 3,
     "metadata": {},
     "output_type": "execute_result"
    }
   ],
   "source": [
    "processed_data[4005]"
   ]
  },
  {
   "cell_type": "code",
   "execution_count": 4,
   "metadata": {},
   "outputs": [],
   "source": [
    "sl = []\n",
    "for i in processed_data:\n",
    "    sl.append(len(i[1].split()))\n",
    "## Safely, we remove length 1,2,3\n",
    "to_remove = []\n",
    "for i in range(len(sl)):\n",
    "    if sl[i] <= 3:\n",
    "        to_remove.append(i)\n",
    "for index in sorted(to_remove, reverse=True):\n",
    "    del processed_data[index]"
   ]
  },
  {
   "cell_type": "code",
   "execution_count": 5,
   "metadata": {},
   "outputs": [
    {
     "data": {
      "text/plain": [
       "Counter({'job crisis': 7475,\n",
       "         'problems with friends': 4702,\n",
       "         'ongoing depression': 9462,\n",
       "         'breakup with partner': 6697,\n",
       "         'academic pressure': 4009,\n",
       "         'conflict with parents': 255,\n",
       "         'Procrastination': 352,\n",
       "         'Alcohol Abuse': 360,\n",
       "         'Issues with Parents': 239,\n",
       "         'Sleep Problems': 765,\n",
       "         'Appearance Anxiety': 346,\n",
       "         'School Bullying': 46,\n",
       "         'Issues with Children': 371})"
      ]
     },
     "execution_count": 5,
     "metadata": {},
     "output_type": "execute_result"
    }
   ],
   "source": [
    "from collections import Counter\n",
    "cpd = []\n",
    "for i in processed_data:\n",
    "    cpd.append(i[0])\n",
    "Counter(cpd)"
   ]
  },
  {
   "cell_type": "code",
   "execution_count": 6,
   "metadata": {},
   "outputs": [],
   "source": [
    "issues_with_parents = []\n",
    "conflict_with_parents = []\n",
    "for i in processed_data:\n",
    "    if i[0] == 'Issues with Parents':\n",
    "        issues_with_parents.append(i[1])\n",
    "    if i[0] == 'conflict with parents':\n",
    "        conflict_with_parents.append(i[1])\n"
   ]
  },
  {
   "cell_type": "code",
   "execution_count": 7,
   "metadata": {},
   "outputs": [
    {
     "data": {
      "text/plain": [
       "['Hi, How are you?',\n",
       " 'I am the youngest of 5 siblings and I feel all most days now because of my parents\\n',\n",
       " \"It sounds like you're having a hard time feeling like you have your parents' attention, is that right?\",\n",
       " 'Not their attention, but more on their expectations on me\\n',\n",
       " \"That sounds frustrating, I'm sorry\",\n",
       " 'Do they do or say anything specific that makes you feel those expectations?',\n",
       " \"Yes, its more on comparing me to the children of their friends. They always say why don't I have a better job or even plans on marrying rich. Stuff like that is very frustrating\",\n",
       " \"They also expect me to take care of them financially soon, I'm just starting my adult life I want to enjoy it\",\n",
       " 'That sounds very frustrating. I think if I felt those kind of expectations I would be anxious.',\n",
       " 'Do you feel comfortable talking to them about your feelings?',\n",
       " 'I do feel anxious every time. ',\n",
       " 'I tried a couple of times, but my mom always sees it as being too sensitive\\n',\n",
       " 'Sometimes it can feel impossible to talk to parents',\n",
       " \"I know, is it better if I stay away for awhile? since taking to them won't make sense?\\n\",\n",
       " 'I think that it can be very healthy to get some distance, but I think it can also feel difficult -- do you have good friends in your life that you could lean on if you needed some distance from your parents?',\n",
       " \"Yes, I do. They actually helped me coped up. I always think that I wasn't blessed with my family, but I'm blessed with good friends\\n\",\n",
       " \"Good friends can be a huge comfort and it sounds like you're a good friends yourself if you have those kinds of friendships\",\n",
       " 'Thinking about it, they really did help a lot. So I should really distance myself for a while right?\\n',\n",
       " 'I think if making distance helps you feel better, you deserve and have a right to that space',\n",
       " 'Yes, thank you. I really need to that. \\n',\n",
       " 'It sounds like you are making healthy and careful emotional decisions ',\n",
       " 'Is there anything else you want to discuss about your parents?',\n",
       " \"Hey there, what's going on today?\\n\",\n",
       " 'Hello. It is a fine day, how about yourself?\\n',\n",
       " 'It really is! I am just taking in the fresh air in the backyard. ',\n",
       " 'Thanks! What is going on in your neck of the woods? ',\n",
       " 'Sort of stuck inside trying to make a dime but it is alright.\\n',\n",
       " 'Yeah great minds think alike.. do you do anything else for work? ',\n",
       " 'Looking for a good job right now.\\n',\n",
       " 'I wanted to talk about a personal issue I have been having, though.\\n',\n",
       " \"Okay, you know I'm here for you. Talk to me, what's happening? \",\n",
       " \"My father and I had a fight 2 years ago and haven't spoke since.\\n\",\n",
       " 'The same happened to me, and then my father passed away. If there is anything I can say, is to swallow pride and cherish the moments you have on earth together. What was the fight over?',\n",
       " 'Yeah I am afraid that these things can happen. It was only over material things.\\n',\n",
       " 'That was my next question, what the fight was over. Do you think he would be open to mending things? ',\n",
       " 'It is weird because I called him out for being manipulative so this is his defense. \\n',\n",
       " 'Usually when people feel singled out, they only have a few mechanisms. Unfortunately, most people tend to run away instead of fixing things. It tends to be the easier option. ',\n",
       " 'I would likely take advantage of an opportunity to be the bigger person.\\n',\n",
       " \"When you try to fix things, just remember that this is his method. I wouldn't hold back on what you have to say, but just word it so that he doesn't feel the need to flee. \",\n",
       " 'That is probably decent advice.\\n',\n",
       " 'It is HIS responsibility as a parent to want to fix things, but you are also being the bigger person here. I applaud you and hope that he is receptive. ',\n",
       " 'I hope so too, but the opportunity seems tenuous \\n',\n",
       " 'How did you guys leave it? ',\n",
       " 'Threatening and disparagement haha',\n",
       " 'Ha, well after two years, feelings had to have changed. Even a little. Does he live nearby?',\n",
       " 'Yeah someday. I think I will have to try you know. THanks for the advice.\\n',\n",
       " 'Hello, how are you today?',\n",
       " \"Hey, I've been having a really rough day.\",\n",
       " 'My mom and I got into an argument\\n',\n",
       " \"I'm sorry to hear that, what's happening?\",\n",
       " 'How bad was the argument?  What was it about?',\n",
       " \"She got pretty upset when I took off my shower head without telling her. Somehow, we ended up arguing about how I don't respect her.\",\n",
       " 'Do you think there is any truth to what she is saying?',\n",
       " 'Family conflict can be very upsetting, I have it in my family sometimes.',\n",
       " \"Maybe. I don't particularly like her and that she maybe picks up on that. But I feel like that's the underlying issue and the shower head argument is just a coverup for her real feelings.\",\n",
       " 'It\\'s really upsetting. We have \"peaceful\" moments before we\\'re arguing again',\n",
       " 'I see.   Do you live together?',\n",
       " 'That does sound upsetting.   So how do you two make peace generally, or do you have silences between you?',\n",
       " \"I guess it's less peace and more like silence\",\n",
       " 'So what helps you deal with it?  I have found journaling so helpful when I have personal conflicts.  It helps to get things in perspective, and to vent to a peice of paper',\n",
       " \"Actually I journal on my computer, and don't save it :)\",\n",
       " \"I've written some of our arguments down before, but it's too painful to look at now.\\n\",\n",
       " \"Thath's why I don't save my journal entries, too painful\",\n",
       " 'I used to talk to friends about it, but idk, it all feels empty now.\\n',\n",
       " 'Do you have a counselor you can speak with about how to deal with the conflicts?   Maybe he/she could arrange a family meeting',\n",
       " \"I get that. It's hard to look at them. I'm not sure what to do to cope. Lately, my coping skills haven't been all to healthy\\n\",\n",
       " 'I did that with my husband when we were fighting, having a counselor in the room helped us gain insight.',\n",
       " \"I have a psychiatrist and I'm trying to figure out how to pay for a therapy currently. I know some offer sliding scale options\\n\",\n",
       " 'Exercise is helpful for burning off anger, a good long walk... Oh you must be in US?',\n",
       " \"Yeah, I'm in the U.S. I used to go on walks and exercise at night. It really helps me sleep.\\n\",\n",
       " 'Maybe I can start doing that again\\n',\n",
       " 'I think that would be great!   A good way to burn off frustration and improve physical health at the same time.',\n",
       " 'I always fall out of it! Any advice for making a steady habit out of it?\\n',\n",
       " 'You will get through this....it sounds like you two need to have some good talks to address these conflicts....together the two of you may be able to sort it out.   On a day when things are calm, not during an argument.',\n",
       " 'Yes I do!   I used to procrastinate walking....then I got myself a walking partner',\n",
       " \"That sounds great! I've been wanting a workout partner, I think a friend of mines wants one too...\\n\",\n",
       " 'We are accountable to each other.   We both need to walk for our mental health, we have mental health issues',\n",
       " \"How'd you find one?\\n\",\n",
       " 'Hey that would be great if you two could be accountable to each other',\n",
       " 'And yeah, we do need to talk, I just feel conflicted because I ask if it would help anything or should I just move out and move on?\\n',\n",
       " 'My neighbour and I were chatting about how we are not motivated to walk but want to walk, so we made a plan',\n",
       " \"Well....only one way to find that out....and and challenging as it may seem it could be, it's a less drastic step than moving\",\n",
       " 'If you both want it to work, it will',\n",
       " 'That sounds nice. My friend just likes being in shape ig, so it works out. We both have kinda hectic, unsupportive families.',\n",
       " 'Well I hope you two can talk it out.',\n",
       " \"Yeah, that's a good point. It takes time, but I'm trying to learn to when to give more effort and when to pull away.\\n\",\n",
       " 'Me too. Thanks for talking to me.\\n',\n",
       " \"oh it's been a pleasure speaking with you, you're very welcome\",\n",
       " 'I wish you all the best, you will get through this :)',\n",
       " 'Thank you so much. I hope we both can continue to work on being happy and healthy\\n',\n",
       " 'Hello, how are you doing today?\\n',\n",
       " 'I am just a little angry. My mother and I had another blow-up.',\n",
       " 'Is your bit of anger sparked from the interaction with your mother?',\n",
       " 'It is why I am angry. This occurs at least every other day. I say something harmless and she thinks I am saying it in a way that is rude or something.\\n',\n",
       " 'I bet you can figure out a way to communicate better.',\n",
       " \"I do not know for sure where to start. If I try to tell her that is not what I mean it is like she doesn't understand?\\n\",\n",
       " 'It is hard to feel misunderstood.',\n",
       " 'For example today I was just saying I like the food she had cooked us for supper. She took that to mean I never liked the food she made before. She says I do not appreciate her and I should be grateful to have her.',\n",
       " \"It sounds like you are doing your best to be nice but it isn't getting through.\",\n",
       " 'Maybe it was the way she was brought up that she is so sensitive.\\n',\n",
       " 'Everybody has stuff from their past that affects them.',\n",
       " 'But they should not take how they feel on others right? But I know I have to be understanding.\\n',\n",
       " 'You should be understanding, especially since you already know this.',\n",
       " 'Can you relate to this situation?\\n',\n",
       " \"I have had personal disputes with my parents in the past. Most of the time there's other things going on that makes a person act different.\",\n",
       " 'Maybe I could just take deep breath and kind of step back a minute before I respond.\\n',\n",
       " \"It would be good to do that. Maybe try to have a conversation and tell her you support her no matter what she's going through.\",\n",
       " 'I guess the best time to do that was when she is in a very good mood.\\n',\n",
       " 'Do some chores or something that helps her out and just let her know you want to have a serious talk some time.',\n",
       " 'But what if she thinks me helping her out is criticizing the way she does things? That seems like the way she would be.\\n',\n",
       " 'Try giving reassurance that you want to show you care.',\n",
       " \"I will try this. It is worth a shot. We can't go through life being upset at each other.\\n\",\n",
       " 'I feel the same way. I hope you can get things on better terms.',\n",
       " \"I appreciated the help. I was just so upset. I didn't want to talk to anyone in our family and have them take sides or make them uncomfortable.\\n\",\n",
       " 'Maybe you can set a better example about being open.',\n",
       " \"I will try to say things that don't sound confrontational from now on.\\n\",\n",
       " 'I believe in you.',\n",
       " 'Thank you for the believing in me. Thank you for your help.\\n',\n",
       " 'You are welcome, best wishes.',\n",
       " 'Hi!   How are you today?',\n",
       " \"I'm grounded so i'm not happy\\n\",\n",
       " \"I'm sorry to hear that.  It must be hard.\",\n",
       " 'Can I ask what has happened?',\n",
       " 'My sibling broke the tv and blamed it on me and my parents\\n believed them',\n",
       " \"Oh no!  I'm sorry to hear that.   That must be a hard situation, to not have your folks believe you.\",\n",
       " 'It is very frustrating \\n',\n",
       " 'Have you spoken with your sibling about why they lied?',\n",
       " 'No, we just got into a yelling fight about it and are both in our rooms now\\n',\n",
       " \"I'm sure it's frustrating when you know you're correct and no one believes you.\",\n",
       " \"I'd rather just run away from everything\\n\",\n",
       " \"It's not cool that you're sibling lied, but it may be a good time to breathe a second.   Running away never solved anything\",\n",
       " 'It is late at night\\n',\n",
       " \"So probably it's quiet.  this is a good time to take a breath and , literally try and sleep on it.\\n\",\n",
       " 'What do you want to see happen?',\n",
       " 'that is probably a good idea. I want my sibling to be punished not me and for parents to believe me\\n',\n",
       " \"So, then, it's how to figure out how to make that happen.\",\n",
       " 'well my parents dont believe me so not much i can do\\n',\n",
       " 'May I ask why they believe your sibling?   Is your sibling a different age?',\n",
       " 'they are younger and the favorite\\n',\n",
       " \"I just need to wait until I'm 18 so I can move far away\\n\",\n",
       " 'So, it sounds like you already have a plan to turn things around.   How far away from 18 are you, if I can ask?',\n",
       " 'OK, good for you.   It may not seem like it, but you can do anything for a year.',\n",
       " 'So, the question is....how do you deal in the short term?',\n",
       " 'It will be nice to get away and never talk to family again\\n',\n",
       " 'Just hole up in my room and not talk to anyone from now on I think\\n',\n",
       " 'only talk when necessary\\n',\n",
       " 'Yes.   I was going to suggest the \"grey rock\" technique.',\n",
       " 'You would be only as polite as you need to be, and only engage others in a limited way.   You go about your business as you need to without the involvement of your other family members.',\n",
       " 'That is a good idea\\n',\n",
       " 'I will just do that\\n',\n",
       " 'i can handle that for a year\\n',\n",
       " 'thank you for your help\\n',\n",
       " \"I truly wish you the best.   Stay calm, you're a stone, and will get through this until you can leave.\",\n",
       " 'thanks have a good day\\n',\n",
       " 'Hello, would you be able to help me with a fear of mine?',\n",
       " 'Hello, how are you today? I will be glad to assist you.',\n",
       " \"Thank you. I'm a little fearful and sad today because I found out my mother hurt her knee and won't be able to work for a while.\",\n",
       " 'Sorry to hear that. is it possible her job can give her light duties for a while ',\n",
       " \"Unfortunately she is a nurse and needs to be able to work with patients. I don't think there are any light duty options.\\n\",\n",
       " 'I can understand your concern for your mom, you sound like a caring child..',\n",
       " 'Thank you, I think I am. I am always worrying about my mother, so this is nothing new. Although, financially this will be more stressful.\\n',\n",
       " 'If I am understanding you correctly, you feel your mom may not be able to sustain herself during her time of recovery, is that correct?',\n",
       " \"That's exactly right. I am worried because I think I may need to financially assist her if she doesn't recover soon and I also don't have much to sustain myself.\\n\",\n",
       " 'I totally understand. I have had to provide financial assistance in the past. A  technique that worked for me was reviewing and tweaking my expenditures for a short period of time. ',\n",
       " \"Yeah, that's a good idea. I should start saving a little bit specifically in case I need to help her. Thank you for the advice!\\n\",\n",
       " 'you are more than welcome. I hope your mom begins to feel better soon.',\n",
       " 'Thank you. Do you have any advice for how to calm down fear?\\n',\n",
       " 'Your concern for your Mom is understandable. I can tell you are facing the fear just by thinking ahead as to how you can assist her.  As you come up with workable solutions, hopefully your fear will diminish.  You are doing a great job of being there for her.  ',\n",
       " 'Thank you. That has given me a broader perspective, which I was in need of. I appreciate your help!\\n Take care. Goodbye.',\n",
       " \"Oh, and let's both hope the best for my mom! :)\\n\",\n",
       " \"Good bye,  Take care, and again i hope your Mom's recovery is quick and fast. \",\n",
       " 'Actually it looks like we need to chat a couple more times to earn the bonus. Would you have any suggestions on how I could talk to my mother? Should I tell her that I can help her financially or wait for her to ask?\\n',\n",
       " 'Do you think sharing your ability to assist will ease her anxiety as she goes thru this?   ',\n",
       " \"I think it might, but I also don't want to insult her.\\n\",\n",
       " 'I feel the same way when i help others.  i usually support with love, but at the same time, I am around the situation to know if i need to step up financially.',\n",
       " 'Hi there, how are you feeling today?',\n",
       " 'hello. meh. pretty sad\\n',\n",
       " 'I am sorry to hear that. I will help if I can - what is the matter?',\n",
       " 'my family is very superficial\\n',\n",
       " \"i'm sad they aren't able to connect with me in a meaningfulway\",\n",
       " '(Sorry I was afk) I am really sorry to hear that. Can you elaborate a bit?',\n",
       " 'Is it one specific family member or all of them?',\n",
       " 'lol its all of them...parents and sister',\n",
       " \"idk it's a bit personal and very sad. i wouldn't want to make you sad too \",\n",
       " 'Is the problem bad enough that you feel you would like to cut them off entirely? ',\n",
       " 'I am sorry, I was not trying to intrude :) ',\n",
       " 'yeah, actually my husband and i were talking about cutting them off ',\n",
       " \"i've cut them off before but this time i have more stability and am happy with my life (unlike they come and ruin all the nice things in my life with their bad attitudes)\",\n",
       " 'It is a very big decision to make, but in some cases it is the best one. ',\n",
       " \"#toxicfamily - it's just all very sad\",\n",
       " 'Is there any possibility of getting professional counselling or something before making the final decision?',\n",
       " 'yeah we just talked to my therapist',\n",
       " 'I am glad you have someone to talk to! ',\n",
       " 'she said its best to not even write them. ive been trying for over 25 years',\n",
       " 'yea my husband and therapist are the best',\n",
       " 'If a professional thinks that then maybe it really is the best thing to do. It seems unlikely they will change ',\n",
       " \"yeah they aren't changing. they actually are getting worse! my mom accused my aunt of stealing from her. and turns out the money was under her mattress the whole time...\",\n",
       " 'That sounds really bad. Making false accusations about people is evil. ',\n",
       " 'yeah, and then she forced my aunt to drive her to the bank and tried to jump out of the car!',\n",
       " 'Okay that sounds really bizarre. I think you truly are better off without them ',\n",
       " \"yeah, she's a pretty terrible person :/\",\n",
       " 'The saying that we can choose our friends but not our family is very true. ',\n",
       " 'well thanks for listening\\n',\n",
       " \"You're most welcome :) We need to keep talking till fifteen mins is up though. Is there anything else you'd like to talk about?\",\n",
       " 'Yea i thought it was 15 minutes but there in the side panel it says 10-15 but we can do a couple more minutes too',\n",
       " 'No worries :). Please try not to fret too much about your problem - to be honest I have some weird family members too ',\n",
       " \"for real... it was his adoptive dad's 92 nd birthday and they refused to pay for his dinner. they said they would pay for their own dinner only. and my dad is rich\",\n",
       " \"and my family is in south america and they aren't poor but c'mon!\",\n",
       " 'Wow... that is seriously toxic. Definitely you should be away from them, it will improve your life a lot\\n',\n",
       " 'an entire 6-course dinner for 6 people is like $50 smh.... they are just awful people',\n",
       " 'Anyway I hope I have been able to be of help and I wish you all the best for the future! I think things will be better when you are free of them. ',\n",
       " 'i hope so! its hard to cut them off but its worse if I stay',\n",
       " 'thanks dear. apprecaite the chat',\n",
       " \"you too :) Can you press quit and take the survey as for some reason I can't do it first my end \",\n",
       " 'How is your feeling now?\\n\\n',\n",
       " 'I have mixed feelings sad and angry at the same time.\\n',\n",
       " 'It seems that you are feeling blue and upset by others, right?\\n',\n",
       " 'Yes. Am sad because I love my mom so much and I never like to get into arguments with her.\\n',\n",
       " 'From the short conversation, I can feel how sad you are.',\n",
       " 'Yes. My mom never approves of most of the things I do.\\n',\n",
       " 'What kind of arguments did you have with your mom?',\n",
       " 'Like the kind of friends I should have. I believe I have freedom to choose my friends not her.',\n",
       " 'I had similar situation like yours. My mom did not want me to make friends with some people. ',\n",
       " 'Really? How did you deal with that because for me it makes me angry.\\n',\n",
       " 'I just had good conversations with my mom to express my thoughts. Did you have a frank chat with your mom to express your concerns?',\n",
       " \"I try to but it never ends well if I don't agree with her suggestions.\",\n",
       " 'Take a deep breath and it can make you feel better.',\n",
       " 'What are her concerns about your friends?\\n',\n",
       " 'OK! I have taken a deep breath. \\n',\n",
       " \"ok, that's good. tell me more about your mom's concerns of your friends.\",\n",
       " \"She feels that they have some bad influence on me because of their family background. I don't do anything bad with them.\",\n",
       " 'Some of my friends are so good they even inspire me to be better everyday.\\n',\n",
       " 'My mom told me similar concerns before. It is understandable.',\n",
       " 'All I need is to find a way to show her that I can make some good decisions as well and that she can trust me to make good friends. I have never gotten into trouble before with my friends\\n',\n",
       " 'My suggestion is that tell her these facts and she can make a better decision. I think she assumed your friends are bad influencers just based on their family background.\\n ',\n",
       " 'Do I need to buy her a gift or something to let her know I care so as to start the conversation?',\n",
       " 'Yes, a good idea, it pleases her.',\n",
       " 'Thank you for your time.\\n',\n",
       " 'You are welcome. Hope it will go well.']"
      ]
     },
     "execution_count": 7,
     "metadata": {},
     "output_type": "execute_result"
    }
   ],
   "source": [
    "issues_with_parents"
   ]
  },
  {
   "cell_type": "code",
   "execution_count": 8,
   "metadata": {},
   "outputs": [
    {
     "data": {
      "text/plain": [
       "['Hi, what can I help you?',\n",
       " 'I am getting ready to sue my mother and am very nervous about the ordeal.',\n",
       " \"You're worried about being in court against your mother or are you worried about your relationship after that?\",\n",
       " 'Can you tell me about the situation, why did you decide to sue her?',\n",
       " 'My stepdad raped me and got me pregnant and I delivered a still born and i just remember the incident happened 23 years later. So now I am suing my mother.',\n",
       " 'instead of pressing charges because my sister and I dont want it in the papers\\n',\n",
       " 'So she knew about the incident but did nothing to help you?',\n",
       " 'she did not believe me',\n",
       " 'that sucks, I understand why you resent her so much',\n",
       " 'I cannot help with your worry about going to court, however, i can offer some help regarding your relationship',\n",
       " 'yes it is very difficult but im not as upset as i was i cried a lot',\n",
       " \"Crying is good, you shouldn't bottle your emotions\",\n",
       " 'Have to talked to anyone in your family about this beside your sister?',\n",
       " 'yes i am kinda numb to it but I have to call the police dept tomorrow for a copy of the police report from when my step dad took the baby to them and I dont want to\\n',\n",
       " 'No nobody knows except one cousin from my biological dads side\\n',\n",
       " 'You should talk to someone you trust, they might be able to give you specific advice regarding your situation',\n",
       " 'that might help, i am just nervous about this whole thing i am estranged from my family for the most part so ',\n",
       " 'Also, you seem to still care about your mom despite what she did. Did you consider reaching out to her after the court?',\n",
       " 'yes i imagine that we will talk\\n',\n",
       " \"Maybe talk to your friends, it's easier for people of similar age to empathize with you\",\n",
       " 'i do not have many friends really\\n',\n",
       " 'Try to keep your cool, let her know you did it because you wanted justice.',\n",
       " 'yes that is what i am worried about thank you that is really good line i can use when she asks me why\\n',\n",
       " \"If you still care about her, make sure to let her know you don't hate or resent her and you still hope to be able to fix your relationship\",\n",
       " \"yes but what she did you really can't move past a certain point of tolorence and forgivness so i will always wish she had believed me \\n\",\n",
       " \"I understand you, it's normal to feel what you feel. It's a terrible situation and what she did really is unforgivable\",\n",
       " \"yes it is. but i basically do its just i feel that she doesn't love me \\n\",\n",
       " \"I don't think she doesn't love you. Maybe she just didn't want to believe it happened\",\n",
       " 'You should definitely let her know that',\n",
       " 'yes i think you are right. I think that my time is running out. i will thank you. I am going to go now.',\n",
       " \"Sueing won't solve anything, you have to talk to your mom and get all the knots in your mind out\",\n",
       " 'good luck with your court',\n",
       " 'i will tell her thank you ',\n",
       " \"I am anxious right now about how my family will react when I tell them I'm not coming back for the holidays\",\n",
       " 'Why are you not coming back?',\n",
       " 'Because of the health risks and also the unhealthy emotional environment with my family',\n",
       " \"What kind of health risks are you concerned about? I imagine that hasn't been easy couple with the tough home environment.\",\n",
       " 'Health risks are primarily the pandemic. Covid-19 cases have gotten very high where I live and my family members are not very careful.',\n",
       " 'I think you are doing the right thing by being careful. During these times, keeping loved ones safe is more important than having gatherings.',\n",
       " 'Do you think it would be helpful to express those health concerns with your family?',\n",
       " \"I'm glad you said that. Yes, when I told my family that I wasn't coming, I stated health risks as the reason. But, I am worried that they may insist on me attending as we get closer to the holidays and in some ways I feel guilty because it isn't just the pandemic that makes me not want to go. I usually don't feel great during holidays with my family and I think they are harmful to me overall\",\n",
       " \"I understand how you feel. I'm currently saving up to move out myself because I think it would give me a chance to think for myself.\",\n",
       " \"Yeah, I think people deserve to build whatever home, family, or environment is best for them and shouldn't be judged for it\",\n",
       " \"I don't think you should feel guilty about that because you are looking out for yourself which is the most important thing. And it always helps to voice your feelings to your family. Whether or not they choose to accept it, just getting things off your chest can help too.\",\n",
       " 'Yes, it made me feel powerful in some way to say no to going to holidays even if it was in the context of the pandemic',\n",
       " 'Thank you for helping me. It feels good to at least talk about it.\\n',\n",
       " \"That's good! It's definitely a great thing to look out for yourself rather than trying to please people all the time especially if it makes you feel uncomfortable in the process.\",\n",
       " 'You are very welcome, I can relate so I definitely understand where you are coming from.',\n",
       " \"I can't take it anymore the stress from my parents.  They don't acknowledge I am doing my best.\",\n",
       " \"I can see you are trying hard but aren't feeling acknowledged.\",\n",
       " \"It's so hard to not get the affirmation that I am doing a good job.\",\n",
       " \"What is it that they aren't affirming you on?\",\n",
       " \"They don't say that I made the best choices I could given the circumstances.\",\n",
       " 'I see that can be frustrating.  ',\n",
       " \"I want to cry every time they talk to me.  I don't know how to communicate any better what I'm feeling.\",\n",
       " \"I see that you are communicating to them but they don't understand where you are coming from.  That can be frustrating.\",\n",
       " 'What can I do to please them?',\n",
       " 'When did this start?',\n",
       " 'When my children started getting in trouble at school',\n",
       " \"When my children were in the same situation I felt a lot of heat too from my parents.  It's helpful sometimes to talk to a school counselor.  Have you tried that at all?\",\n",
       " 'That would maybe help.  I have to see maybe they could help me with solving the situation.',\n",
       " \"They have some experience with other families and maybe could connect you with people who are having similar issues. I've done that in the past.\",\n",
       " 'I see your point.',\n",
       " 'Do you have other family members or friends who you could talk to?',\n",
       " 'Yes, maybe my sister could help.  She has children too.  ',\n",
       " 'That sounds like a great plan to try.',\n",
       " 'Thanks so much for the help.',\n",
       " 'It has been my pleasure.  Is there anything else I can do?',\n",
       " 'You have been of great help.\\n',\n",
       " 'You are very welcome.',\n",
       " 'Have a nice day.',\n",
       " 'You as well have a nice day.',\n",
       " 'good bye to you!',\n",
       " 'is there someone there\\n',\n",
       " 'Can you help me\\n',\n",
       " 'did you leave the chat\\n',\n",
       " 'Please talk to me I need help!\\n',\n",
       " 'no i am here',\n",
       " 'I came here for support\\n',\n",
       " 'How may I help you',\n",
       " 'I am having a really hard day today\\n\\n',\n",
       " 'this is a safe place with no judgement express yourself in what way you would like',\n",
       " 'I got grounded becuase my parents found out that I recently started dating before age 18. I am 17 and feel like I should be able to have a boyfriend now\\n',\n",
       " 'Ah i understand. I am sorry about that.',\n",
       " 'Why do you think you should have a boydriend now?',\n",
       " 'Also i can relate to what you have been to I was once a 17 year old whos parents did not want her to have a boyfriend as well.',\n",
       " 'I have waited till age 17 as I knew this was best for me. The boy is my childhood best friend and has waited for years just to be with me and only me\\n',\n",
       " 'Ok wow that is a very good position to be in. Now I want you to consider your parents perception why would you think that your parents might not want you to have a boyfriend?',\n",
       " 'Becuase they are trying to control me and dont want me to be happy and to be alone forever\\n',\n",
       " 'I understand, Parents are complicated creatures. As an adult maybr your parents are worried about your saftey?',\n",
       " 'Or maybe they dont want to see thire kid grow up that fast your are almost 18!',\n",
       " 'Why would they worry about my safety? They have raised me to make decisions and I fel like I have made a good one waiting this long and in my own choice of the guy I chose to start a relationship with\\n',\n",
       " 'Parents worry about thire kids all the time. you know pedophiles, kidnappers and a a lot of other dangerous people out there. it is only natural for parents to worry',\n",
       " 'Well, I guess I understand a bit more put like that.\\n',\n",
       " 'Since we might run out of time soon can I give you my advice to you as well?',\n",
       " 'my advice is too fold 1) demonstrate how mature you are to your parents think of it like a job interview. when you bring this issue up speak in a nonconfirmational tone. 3. patience. it takes time to change minds.',\n",
       " 'hi, how are you doing?  Would you like to discuss anything today?',\n",
       " 'I am good. How are you?\\n',\n",
       " 'Good also, what would you like to discuss?',\n",
       " \"I am having a little bit of conflict with my parents. I want to pursue psychology major while they want me to do business so I can help my brother's business in the future\\n\",\n",
       " 'They feel I am letting them down\\n',\n",
       " 'It sound like you are feeling very overwhelmed and unsupported by your parents.',\n",
       " 'I have no idea how to explain to them\\n',\n",
       " 'but at the same time I do not want to let them down\\n',\n",
       " 'I have felt this way too, perhaps sit down with them and your brother and talk the situation out. ',\n",
       " 'My brother is out of the country right now\\n',\n",
       " 'and my parents are not willing to listen to me at the moment\\n',\n",
       " 'Perhaps you can write a letter to your parents.',\n",
       " 'my parents are her\\n',\n",
       " 'my brother is out of country\\n',\n",
       " 'Does your brother want your help?',\n",
       " 'not right now, but he wants me to in the future\\n',\n",
       " 'Then perhaps tell him you do not want to help him, that you have the right to pursue your own dreams.',\n",
       " 'Yes I was thinking myself to have a full on conversation with him and explained him that just like he has the right I have the right as well\\n',\n",
       " 'I am pretty sure if he understand then my parents will too\\n',\n",
       " 'Sounds like that is a great plan.  ',\n",
       " 'Thank you so much for listening to me and explaining me!\\n',\n",
       " 'I really appreciate your helo\\n',\n",
       " 'I hope you have a good day\\n',\n",
       " 'Good evening :-)  How are you tonight?',\n",
       " 'I’m ok. I’m just calming down. ',\n",
       " \"That's good that you're calming down but were you previously upset?\",\n",
       " 'I got into a major blowout with my parents. ',\n",
       " \"That's really rough, I'm sorry to hear that.  \",\n",
       " 'I’m just so upset. They don’t approve of my girlfriend. ',\n",
       " 'And they would like you to break up with her?',\n",
       " \"It's complicated when parents want input into their child's relationships.  That is really explosive stuff.  \",\n",
       " 'I’m not giving in. I really like her and she is soooo hot. ',\n",
       " 'Are you going to have to be around your parents soon after this?  ',\n",
       " 'Yes I will be. Just because she is black, they don’t approve. ',\n",
       " \"Oof, I see.  I can understand you being upset by that, it's a silly reason to disapprove.  Was the blowout in any way productive or just angry?\",\n",
       " 'Just angry. I’m not sure what to do. ',\n",
       " \"I don't know that this problem will be solved with one single choice or conversation.  Do you live with your parents?\",\n",
       " 'I do not. I was thinking of having my girlfriend move in with me. ',\n",
       " 'Ah, well then their opinion of your romantic relationships is 100% irrelevant.',\n",
       " 'I guess but I don’t want to not have them in my life. But  have I mentioned how hot my girlfriend is? Lol',\n",
       " 'So hot and dark. Yummy. ',\n",
       " \"There's not an easy way to get people to let go of those kinds of beliefs.  Yes, you did mention that, haha.  Physical attraction is awesome but perhaps not the best basis to move someone in with you :-)\",\n",
       " 'Maybe not but it will be fun. ',\n",
       " 'Hello how are you?',\n",
       " 'Hi. How are you?',\n",
       " 'Doing good and yourself?',\n",
       " 'I’ve been better. Just got into a major argument with my parents. ',\n",
       " 'That can be tough can  you tell me what the argument was about?',\n",
       " 'They don’t agree with the girl I have been dating. ',\n",
       " 'So, why do you think they think that?',\n",
       " 'Because of her race. She is black. ',\n",
       " \"I can see why you would be upset about that. So, that is the only reason they don't approve. At this point when they are not as upset you may want to share all the reason she a great girlfriend. If it is based totally on race not sure you can change their minds. \",\n",
       " 'You are right. But I’m afraid it is solely based on race. She is such a great person. I wish they could look past her race. ',\n",
       " 'I completely understand that and if you really like her and they see how happy she makes you maybe they will come around. ',\n",
       " 'I hope so. But they are old school. I just lost my cool. ',\n",
       " \"I would be upset too so, it's understandable.  Just reassure them you love them and your happy and hopefully one day they will be happy with your decesion. If not then it is your decesion who you date and I think they know that too. \",\n",
       " 'Have you dated interracial?',\n",
       " 'Yes  I have and my parents did not approve either',\n",
       " 'Eventually my parents came around and most likely yours will too. ',\n",
       " 'What race was it? What did you do?',\n",
       " \"It was in highschool I dated a black man after I became an adult they didn't say much about who I dated and I countinued to date the person and it ended when he went in the miltary and I went to college not at first but it was the distance thing. \",\n",
       " 'Interesting. My girl is black. I hope they come around too. ',\n",
       " 'Most likely they will if she makes you happy they will see that :-)',\n",
       " 'You have been a great help!',\n",
       " 'Glad that I could be and good luck to you',\n",
       " 'Hello, How can I help you today?',\n",
       " 'Hi, I have a situation which makes me very sad.',\n",
       " 'This is about my dad',\n",
       " 'He is an old fellow and alone so i made him move in with me.',\n",
       " \"I'm sorry to hear that you have a sad situation happening with your dad.\\n\",\n",
       " 'I take all responsibilities - including financial\\n',\n",
       " 'But i find him very dry with his emotions. Today,i fell unwell and i wanted to go take a covid test. but, he just brushed it off saying, its a mild flu. \\n',\n",
       " 'He showed no emotions at all. \\n',\n",
       " 'That sounds like quite a challenge for you.  You seem to care so much.',\n",
       " 'He simply told me, its a waste of money to go get checked\\n',\n",
       " 'I know that old people sometimes act childish. But his dry behaviour makes me very sad.\\n',\n",
       " 'sometimes this leads to a fight\\n',\n",
       " \"That must be hard to hear when you are trying so hard to do what's right.\",\n",
       " 'I also am struggling to convince my father to stay away from crowds because of COVID.',\n",
       " 'Sometimes this behaviour of him leads to a fight. and i end up crying! \\n',\n",
       " ' Untop of it, i feel awful because i end up yelling at home too\\n',\n",
       " 'Is it normal to yell at parents? \\n',\n",
       " \"My dad simply won't listen\\n\",\n",
       " 'Is it normal to have a fight with your parents?\\n',\n",
       " \"I'm sorry you have to go through this.  \",\n",
       " 'I feel guilty to fight with him\\n',\n",
       " 'Perhaps you can take some time for yourself with a friend?',\n",
       " 'Do you suggest anything else?\\n',\n",
       " \"Yes i could do that. But that won't resolve my issue\\n\",\n",
       " 'What do you suggest?\\n\\n',\n",
       " 'As my father is getting older, he is often frustrated.\\n',\n",
       " \"It's harder to move, you have more aches and pains and this virus is scary.\",\n",
       " 'How should i deal with him?\\n',\n",
       " 'Perhaps you could suggest him taking some deep breaths to calm down.',\n",
       " \"It's very hard to convince him of anything. He thinks he is always right. \\n\",\n",
       " 'I understand as my father is the same way.  I often have to just hear him out and take time away in another room.',\n",
       " \"It's hard on me, because i have a child to look after too. And my dad keeps interfering in my parenting with my child.\",\n",
       " 'Do you have any other family support who understands your position?',\n",
       " \"It's hard honestly. My spouse and me are separated. \",\n",
       " 'And i have a child who stays with me. \\n',\n",
       " \"Perhaps there is some support in your community?  I have a child with autism and my father doesn't understand the behaviors and is critical of my parenting too.  I often seek support from an autism group with parents in my position.  Perhaps there is a group of single parents you could gain support from?\",\n",
       " 'I have a six year old child. Yes, maybe i would look for some support groups somewhere. ',\n",
       " 'Autistic child must be huge challenge i am sure\\n',\n",
       " 'It sounds like you are really trying hard to do the best you can.  ',\n",
       " \"Sometimes i suggest to my dad that he should seek therapy. But he won't listen at all. \",\n",
       " \"That must be frustrating that you try to have him seek therapy, but he doesn't want to follow your suggestions.\",\n",
       " \"Yes, i would have joined a support group. But, this covid won't let me now. I have to be very careful since i have a child and dad at home. I step out only for necessities.\\n\",\n",
       " 'Do you think communicating in a different way like writing may help? Have you tried different ways to communicate?',\n",
       " 'It would be awkward since he is in the same house\\n',\n",
       " 'But i could try sending a text message\\n',\n",
       " \"That's a good advice\\n\",\n",
       " 'Do you think maybe some way of showing you care like making dinner or something encouraging him in a way he likes could help?',\n",
       " 'Yes, could work. I will try that.\\n',\n",
       " 'Thanks for the advice\\n',\n",
       " 'You are welcome.  I wish you well.  Have a good night.',\n",
       " 'Hello there how can I help?',\n",
       " \"I'm feeling so worried about the COVID-19 crisis.\\n\",\n",
       " 'So you feel anxiety about this whole COVID-19 epidemic?',\n",
       " \"Yes, I'm particularly worried about my parents. One is on oxygen at night, but he still doesn't want to listen about not going in crowds.\\n\",\n",
       " 'Oh well I understand your concern then.  As a son or daughter it is certainly reasonable to be concerned about your parents especially as they grow older.  I have a similar situation with my own mother.',\n",
       " \"I just don't know what more to do.\",\n",
       " \"Well first of all, you have to take care of yourself because if you don't you can't help them.  So just take a moment to close your eyes and take some deep breaths and realize you stressing is probably going to make them stress.\",\n",
       " 'That is helpful information.  What can I tell them?',\n",
       " 'Well if you can get some concrete info such as from the CDC and John Hopkins showing case counts in your area.  Show them graphs so they can visually see the impact.  Also if you can get a hold of their doctor yourself, see if you can convince them to give your parents a call, say to check on them and give them some advice.',\n",
       " 'That sounds like a good plan.  Is there anything else I can do to decrease the anxiety for me?\\n',\n",
       " \"Don't get absorbed in the numbers, it can drive you crazy.  Also if you are using social media like twitter and getting inundated with info, remember a lot of it is fake.  I would suggest limiting exposure for a little while just to get you fixed a little bit, if that makes sense. \",\n",
       " 'Do you think there are some good social media sites that could help?\\n',\n",
       " 'Not particularly social media because it open to everyone, just pick and choose where you choose to get info from.  The CDC is a great resource as well as the John Hopkins site which has been tracking since the beginning.   Everybody has a couple of news outlets they trust, use those.',\n",
       " 'How can I cope with limiting my visits with my parents because I am afraid to spread COVID?\\n',\n",
       " \"First of all you are not alone.  but don't let them see you anxious for sure.  You can also show them if they can how to do video visits.  You can do that all the time, even phone calls every day.  It means a lot.\",\n",
       " 'That makes sense.  I appreciate the suggestions.  How can I show them the kids care too?\\n',\n",
       " \"Nothing will make grandparents smile more than seeing their grandkids on a video call.  If you don't want to bring them when you physically visit have them record themselves on your phone as an example.\",\n",
       " \"Maybe I can send them some pictures too.  Nothing like a great big hug, but for now some video chats and pictures or recordings may help.  I'm starting to feel a little more relief.\\n\",\n",
       " \"Of course.  I don't know if they dressed up for Halloween, but see if they want to dress up and take some pictures for grandma.  Pictures and voice and video are wonderful in these times.\",\n",
       " 'Thank you so much for helping.  I think I can use your advice.  Take care and have a great day!  ',\n",
       " 'You too, I hope I helped.  Take care!',\n",
       " \"I'm having issues with my parents. You can say we are having a conflict \\n\",\n",
       " 'What kind of issues do you think you are having?',\n",
       " \"well they won't allow me to date this girl i met online. \\n\",\n",
       " \"They told she's bad news \\n\",\n",
       " 'I understand it can be very difficult at times with parents. Especially since they lived in a life that was very different from today. ',\n",
       " 'Have you tried talking to you parents about why she is \"bad news\"?',\n",
       " \"Yes, i tried but it won't get through their head. There are so old school. They want me to date someone close to my age.  is 15 year difference too big of a gap?\\n\",\n",
       " 'The basic problem is that your parents believe that 15 years is too large of an age gap between you guys. ',\n",
       " 'Is there any other reasons your parents dissaporve of her?',\n",
       " \"They told me she's  gold digger.  Yes i come from money but hey this girl is the one. \\n\",\n",
       " 'You believe that the girl is not a gold digger, but instead you guys like each other for who you are. Money is not an issue for you guys?',\n",
       " 'nope not at all. hmm well she does ask to use my credit card alot. my parents foot the bill. \\n',\n",
       " 'Perhaps you should try to talk to your parents around this fact. For example, if money is the problem for your parents, you can set some rules. LIke you can set an allowance for how much money you can use each week.',\n",
       " \"Ok, i will talk to them this weekend. what's better on the phone or in person?\\n\",\n",
       " 'If you want a better communication, I believe in person will be best.',\n",
       " 'hate talking to my parents face to face, all they do is yell and i get frustrated \\n',\n",
       " 'I apologize and I do agree it is sometimes difficult. Perhaps it will be better to talk to them with another  person present.',\n",
       " \"That's a great idiea. i will bring my g.f or is that a bad idea? \\n\",\n",
       " 'If another person is present, it may make it easier. However, I believe it should be someone that is not invovled in this issue. Perhaps another family member or a close family friend.',\n",
       " \"gotcha. i will bring my good friend. i'm sure he can help me out. great advice by the way. i'm so mad though why my parents care who i date. man i'm old enough. let me make my choices\\n\",\n",
       " 'Parents have a difficult time understanding their child at times. Hopefully, through this you all can become closer.',\n",
       " 'Thank you it will. will talk to them this weeked with a friend present. wish me luck :)\\n',\n",
       " 'I personally understand how difficult this can be. But if this works out. You can have a good family relationship and maintain a good relationship with your girlfriend.']"
      ]
     },
     "execution_count": 8,
     "metadata": {},
     "output_type": "execute_result"
    }
   ],
   "source": [
    "conflict_with_parents"
   ]
  },
  {
   "cell_type": "markdown",
   "metadata": {},
   "source": [
    "# We decided to merge 'Issues with Parents' with 'conflict with parents'"
   ]
  },
  {
   "cell_type": "code",
   "execution_count": 9,
   "metadata": {},
   "outputs": [
    {
     "data": {
      "text/plain": [
       "'job crisis'"
      ]
     },
     "execution_count": 9,
     "metadata": {},
     "output_type": "execute_result"
    }
   ],
   "source": [
    "processed_data[0][0]"
   ]
  },
  {
   "cell_type": "code",
   "execution_count": 10,
   "metadata": {},
   "outputs": [],
   "source": [
    "for i in range(len(processed_data)):\n",
    "    if processed_data[i][0] == 'conflict with parents':\n",
    "        processed_data[i][0] = 'Issues with Parents'"
   ]
  },
  {
   "cell_type": "code",
   "execution_count": 11,
   "metadata": {},
   "outputs": [
    {
     "data": {
      "text/plain": [
       "Counter({'job crisis': 7475,\n",
       "         'problems with friends': 4702,\n",
       "         'ongoing depression': 9462,\n",
       "         'breakup with partner': 6697,\n",
       "         'academic pressure': 4009,\n",
       "         'Issues with Parents': 494,\n",
       "         'Procrastination': 352,\n",
       "         'Alcohol Abuse': 360,\n",
       "         'Sleep Problems': 765,\n",
       "         'Appearance Anxiety': 346,\n",
       "         'School Bullying': 46,\n",
       "         'Issues with Children': 371})"
      ]
     },
     "execution_count": 11,
     "metadata": {},
     "output_type": "execute_result"
    }
   ],
   "source": [
    "from collections import Counter\n",
    "cpd = []\n",
    "for i in processed_data:\n",
    "    cpd.append(i[0])\n",
    "Counter(cpd)"
   ]
  },
  {
   "cell_type": "code",
   "execution_count": 12,
   "metadata": {},
   "outputs": [],
   "source": [
    "# For now, we care the all 12 categories.\n",
    "kept = ['problems with friends', 'ongoing depression','breakup with partner', 'academic pressure', 'job crisis', 'Issues with Parents', 'Procrastination', 'Alcohol Abuse','Sleep Problems','Appearance Anxiety', 'School Bullying', 'Issues with Children'   ]\n",
    "\n",
    "filtered_processed_data = []\n",
    "for i in processed_data:\n",
    "    if i[0] in kept:\n",
    "        filtered_processed_data.append(list(i))\n",
    "        filtered_processed_data[-1][0] = kept.index(filtered_processed_data[-1][0])"
   ]
  },
  {
   "cell_type": "markdown",
   "metadata": {},
   "source": [
    "# Split the training and test"
   ]
  },
  {
   "cell_type": "code",
   "execution_count": 13,
   "metadata": {},
   "outputs": [],
   "source": [
    "import random\n",
    "\n",
    "random.seed(10)\n",
    "random.shuffle(filtered_processed_data)\n",
    "lenth = len(filtered_processed_data)\n",
    "train_list = filtered_processed_data[0:int(lenth*0.8)]\n",
    "test_list = filtered_processed_data[int(lenth*0.8):]"
   ]
  },
  {
   "cell_type": "code",
   "execution_count": 14,
   "metadata": {},
   "outputs": [
    {
     "data": {
      "text/plain": [
       "Counter({0: 3785,\n",
       "         1: 7533,\n",
       "         2: 5361,\n",
       "         3: 3162,\n",
       "         4: 6018,\n",
       "         7: 299,\n",
       "         8: 636,\n",
       "         5: 395,\n",
       "         11: 302,\n",
       "         9: 268,\n",
       "         10: 33,\n",
       "         6: 271})"
      ]
     },
     "execution_count": 14,
     "metadata": {},
     "output_type": "execute_result"
    }
   ],
   "source": [
    "# Count labels in training\n",
    "lt = []\n",
    "for i in train_list:\n",
    "    lt.append(i[0])\n",
    "Counter(lt)"
   ]
  },
  {
   "cell_type": "code",
   "execution_count": 15,
   "metadata": {},
   "outputs": [
    {
     "data": {
      "text/plain": [
       "Counter({2: 1336,\n",
       "         1: 1929,\n",
       "         4: 1457,\n",
       "         0: 917,\n",
       "         3: 847,\n",
       "         7: 61,\n",
       "         9: 78,\n",
       "         6: 81,\n",
       "         10: 13,\n",
       "         11: 69,\n",
       "         8: 129,\n",
       "         5: 99})"
      ]
     },
     "execution_count": 15,
     "metadata": {},
     "output_type": "execute_result"
    }
   ],
   "source": [
    "# Count labels in testing\n",
    "lts = []\n",
    "for i in test_list:\n",
    "    lts.append(i[0])\n",
    "Counter(lts)"
   ]
  },
  {
   "cell_type": "markdown",
   "metadata": {},
   "source": [
    "# This would be a classification into 12 categories."
   ]
  },
  {
   "cell_type": "code",
   "execution_count": 16,
   "metadata": {},
   "outputs": [],
   "source": [
    "import torch\n",
    "from torch.utils.data.sampler import BatchSampler, Sampler, RandomSampler, SequentialSampler\n",
    "from torch.utils.data import Dataset, DataLoader\n",
    "\n",
    "from transformers import BertTokenizer\n",
    "from transformers import BertForSequenceClassification, BertModel, AdamW, BertConfig\n",
    "from tqdm import tqdm\n",
    "\n",
    "class Corpora():\n",
    "    \"\"\"\n",
    "        A class that holds the texts and class labels.\n",
    "    \"\"\"\n",
    "    \n",
    "    def __init__(self, l):\n",
    "        \"\"\"\n",
    "            file_path: on MAGIC, it is either\n",
    "                        data-badassnlp/cola_public/raw/in_domain_train.tsv or\n",
    "                        data-badassnlp/cola_public/raw/in_domain_dev.tsv\n",
    "                    on Google Colab, change them to the corresponding paths.\n",
    "        \"\"\"\n",
    "\n",
    "        self.sentences = [s[1] for s in tqdm(l)]\n",
    "        self.labels = [int(s[0]) for s in tqdm(l)]\n",
    "        \n",
    "        \n",
    "class TextClassificationDataSet(Dataset):\n",
    "    \"\"\"\n",
    "        Define a dataset consisting of pairs of (sequence_of_word_indices, class_label).\n",
    "        class_label is either 0 or 1.\n",
    "    \"\"\"\n",
    "    def __init__(self, corpora, tokenizer: BertTokenizer):\n",
    "        \"\"\"\n",
    "            This function will tokenize the sentences in self.corpora,\n",
    "            and pad the word indices properly.\n",
    "            The tokenization and padding should be done using BERT's API.\n",
    "\n",
    "                See https://huggingface.co/docs/transformers/internal/tokenization_utils\n",
    "                    for the API of tokenizer\n",
    "                See https://huggingface.co/docs/transformers/preprocessing\n",
    "                    for examples of using the API\n",
    "                Also see the BERT paper\n",
    "                    \"BERT: Pre-training of Deep Bidirectional Transformers forLanguage Understanding\"\n",
    "                regarding how paddings are done.\n",
    "\n",
    "            We turn the entire corpora into a big tensor in a batch, rather than\n",
    "                doing that in the __getitem__ function, as batch processing can speed up tokenization\n",
    "        \n",
    "            Then self.input_ids, self.attention_mask and self.labels\n",
    "            will be created as tensors of shape\n",
    "                torch.Size([num_sentences, max_padded_sentence_length])\n",
    "                torch.Size([num_sentences, max_padded_sentence_length])\n",
    "                torch.Size([num_sentences])\n",
    "\n",
    "            corpora: an object of the Corpora class representing some raw classified texts.\n",
    "            tokenizer: must be the BERTTokenizer loaded from the BERT/download folder\n",
    "                        in order to have the same ids for the words in any vocabulary.\n",
    "                        See the loading codes below.\n",
    "        \"\"\"\n",
    "        self.corpora = corpora\n",
    "        self.tokenizer = tokenizer\n",
    "        d =  tokenizer.batch_encode_plus(corpora.sentences)\n",
    "        padded_encoded_inputs = tokenizer.pad(d)\n",
    "        self.input_ids = torch.tensor(padded_encoded_inputs.input_ids)\n",
    "        self.attention_mask = torch.tensor(padded_encoded_inputs.attention_mask)\n",
    "        self.labels = torch.tensor(corpora.labels)\n",
    "        \n",
    "    def __len__(self):\n",
    "        return len(self.corpora.sentences)\n",
    "\n",
    "    def __getitem__(self, idx):\n",
    "        \"\"\"\n",
    "            Return the idx-th of the rows the self.input_ids, self.attention_mask, self.labels in this order.\n",
    "            Don't do BERT tokenization here as that will be slow.\n",
    "        \"\"\"\n",
    "        return self.input_ids[idx], self.attention_mask[idx], self.labels[idx]"
   ]
  },
  {
   "cell_type": "code",
   "execution_count": 17,
   "metadata": {},
   "outputs": [],
   "source": [
    "from torch import nn\n",
    "\n",
    "class BERTClassifier(nn.Module):\n",
    "    \n",
    "    def __init__(self, BERT_model, hidden_layer_size, num_classes):\n",
    "        \n",
    "        super(BERTClassifier, self).__init__()\n",
    "\n",
    "        # loaded pretrained model\n",
    "        self.bert = BERT_model\n",
    "        \n",
    "        # simple neural network that convert embedding of the first token to a class\n",
    "        self.classifier = nn.Sequential(\n",
    "            nn.Linear(BERT_hidden_size, hidden_layer_size),\n",
    "            nn.ReLU(),\n",
    "            nn.Linear(hidden_layer_size, num_classes)\n",
    "        )\n",
    "        \n",
    "    def forward(self, input_ids, attention_mask):\n",
    "        \"\"\"\n",
    "        The following two arguments are tensors from a mini-batch of the input_ids\n",
    "            and attention_mask returned by the BERT tokenizer.\n",
    "            \n",
    "            input_ids: a tensor of shape [batch_size, max_length]\n",
    "            attention_mask: a tensor of shape [batch_size, max_length]\n",
    "            \n",
    "            return: the logits of the sentences in the batch tensor of shape [batch_size, 1, 2]\n",
    "        \"\"\"\n",
    "        # see https://huggingface.co/docs/transformers/model_doc/bert#transformers.BertModel\n",
    "        # and https://huggingface.co/docs/transformers/main_classes/output\n",
    "        # for the return value of the forward function of BERT\n",
    "\n",
    "        ### Your codes go here (30 points) ###\n",
    "        z = self.bert.forward(input_ids, attention_mask)\n",
    "        return torch.softmax(self.classifier(z[1]).unsqueeze(1), dim=-1) \n",
    "        \n",
    "        return logits"
   ]
  },
  {
   "cell_type": "code",
   "execution_count": 18,
   "metadata": {},
   "outputs": [],
   "source": [
    "# make sure you check the availability of GPU when you set the device ID.\n",
    "device = torch.device(2)\n",
    "\n",
    "BATCH_SIZE = 8\n",
    "num_classes = 12\n",
    "classifier_hidden_size = 128\n",
    "\n",
    "## if using MAGIC\n",
    "BERT_PATH = '/data/badassnlp/bert-base-uncased/'\n",
    "## if using Google Colab, you need to load the bert model after it downloads the model files.\n",
    "## \n",
    "\n",
    "BERT_hidden_size = 768\n",
    "\n",
    "N_EPOCHS = 1\n",
    "CLIP = 1"
   ]
  },
  {
   "cell_type": "code",
   "execution_count": 19,
   "metadata": {},
   "outputs": [
    {
     "name": "stderr",
     "output_type": "stream",
     "text": [
      "Some weights of the model checkpoint at /data/badassnlp/bert-base-uncased/ were not used when initializing BertModel: ['cls.predictions.transform.dense.weight', 'cls.seq_relationship.weight', 'cls.predictions.transform.LayerNorm.bias', 'cls.predictions.decoder.weight', 'cls.seq_relationship.bias', 'cls.predictions.transform.LayerNorm.weight', 'cls.predictions.transform.dense.bias', 'cls.predictions.bias']\n",
      "- This IS expected if you are initializing BertModel from the checkpoint of a model trained on another task or with another architecture (e.g. initializing a BertForSequenceClassification model from a BertForPreTraining model).\n",
      "- This IS NOT expected if you are initializing BertModel from the checkpoint of a model that you expect to be exactly identical (initializing a BertForSequenceClassification model from a BertForSequenceClassification model).\n"
     ]
    },
    {
     "name": "stdout",
     "output_type": "stream",
     "text": [
      "creating training corpora ... \n"
     ]
    },
    {
     "name": "stderr",
     "output_type": "stream",
     "text": [
      "100%|██████████| 28063/28063 [00:00<00:00, 1883547.28it/s]\n",
      "100%|██████████| 28063/28063 [00:00<00:00, 2382012.25it/s]"
     ]
    },
    {
     "name": "stdout",
     "output_type": "stream",
     "text": [
      "creating training dataset ... \n"
     ]
    },
    {
     "name": "stderr",
     "output_type": "stream",
     "text": [
      "\n"
     ]
    },
    {
     "name": "stdout",
     "output_type": "stream",
     "text": [
      "creating training iterator ... \n",
      "creating test corpora ... \n"
     ]
    },
    {
     "name": "stderr",
     "output_type": "stream",
     "text": [
      "100%|██████████| 7016/7016 [00:00<00:00, 1760528.68it/s]\n",
      "100%|██████████| 7016/7016 [00:00<00:00, 2381807.92it/s]"
     ]
    },
    {
     "name": "stdout",
     "output_type": "stream",
     "text": [
      "creating test dataset ... \n"
     ]
    },
    {
     "name": "stderr",
     "output_type": "stream",
     "text": [
      "\n"
     ]
    },
    {
     "name": "stdout",
     "output_type": "stream",
     "text": [
      "creating test iterator ... \n"
     ]
    }
   ],
   "source": [
    "## 'uncased' means all words are lowered-cased before tokenization\n",
    "## 'base' means the smaller version of BERT (12 layers, 16 heads)\n",
    "## un-comment one of the following two options.\n",
    "\n",
    "# if using MAGIC, load from local BERT folder\n",
    "tokenizer = BertTokenizer.from_pretrained(BERT_PATH, local_files_only=True)\n",
    "BERT_model = BertModel.from_pretrained(BERT_PATH, num_labels = 2, output_attentions = False, output_hidden_states = False\n",
    ").to(device)\n",
    "\n",
    "## if using Colab, load from automatically downloaded files. Downloading can take half a minute\n",
    "# tokenizer = BertTokenizer.from_pretrained(\"bert-base-cased\")\n",
    "# BERT_model = BertModel.from_pretrained(\"bert-base-cased\", num_labels = 2, output_attentions = False, output_hidden_states = False).to(device)\n",
    "\n",
    "\n",
    "## if using MAGIC\n",
    "print(\"creating training corpora ... \")\n",
    "training_corpora = Corpora(train_list)\n",
    "print(\"creating training dataset ... \")\n",
    "training_dataset = TextClassificationDataSet(training_corpora, tokenizer)\n",
    "print(\"creating training iterator ... \")\n",
    "training_iterator = DataLoader(training_dataset, sampler = RandomSampler(training_dataset), batch_size=BATCH_SIZE)\n",
    "\n",
    "## if using MAGIC\n",
    "print(\"creating test corpora ... \")\n",
    "dev_corpora = Corpora(test_list)\n",
    "print(\"creating test dataset ... \")\n",
    "dev_dataset = TextClassificationDataSet(dev_corpora, tokenizer)\n",
    "print(\"creating test iterator ... \")\n",
    "dev_iterator = DataLoader(dev_dataset, sampler = SequentialSampler(dev_dataset), batch_size=BATCH_SIZE)\n",
    "\n",
    "classifier = BERTClassifier(BERT_model, classifier_hidden_size, num_classes).to(device)"
   ]
  },
  {
   "cell_type": "code",
   "execution_count": 20,
   "metadata": {},
   "outputs": [
    {
     "data": {
      "text/plain": [
       "torch.Size([8, 198])"
      ]
     },
     "execution_count": 20,
     "metadata": {},
     "output_type": "execute_result"
    }
   ],
   "source": [
    "list(training_iterator)[0][0].shape"
   ]
  },
  {
   "cell_type": "code",
   "execution_count": 21,
   "metadata": {},
   "outputs": [
    {
     "data": {
      "text/plain": [
       "torch.Size([8, 206])"
      ]
     },
     "execution_count": 21,
     "metadata": {},
     "output_type": "execute_result"
    }
   ],
   "source": [
    "list(dev_iterator)[0][0].shape"
   ]
  },
  {
   "cell_type": "code",
   "execution_count": 22,
   "metadata": {},
   "outputs": [],
   "source": [
    "from torch import optim\n",
    "optimizer = optim.Adam(classifier.parameters())\n",
    "criterion = nn.CrossEntropyLoss(reduction = 'sum')\n",
    "\n",
    "# Global variable that count the number of training epoch\n",
    "num_epochs_train = 0\n",
    "\n",
    "from tqdm import tqdm"
   ]
  },
  {
   "cell_type": "code",
   "execution_count": 23,
   "metadata": {},
   "outputs": [],
   "source": [
    "def train(model, iterator, optimizer, criterion, clip):\n",
    "    \"\"\"\n",
    "        model: an BERTClassifier object\n",
    "        iterator: a DataLoader object\n",
    "        optimizer: torch optimizer\n",
    "        criterion: the crossentropyloss\n",
    "        clip: to be used with torch.nn.utils.clip_grad_norm_\n",
    "\n",
    "        return: average loss over the training instances (sentences) in the DataLoader.\n",
    "    \"\"\"\n",
    "    model.train()\n",
    "    \n",
    "    epoch_loss = 0\n",
    "    num_batchs = 0\n",
    "    total_instances = 0\n",
    "    global num_epochs_train\n",
    "    num_epochs_train += 1\n",
    "    for i, batch in tqdm(enumerate(iterator)):\n",
    "        num_batchs += 1\n",
    "        optimizer.zero_grad() \n",
    "        tmp = optimizer.state_dict()\n",
    "        tmp[\"param_groups\"][0][\"lr\"] = 0.00002/(num_epochs_train)\n",
    "        optimizer.load_state_dict(tmp)\n",
    "\n",
    "        ### Your codes go here (10 points) ###\n",
    "\n",
    "        # Step 1 (5 points): get the tensors from this mini-batch and increase the total_instances\n",
    "        # make sure tensors are moved to GPU.\n",
    "        ids = batch[0].to(device)\n",
    "        msk = batch[1].to(device)\n",
    "        y = (batch[2]).to(device)\n",
    "        \n",
    "        # Step 2 (5 points): call the forward function of the model and find the output logits\n",
    "        # then calculate the loss. Then cumulate the epoch_loss\n",
    "        logits = model.forward(ids,msk)\n",
    "        loss = criterion(logits.squeeze(1), y) # if squeeze here, why unsqueeze previous\n",
    "        loss.backward()\n",
    "\n",
    "        # Clips gradient norm of an iterable of parameters.\n",
    "        torch.nn.utils.clip_grad_norm_(model.parameters(), clip)\n",
    "\n",
    "        optimizer.step()\n",
    "\n",
    "        epoch_loss += loss.item()\n",
    "        total_instances += BATCH_SIZE\n",
    "\n",
    "    return epoch_loss / total_instances\n",
    "\n",
    "confusion_matrix = []\n",
    "num_epochs = 0\n",
    "\n",
    "def evaluate(model, iterator, criterion):\n",
    "    \"\"\"\n",
    "        Find the loss (criterion) of the model over instances in this DataLoader (iterator)\n",
    "        Same logic as the above train function, except no gradient calculation\n",
    "        and no update of the parameter. \n",
    "        \n",
    "        return: average loss over the training instances (sentences) in the DataLoader.\n",
    "    \"\"\"\n",
    "    model.eval()\n",
    "\n",
    "    epoch_loss = 0\n",
    "    total_instances = 0\n",
    "    \n",
    "    confusion_matrix.append(torch.zeros(num_classes,num_classes))\n",
    "    global num_epochs\n",
    "    \n",
    "    for i, batch in tqdm(enumerate(iterator)):\n",
    "        \n",
    "        ### Your codes go here (5 points) ###\n",
    "        ids = batch[0].to(device)\n",
    "        msk = batch[1].to(device)\n",
    "        y = (batch[2]).to(device)\n",
    "        logits = model.forward(ids,msk)\n",
    "        loss = criterion(logits.squeeze(1), y) # if squeeze here, why unsqueeze previous\n",
    "        \n",
    "        epoch_loss += loss.item()\n",
    "        total_instances += BATCH_SIZE\n",
    "        \n",
    "\n",
    "        for i in range(len(y)):\n",
    "            row = y[i]\n",
    "            col = torch.argmax((logits.squeeze(1))[i])\n",
    "            confusion_matrix[num_epochs][row][col] += 1\n",
    "    num_epochs += 1\n",
    "\n",
    "    return epoch_loss / total_instances\n",
    "\n",
    "def epoch_time(start_time, end_time):\n",
    "    elapsed_time = end_time - start_time\n",
    "    elapsed_mins = int(elapsed_time / 60)\n",
    "    elapsed_secs = int(elapsed_time - (elapsed_mins * 60))\n",
    "    return elapsed_mins, elapsed_secs"
   ]
  },
  {
   "cell_type": "code",
   "execution_count": null,
   "metadata": {},
   "outputs": [],
   "source": [
    "import time\n",
    "\n",
    "best_test_loss = float('inf')\n",
    "training_losses = []\n",
    "test_losses = []\n",
    "\n"
   ]
  },
  {
   "cell_type": "code",
   "execution_count": 39,
   "metadata": {},
   "outputs": [
    {
     "name": "stdout",
     "output_type": "stream",
     "text": [
      "epoch start:  0\n"
     ]
    },
    {
     "name": "stderr",
     "output_type": "stream",
     "text": [
      "3508it [08:39,  6.76it/s]\n",
      "877it [00:36, 24.30it/s]\n"
     ]
    },
    {
     "name": "stdout",
     "output_type": "stream",
     "text": [
      "Epoch: 01 | Time: 9m 15s\tTrain Loss: 2.149 | Test Loss: 2.168\n"
     ]
    }
   ],
   "source": [
    "\n",
    "for epoch in range(N_EPOCHS):  \n",
    "    print(\"epoch start: \", epoch)  \n",
    "    start_time = time.time()\n",
    "    training_loss = train(classifier, training_iterator, optimizer, criterion, CLIP)\n",
    "    training_losses.append(training_loss)\n",
    "    test_loss = evaluate(classifier, dev_iterator, criterion)\n",
    "    test_losses.append(test_loss)\n",
    "    end_time = time.time()\n",
    "    epoch_mins, epoch_secs = epoch_time(start_time, end_time)\n",
    "    if test_loss < best_test_loss:\n",
    "        best_test_loss = test_loss \n",
    "        torch.save(classifier.state_dict(), 'best_model_12classes.pt')\n",
    "        \n",
    "\n",
    "    print(f'Epoch: {epoch+1:02} | Time: {epoch_mins}m {epoch_secs}s', end='')\n",
    "    print(f'\\tTrain Loss: {training_loss:.3f} | Test Loss: {test_loss:.3f}')"
   ]
  },
  {
   "cell_type": "code",
   "execution_count": 41,
   "metadata": {},
   "outputs": [
    {
     "data": {
      "text/plain": [
       "[2.180055851539429, 2.1678962313326897]"
      ]
     },
     "execution_count": 41,
     "metadata": {},
     "output_type": "execute_result"
    }
   ],
   "source": [
    "test_losses"
   ]
  },
  {
   "cell_type": "code",
   "execution_count": 38,
   "metadata": {},
   "outputs": [
    {
     "name": "stdout",
     "output_type": "stream",
     "text": [
      "tensor([327., 445., 102.,  10.,  33.,   0.,   0.,   0.,   0.,   0.,   0.,   0.])\n",
      "tensor([ 149., 1445.,  102.,   41.,  192.,    0.,    0.,    0.,    0.,    0.,\n",
      "           0.,    0.])\n",
      "tensor([151., 688., 431.,  13.,  53.,   0.,   0.,   0.,   0.,   0.,   0.,   0.])\n",
      "tensor([ 42., 429.,   8., 290.,  78.,   0.,   0.,   0.,   0.,   0.,   0.,   0.])\n",
      "tensor([ 61., 744.,  31.,  30., 591.,   0.,   0.,   0.,   0.,   0.,   0.,   0.])\n",
      "tensor([26., 53., 15.,  2.,  3.,  0.,  0.,  0.,  0.,  0.,  0.,  0.])\n",
      "tensor([ 1., 63.,  0.,  2., 15.,  0.,  0.,  0.,  0.,  0.,  0.,  0.])\n",
      "tensor([ 3., 50.,  0.,  0.,  8.,  0.,  0.,  0.,  0.,  0.,  0.,  0.])\n",
      "tensor([  3., 105.,   6.,   2.,  13.,   0.,   0.,   0.,   0.,   0.,   0.,   0.])\n",
      "tensor([ 4., 64.,  3.,  3.,  4.,  0.,  0.,  0.,  0.,  0.,  0.,  0.])\n",
      "tensor([4., 8., 0., 0., 1., 0., 0., 0., 0., 0., 0., 0.])\n",
      "tensor([15., 45.,  3.,  4.,  2.,  0.,  0.,  0.,  0.,  0.,  0.,  0.])\n"
     ]
    }
   ],
   "source": [
    "print(confusion_matrix[0][0])\n",
    "print(confusion_matrix[0][1])\n",
    "print(confusion_matrix[0][2])\n",
    "print(confusion_matrix[0][3])\n",
    "print(confusion_matrix[0][4])\n",
    "print(confusion_matrix[0][5])\n",
    "print(confusion_matrix[0][6])\n",
    "print(confusion_matrix[0][7])\n",
    "print(confusion_matrix[0][8])\n",
    "print(confusion_matrix[0][9])\n",
    "print(confusion_matrix[0][10])\n",
    "print(confusion_matrix[0][11])"
   ]
  },
  {
   "cell_type": "code",
   "execution_count": 50,
   "metadata": {},
   "outputs": [
    {
     "data": {
      "text/plain": [
       "tensor([18., 39., 21.,  4., 17.,  0.,  0.,  0.,  0.,  0.,  0.,  0.])"
      ]
     },
     "execution_count": 50,
     "metadata": {},
     "output_type": "execute_result"
    }
   ],
   "source": [
    "confusion_matrix[1][5]"
   ]
  },
  {
   "cell_type": "markdown",
   "metadata": {},
   "source": [
    "# It only recognize 5 classes."
   ]
  },
  {
   "cell_type": "code",
   "execution_count": 51,
   "metadata": {},
   "outputs": [
    {
     "data": {
      "text/plain": [
       "tensor([[[1.8120e-04, 9.9877e-01, 4.8491e-04, 4.2049e-05, 4.9200e-04,\n",
       "          3.5026e-06, 3.1569e-06, 2.9752e-06, 5.0833e-06, 2.5254e-06,\n",
       "          1.1138e-05, 4.2090e-06]]], device='cuda:2',\n",
       "       grad_fn=<SoftmaxBackward0>)"
      ]
     },
     "execution_count": 51,
     "metadata": {},
     "output_type": "execute_result"
    }
   ],
   "source": [
    "# kept = ['problems with friends', \n",
    "#'ongoing depression',\n",
    "#'breakup with partner', \n",
    "#'academic pressure', \n",
    "#'job crisis', \n",
    "#'Issues with Parents', \n",
    "#'Procrastination', \n",
    "#'Alcohol Abuse',\n",
    "#'Sleep Problems',\n",
    "#'Appearance Anxiety', \n",
    "#'School Bullying', \n",
    "#'Issues with Children'   ]\n",
    "import numpy as np\n",
    "sentence = \"I cannot sleep last night\"\n",
    "es = torch.tensor([tokenizer.encode(sentence)])\n",
    "msk = torch.ones(len(es[0])).unsqueeze(0)\n",
    "es = es.to(device)\n",
    "msk = msk.to(device)\n",
    "logits = classifier.forward(es,msk)\n",
    "logits"
   ]
  },
  {
   "cell_type": "code",
   "execution_count": null,
   "metadata": {},
   "outputs": [],
   "source": []
  }
 ],
 "metadata": {
  "kernelspec": {
   "display_name": "Python 3",
   "language": "python",
   "name": "python3"
  },
  "language_info": {
   "codemirror_mode": {
    "name": "ipython",
    "version": 3
   },
   "file_extension": ".py",
   "mimetype": "text/x-python",
   "name": "python",
   "nbconvert_exporter": "python",
   "pygments_lexer": "ipython3",
   "version": "3.7.6"
  }
 },
 "nbformat": 4,
 "nbformat_minor": 4
}
